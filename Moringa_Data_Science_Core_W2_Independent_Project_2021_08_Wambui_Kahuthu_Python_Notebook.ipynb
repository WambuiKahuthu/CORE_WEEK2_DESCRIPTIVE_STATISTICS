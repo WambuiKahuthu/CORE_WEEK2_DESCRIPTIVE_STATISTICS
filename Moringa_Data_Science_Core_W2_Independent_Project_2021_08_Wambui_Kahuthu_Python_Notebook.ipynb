{
  "nbformat": 4,
  "nbformat_minor": 0,
  "metadata": {
    "colab": {
      "name": "Moringa_Data_Science_Core_W2_Independent_Project_2021_08_Wambui_Kahuthu_Python_Notebook",
      "provenance": [],
      "collapsed_sections": [],
      "toc_visible": true,
      "authorship_tag": "ABX9TyPVw8f5JQdpt2Xxy7RrUB/b",
      "include_colab_link": true
    },
    "kernelspec": {
      "name": "python3",
      "display_name": "Python 3"
    }
  },
  "cells": [
    {
      "cell_type": "markdown",
      "metadata": {
        "id": "view-in-github",
        "colab_type": "text"
      },
      "source": [
        "<a href=\"https://colab.research.google.com/github/WambuiKahuthu/MORINGA_CORE_WEEK2_DESCRIPTIVE_STATISTICS/blob/main/Moringa_Data_Science_Core_W2_Independent_Project_2021_08_Wambui_Kahuthu_Python_Notebook.ipynb\" target=\"_parent\"><img src=\"https://colab.research.google.com/assets/colab-badge.svg\" alt=\"Open In Colab\"/></a>"
      ]
    },
    {
      "cell_type": "markdown",
      "metadata": {
        "id": "A30wFFjM5dnS"
      },
      "source": [
        "# Analysing Factors that Determine Access to Bank Accounts for Induividuals in Kenya, Uganda, Tanzania, and Rwanda"
      ]
    },
    {
      "cell_type": "markdown",
      "metadata": {
        "id": "eX_2uKgq5sni"
      },
      "source": [
        "## Defining the Question"
      ]
    },
    {
      "cell_type": "markdown",
      "metadata": {
        "id": "R7xf1yD56-Fb"
      },
      "source": [
        "### a. Specifying the data analytic question\r\n",
        "> The research problem is to figure out how we can predict which individuals are most likely to have or use a bank account."
      ]
    },
    {
      "cell_type": "markdown",
      "metadata": {
        "id": "b5dK7ydz7IN0"
      },
      "source": [
        "### b. Defining the metric for success       \r\n",
        "The project will be considered successful when we create machine learning models with high accuracy scores"
      ]
    },
    {
      "cell_type": "markdown",
      "metadata": {
        "id": "yUVXwaKf7PgM"
      },
      "source": [
        "### c. Understanding the context     \r\n",
        "Financial Inclusion remains one of the main obstacles to economic and human development in Africa. For example, across Kenya, Rwanda, Tanzania, and Uganda only 9.1 million adults (or 13.9% of the adult population) have access to or use a commercial bank account. Our solution will help provide an indication of the state of financial inclusion in Kenya, Rwanda, Tanzania, and Uganda, while providing insights into some of the key demographic factors that might drive individuals’ financial outcomes."
      ]
    },
    {
      "cell_type": "markdown",
      "metadata": {
        "id": "VpJ_eXj37UzT"
      },
      "source": [
        "### d. Recording the experimental design     \r\n",
        "In order to work on the above problem, we need to do the following:\r\n",
        "\r\n",
        "a. Acquire the dataset with appropriate data for our project     \r\n",
        "b. Find and deal with outliers, anomalies, and missing data within the dataset     \r\n",
        "c. Perform univariate, bivariate and multivariate analysis while recording our observations     \r\n",
        "d. Implement the solution by performing the respective analysisprincipal component analysis, and discriminant analysis     \r\n",
        "e. Challenge your solution by providing insights on how you can make improvements"
      ]
    },
    {
      "cell_type": "markdown",
      "metadata": {
        "id": "SwLPQOMH7iRK"
      },
      "source": [
        "### e. Data relevance\r\n",
        "The relevant dataset for this project is one that contains data on the bank usage of individuals in Kenya, Rwanda, Tanzania, and Uganda while specifying different demographic factors that may influence their financial outcomes"
      ]
    },
    {
      "cell_type": "markdown",
      "metadata": {
        "id": "YA1a2oOn7wGv"
      },
      "source": [
        "## 2. Loading Our Libraries"
      ]
    },
    {
      "cell_type": "code",
      "metadata": {
        "id": "eyKaD90jl2Mz"
      },
      "source": [
        "# Importing Numpy\r\n",
        "import numpy as np\r\n",
        "\r\n",
        "# Importing Pandas\r\n",
        "import pandas as pd\r\n",
        "\r\n",
        "# Importing Matplotlib\r\n",
        "import matplotlib.pyplot as plt\r\n",
        "\r\n",
        "# Importing Seaborn\r\n",
        "import seaborn as sns"
      ],
      "execution_count": 90,
      "outputs": []
    },
    {
      "cell_type": "markdown",
      "metadata": {
        "id": "vR6RZ53N71Ta"
      },
      "source": [
        "## 3. Reading the Data"
      ]
    },
    {
      "cell_type": "code",
      "metadata": {
        "id": "aaDP_oahoIs_"
      },
      "source": [
        "# Loading csv file from the given url http://bit.ly/FinancialDataset\r\n",
        "\r\n",
        "financial_df = pd.read_csv('http://bit.ly/FinancialDataset')"
      ],
      "execution_count": 182,
      "outputs": []
    },
    {
      "cell_type": "markdown",
      "metadata": {
        "id": "5a6QE2w38B9f"
      },
      "source": [
        "## 4. Checking the Data"
      ]
    },
    {
      "cell_type": "code",
      "metadata": {
        "colab": {
          "base_uri": "https://localhost:8080/",
          "height": 367
        },
        "id": "JrDRgxxJuxB3",
        "outputId": "d2831391-eb93-4460-dd50-f544ae27575e"
      },
      "source": [
        "# Previewing the top of our dataset\r\n",
        "\r\n",
        "financial_df.head()"
      ],
      "execution_count": 183,
      "outputs": [
        {
          "output_type": "execute_result",
          "data": {
            "text/html": [
              "<div>\n",
              "<style scoped>\n",
              "    .dataframe tbody tr th:only-of-type {\n",
              "        vertical-align: middle;\n",
              "    }\n",
              "\n",
              "    .dataframe tbody tr th {\n",
              "        vertical-align: top;\n",
              "    }\n",
              "\n",
              "    .dataframe thead th {\n",
              "        text-align: right;\n",
              "    }\n",
              "</style>\n",
              "<table border=\"1\" class=\"dataframe\">\n",
              "  <thead>\n",
              "    <tr style=\"text-align: right;\">\n",
              "      <th></th>\n",
              "      <th>country</th>\n",
              "      <th>year</th>\n",
              "      <th>uniqueid</th>\n",
              "      <th>Has a Bank account</th>\n",
              "      <th>Type of Location</th>\n",
              "      <th>Cell Phone Access</th>\n",
              "      <th>household_size</th>\n",
              "      <th>Respondent Age</th>\n",
              "      <th>gender_of_respondent</th>\n",
              "      <th>The relathip with head</th>\n",
              "      <th>marital_status</th>\n",
              "      <th>Level of Educuation</th>\n",
              "      <th>Type of Job</th>\n",
              "    </tr>\n",
              "  </thead>\n",
              "  <tbody>\n",
              "    <tr>\n",
              "      <th>0</th>\n",
              "      <td>Kenya</td>\n",
              "      <td>2018</td>\n",
              "      <td>uniqueid_1</td>\n",
              "      <td>Yes</td>\n",
              "      <td>Rural</td>\n",
              "      <td>Yes</td>\n",
              "      <td>3.0</td>\n",
              "      <td>24.0</td>\n",
              "      <td>Female</td>\n",
              "      <td>Spouse</td>\n",
              "      <td>Married/Living together</td>\n",
              "      <td>Secondary education</td>\n",
              "      <td>Self employed</td>\n",
              "    </tr>\n",
              "    <tr>\n",
              "      <th>1</th>\n",
              "      <td>Kenya</td>\n",
              "      <td>2018</td>\n",
              "      <td>uniqueid_2</td>\n",
              "      <td>No</td>\n",
              "      <td>Rural</td>\n",
              "      <td>No</td>\n",
              "      <td>5.0</td>\n",
              "      <td>70.0</td>\n",
              "      <td>Female</td>\n",
              "      <td>Head of Household</td>\n",
              "      <td>Widowed</td>\n",
              "      <td>No formal education</td>\n",
              "      <td>Government Dependent</td>\n",
              "    </tr>\n",
              "    <tr>\n",
              "      <th>2</th>\n",
              "      <td>Kenya</td>\n",
              "      <td>2018</td>\n",
              "      <td>uniqueid_3</td>\n",
              "      <td>Yes</td>\n",
              "      <td>Urban</td>\n",
              "      <td>Yes</td>\n",
              "      <td>5.0</td>\n",
              "      <td>26.0</td>\n",
              "      <td>Male</td>\n",
              "      <td>Other relative</td>\n",
              "      <td>Single/Never Married</td>\n",
              "      <td>Vocational/Specialised training</td>\n",
              "      <td>Self employed</td>\n",
              "    </tr>\n",
              "    <tr>\n",
              "      <th>3</th>\n",
              "      <td>Kenya</td>\n",
              "      <td>2018</td>\n",
              "      <td>uniqueid_4</td>\n",
              "      <td>No</td>\n",
              "      <td>Rural</td>\n",
              "      <td>Yes</td>\n",
              "      <td>5.0</td>\n",
              "      <td>34.0</td>\n",
              "      <td>Female</td>\n",
              "      <td>Head of Household</td>\n",
              "      <td>Married/Living together</td>\n",
              "      <td>Primary education</td>\n",
              "      <td>Formally employed Private</td>\n",
              "    </tr>\n",
              "    <tr>\n",
              "      <th>4</th>\n",
              "      <td>Kenya</td>\n",
              "      <td>2018</td>\n",
              "      <td>uniqueid_5</td>\n",
              "      <td>No</td>\n",
              "      <td>Urban</td>\n",
              "      <td>No</td>\n",
              "      <td>8.0</td>\n",
              "      <td>26.0</td>\n",
              "      <td>Male</td>\n",
              "      <td>Child</td>\n",
              "      <td>Single/Never Married</td>\n",
              "      <td>Primary education</td>\n",
              "      <td>Informally employed</td>\n",
              "    </tr>\n",
              "  </tbody>\n",
              "</table>\n",
              "</div>"
            ],
            "text/plain": [
              "  country  year  ...              Level of Educuation                Type of Job\n",
              "0   Kenya  2018  ...              Secondary education              Self employed\n",
              "1   Kenya  2018  ...              No formal education       Government Dependent\n",
              "2   Kenya  2018  ...  Vocational/Specialised training              Self employed\n",
              "3   Kenya  2018  ...                Primary education  Formally employed Private\n",
              "4   Kenya  2018  ...                Primary education        Informally employed\n",
              "\n",
              "[5 rows x 13 columns]"
            ]
          },
          "metadata": {
            "tags": []
          },
          "execution_count": 183
        }
      ]
    },
    {
      "cell_type": "code",
      "metadata": {
        "colab": {
          "base_uri": "https://localhost:8080/",
          "height": 351
        },
        "id": "svLd0uH70ME4",
        "outputId": "f06a34fe-264e-41fe-84cb-05422ac3e168"
      },
      "source": [
        "# Previewing the bottom of our dataset\r\n",
        "\r\n",
        "financial_df.tail()"
      ],
      "execution_count": 184,
      "outputs": [
        {
          "output_type": "execute_result",
          "data": {
            "text/html": [
              "<div>\n",
              "<style scoped>\n",
              "    .dataframe tbody tr th:only-of-type {\n",
              "        vertical-align: middle;\n",
              "    }\n",
              "\n",
              "    .dataframe tbody tr th {\n",
              "        vertical-align: top;\n",
              "    }\n",
              "\n",
              "    .dataframe thead th {\n",
              "        text-align: right;\n",
              "    }\n",
              "</style>\n",
              "<table border=\"1\" class=\"dataframe\">\n",
              "  <thead>\n",
              "    <tr style=\"text-align: right;\">\n",
              "      <th></th>\n",
              "      <th>country</th>\n",
              "      <th>year</th>\n",
              "      <th>uniqueid</th>\n",
              "      <th>Has a Bank account</th>\n",
              "      <th>Type of Location</th>\n",
              "      <th>Cell Phone Access</th>\n",
              "      <th>household_size</th>\n",
              "      <th>Respondent Age</th>\n",
              "      <th>gender_of_respondent</th>\n",
              "      <th>The relathip with head</th>\n",
              "      <th>marital_status</th>\n",
              "      <th>Level of Educuation</th>\n",
              "      <th>Type of Job</th>\n",
              "    </tr>\n",
              "  </thead>\n",
              "  <tbody>\n",
              "    <tr>\n",
              "      <th>23519</th>\n",
              "      <td>Uganda</td>\n",
              "      <td>2018</td>\n",
              "      <td>uniqueid_2113</td>\n",
              "      <td>No</td>\n",
              "      <td>Rural</td>\n",
              "      <td>Yes</td>\n",
              "      <td>4.0</td>\n",
              "      <td>48.0</td>\n",
              "      <td>Female</td>\n",
              "      <td>Head of Household</td>\n",
              "      <td>Divorced/Seperated</td>\n",
              "      <td>No formal education</td>\n",
              "      <td>Other Income</td>\n",
              "    </tr>\n",
              "    <tr>\n",
              "      <th>23520</th>\n",
              "      <td>Uganda</td>\n",
              "      <td>2018</td>\n",
              "      <td>uniqueid_2114</td>\n",
              "      <td>No</td>\n",
              "      <td>Rural</td>\n",
              "      <td>Yes</td>\n",
              "      <td>2.0</td>\n",
              "      <td>27.0</td>\n",
              "      <td>Female</td>\n",
              "      <td>Head of Household</td>\n",
              "      <td>Single/Never Married</td>\n",
              "      <td>Secondary education</td>\n",
              "      <td>Other Income</td>\n",
              "    </tr>\n",
              "    <tr>\n",
              "      <th>23521</th>\n",
              "      <td>Uganda</td>\n",
              "      <td>2018</td>\n",
              "      <td>uniqueid_2115</td>\n",
              "      <td>No</td>\n",
              "      <td>Rural</td>\n",
              "      <td>Yes</td>\n",
              "      <td>5.0</td>\n",
              "      <td>27.0</td>\n",
              "      <td>Female</td>\n",
              "      <td>Parent</td>\n",
              "      <td>Widowed</td>\n",
              "      <td>Primary education</td>\n",
              "      <td>Other Income</td>\n",
              "    </tr>\n",
              "    <tr>\n",
              "      <th>23522</th>\n",
              "      <td>Uganda</td>\n",
              "      <td>2018</td>\n",
              "      <td>uniqueid_2116</td>\n",
              "      <td>No</td>\n",
              "      <td>Urban</td>\n",
              "      <td>Yes</td>\n",
              "      <td>7.0</td>\n",
              "      <td>30.0</td>\n",
              "      <td>Female</td>\n",
              "      <td>Parent</td>\n",
              "      <td>Divorced/Seperated</td>\n",
              "      <td>Secondary education</td>\n",
              "      <td>Self employed</td>\n",
              "    </tr>\n",
              "    <tr>\n",
              "      <th>23523</th>\n",
              "      <td>Uganda</td>\n",
              "      <td>2018</td>\n",
              "      <td>uniqueid_2117</td>\n",
              "      <td>No</td>\n",
              "      <td>Rural</td>\n",
              "      <td>Yes</td>\n",
              "      <td>10.0</td>\n",
              "      <td>20.0</td>\n",
              "      <td>Male</td>\n",
              "      <td>Child</td>\n",
              "      <td>Single/Never Married</td>\n",
              "      <td>Secondary education</td>\n",
              "      <td>No Income</td>\n",
              "    </tr>\n",
              "  </tbody>\n",
              "</table>\n",
              "</div>"
            ],
            "text/plain": [
              "      country  year  ...  Level of Educuation    Type of Job\n",
              "23519  Uganda  2018  ...  No formal education   Other Income\n",
              "23520  Uganda  2018  ...  Secondary education   Other Income\n",
              "23521  Uganda  2018  ...    Primary education   Other Income\n",
              "23522  Uganda  2018  ...  Secondary education  Self employed\n",
              "23523  Uganda  2018  ...  Secondary education      No Income\n",
              "\n",
              "[5 rows x 13 columns]"
            ]
          },
          "metadata": {
            "tags": []
          },
          "execution_count": 184
        }
      ]
    },
    {
      "cell_type": "code",
      "metadata": {
        "colab": {
          "base_uri": "https://localhost:8080/"
        },
        "id": "LXUALV8V0QJl",
        "outputId": "71c7ec20-2846-4797-e240-76c736ce391b"
      },
      "source": [
        "# Checking general information of the dataframe\r\n",
        "\r\n",
        "financial_df.info()\r\n",
        "\r\n",
        "# Displays number of entries and columns, column names, number of non-null values in every column, data types of each column, distribution of each data type and memory usage of the dataframe"
      ],
      "execution_count": 185,
      "outputs": [
        {
          "output_type": "stream",
          "text": [
            "<class 'pandas.core.frame.DataFrame'>\n",
            "RangeIndex: 23524 entries, 0 to 23523\n",
            "Data columns (total 13 columns):\n",
            " #   Column                  Non-Null Count  Dtype  \n",
            "---  ------                  --------------  -----  \n",
            " 0   country                 23510 non-null  object \n",
            " 1   year                    23524 non-null  int64  \n",
            " 2   uniqueid                23524 non-null  object \n",
            " 3   Has a Bank account      23488 non-null  object \n",
            " 4   Type of Location        23509 non-null  object \n",
            " 5   Cell Phone Access       23513 non-null  object \n",
            " 6   household_size          23496 non-null  float64\n",
            " 7   Respondent Age          23490 non-null  float64\n",
            " 8   gender_of_respondent    23490 non-null  object \n",
            " 9   The relathip with head  23520 non-null  object \n",
            " 10  marital_status          23492 non-null  object \n",
            " 11  Level of Educuation     23495 non-null  object \n",
            " 12  Type of Job             23494 non-null  object \n",
            "dtypes: float64(2), int64(1), object(10)\n",
            "memory usage: 2.3+ MB\n"
          ],
          "name": "stdout"
        }
      ]
    },
    {
      "cell_type": "markdown",
      "metadata": {
        "id": "jsfw1Tzk8IHd"
      },
      "source": [
        "## 5. External Data Source Validation"
      ]
    },
    {
      "cell_type": "code",
      "metadata": {
        "colab": {
          "base_uri": "https://localhost:8080/"
        },
        "id": "6H5h5lC87-Fu",
        "outputId": "f11e07a7-5b47-4b14-e83d-9d34fac8de64"
      },
      "source": [
        "# Checking the proportions of bank usage among the individuals\r\n",
        "financial_df['Has a Bank account'].value_counts(normalize=True)"
      ],
      "execution_count": 189,
      "outputs": [
        {
          "output_type": "execute_result",
          "data": {
            "text/plain": [
              "No     0.85912\n",
              "Yes    0.14088\n",
              "Name: Has a Bank account, dtype: float64"
            ]
          },
          "metadata": {
            "tags": []
          },
          "execution_count": 189
        }
      ]
    },
    {
      "cell_type": "markdown",
      "metadata": {
        "id": "aM3Zdd_1-EhS"
      },
      "source": [
        "External data from [link](https://moringaschool.instructure.com/courses/352/pages/friday-independent-project-week-2?module_item_id=27840https://) indicates that only 13.9% of the population in East African have or access bank accounts. Our data shows that 14.08% of the individuals in the sample population have or access a bank account. The difference is only 0.18%, meaning that data in our dataset is valid"
      ]
    },
    {
      "cell_type": "markdown",
      "metadata": {
        "id": "A6gQFIH7I-h9"
      },
      "source": [
        "At this point we compare our data set with "
      ]
    },
    {
      "cell_type": "markdown",
      "metadata": {
        "id": "YABZ-FqS8Q2I"
      },
      "source": [
        "## 6. Cleaning the Data"
      ]
    },
    {
      "cell_type": "code",
      "metadata": {
        "colab": {
          "base_uri": "https://localhost:8080/"
        },
        "id": "-5tWiUOZU3Gp",
        "outputId": "f4821cf6-a2e3-400e-a974-33a8c8373448"
      },
      "source": [
        "# Checking for null values\r\n",
        "\r\n",
        "financial_df.isnull().sum()"
      ],
      "execution_count": 95,
      "outputs": [
        {
          "output_type": "execute_result",
          "data": {
            "text/plain": [
              "country                   14\n",
              "year                       0\n",
              "uniqueid                   0\n",
              "Has a Bank account        36\n",
              "Type of Location          15\n",
              "Cell Phone Access         11\n",
              "household_size            28\n",
              "Respondent Age            34\n",
              "gender_of_respondent      34\n",
              "The relathip with head     4\n",
              "marital_status            32\n",
              "Level of Educuation       29\n",
              "Type of Job               30\n",
              "dtype: int64"
            ]
          },
          "metadata": {
            "tags": []
          },
          "execution_count": 95
        }
      ]
    },
    {
      "cell_type": "code",
      "metadata": {
        "id": "lBpxwVXGU5iY"
      },
      "source": [
        "# Dealing with the missing values\r\n",
        "# \r\n",
        "financial_df = financial_df.dropna()"
      ],
      "execution_count": 96,
      "outputs": []
    },
    {
      "cell_type": "code",
      "metadata": {
        "colab": {
          "base_uri": "https://localhost:8080/"
        },
        "id": "-Gkxbv0wVGQA",
        "outputId": "9a8f7976-5c4b-4be3-b61e-792882025076"
      },
      "source": [
        "# Determining the sum of duplicated values\r\n",
        "financial_df.duplicated().sum().sum()"
      ],
      "execution_count": 97,
      "outputs": [
        {
          "output_type": "execute_result",
          "data": {
            "text/plain": [
              "0"
            ]
          },
          "metadata": {
            "tags": []
          },
          "execution_count": 97
        }
      ]
    },
    {
      "cell_type": "code",
      "metadata": {
        "colab": {
          "base_uri": "https://localhost:8080/"
        },
        "id": "Q8rNSSy9VSzp",
        "outputId": "8208216a-b9ae-4e27-c38c-98f47697b926"
      },
      "source": [
        "# Standardizing column names\r\n",
        "# Removing white spaces, lowering the case, replacing spaces with _, and removing brackets \r\n",
        "financial_df.columns = financial_df.columns.str.strip().str.lower().str.replace(' ', '_').str.replace('(', '').str.replace(')', '')\r\n",
        "\r\n",
        "# Renaming some column names\r\n",
        "financial_df.rename({'has_a_bank_account': 'bank_account', 'type_of_location': 'location', 'cell_phone_access' : 'phone', 'respondent_age':'age', 'gender_of_respondent':'gender', 'the_relathip_with_head' : 'relationship_with_head', 'level_of_educuation' : 'education_level'}, axis=1, inplace=True)\r\n",
        "\r\n",
        "# Dispalying the column names\r\n",
        "financial_df.columns"
      ],
      "execution_count": 98,
      "outputs": [
        {
          "output_type": "execute_result",
          "data": {
            "text/plain": [
              "Index(['country', 'year', 'uniqueid', 'bank_account', 'location', 'phone',\n",
              "       'household_size', 'age', 'gender', 'relationship_with_head',\n",
              "       'marital_status', 'education_level', 'type_of_job'],\n",
              "      dtype='object')"
            ]
          },
          "metadata": {
            "tags": []
          },
          "execution_count": 98
        }
      ]
    },
    {
      "cell_type": "code",
      "metadata": {
        "colab": {
          "base_uri": "https://localhost:8080/",
          "height": 887
        },
        "id": "kVK-BtJz0j_L",
        "outputId": "a7f2bc4b-8e11-4f09-c43a-78af27da749b"
      },
      "source": [
        "# Checking for Outliers\r\n",
        "col_names= ['year', 'household_size', 'age',]\r\n",
        "\r\n",
        "fig, ax = plt.subplots(len(col_names), figsize=(10,15))\r\n",
        "\r\n",
        "for i, col_val in enumerate(col_names):\r\n",
        "\r\n",
        "    sns.boxplot(y=financial_df[col_val], ax=ax[i])\r\n",
        "    ax[i].set_title('Box plot for {}'.format(col_val), fontsize=14)\r\n",
        "    ax[i].set_xlabel(col_val, fontsize=12)"
      ],
      "execution_count": 99,
      "outputs": [
        {
          "output_type": "display_data",
          "data": {
            "image/png": "[encoded data removed]",
            "text/plain": [
              "<Figure size 720x1080 with 3 Axes>"
            ]
          },
          "metadata": {
            "tags": [],
            "needs_background": "light"
          }
        }
      ]
    },
    {
      "cell_type": "markdown",
      "metadata": {
        "id": "SsKzQSLCfyST"
      },
      "source": [
        "Outliers in the 'year' column may indicate a data entry error as the years data collection in the different countries are from 2016 to 2018; therefore we will remove them. In as much as the outliers in 'age' and 'household_size' columns may be due to the diversity of the respondents, they will tremendously affect the means, variances, and skewness of the variables; therefore we will remove them too. "
      ]
    },
    {
      "cell_type": "code",
      "metadata": {
        "id": "e1Kc5qOsfMms"
      },
      "source": [
        "# Removing outliers\r\n",
        "Q1 = financial_df.quantile(0.25)\r\n",
        "Q3 = financial_df.quantile(0.75)\r\n",
        "IQR = Q3 - Q1\r\n",
        "financial_df = financial_df[~((financial_df < (Q1 - 1.5 * IQR)) | (financial_df > (Q3 + 1.5 * IQR))).any(axis=1)]"
      ],
      "execution_count": 100,
      "outputs": []
    },
    {
      "cell_type": "markdown",
      "metadata": {
        "id": "kyAg_t3x6EsR"
      },
      "source": [
        "Checking for anomalies in the columns with categorical variables"
      ]
    },
    {
      "cell_type": "code",
      "metadata": {
        "colab": {
          "base_uri": "https://localhost:8080/"
        },
        "id": "uJybHvYTX61B",
        "outputId": "962d6193-9c24-42b5-e598-ca209f5b7a67"
      },
      "source": [
        "# Finding out the unique values in 'age' column\r\n",
        "financial_df['age'].unique()"
      ],
      "execution_count": 101,
      "outputs": [
        {
          "output_type": "execute_result",
          "data": {
            "text/plain": [
              "array([24., 70., 26., 34., 32., 42., 54., 76., 40., 69., 64., 31., 38.,\n",
              "       47., 27., 48., 25., 21., 18., 22., 58., 55., 62., 29., 35., 45.,\n",
              "       67., 19., 80., 66., 50., 33., 28., 51., 16., 17., 30., 37., 59.,\n",
              "       65., 46., 56., 52., 43., 49., 44., 72., 53., 63., 39., 81., 78.,\n",
              "       36., 20., 60., 23., 71., 57., 68., 41., 61., 75., 73., 74., 77.,\n",
              "       82., 79., 83.])"
            ]
          },
          "metadata": {
            "tags": []
          },
          "execution_count": 101
        }
      ]
    },
    {
      "cell_type": "markdown",
      "metadata": {
        "id": "_0S3t01DYQRv"
      },
      "source": [
        "The 'age' column has no anomaly"
      ]
    },
    {
      "cell_type": "code",
      "metadata": {
        "colab": {
          "base_uri": "https://localhost:8080/"
        },
        "id": "FCxLCSeKYIL6",
        "outputId": "bd202acc-e1a0-412b-96ee-9ea627b711d5"
      },
      "source": [
        "# Finding out the unique values in 'household_size' column\r\n",
        "financial_df['household_size'].unique()"
      ],
      "execution_count": 102,
      "outputs": [
        {
          "output_type": "execute_result",
          "data": {
            "text/plain": [
              "array([3., 5., 8., 7., 1., 6., 4., 2., 9., 0.])"
            ]
          },
          "metadata": {
            "tags": []
          },
          "execution_count": 102
        }
      ]
    },
    {
      "cell_type": "markdown",
      "metadata": {
        "id": "WsypScq1YWa_"
      },
      "source": [
        "0 is an anomaly in the 'house_hold' size column"
      ]
    },
    {
      "cell_type": "code",
      "metadata": {
        "colab": {
          "base_uri": "https://localhost:8080/"
        },
        "id": "5KRWIHZGYwCi",
        "outputId": "ddb56f99-99c8-45eb-f864-8965c33cbb22"
      },
      "source": [
        "# Finding out the number of recors with '0' as the household_size\r\n",
        "financial_df[(financial_df['household_size']==0)].shape"
      ],
      "execution_count": 103,
      "outputs": [
        {
          "output_type": "execute_result",
          "data": {
            "text/plain": [
              "(27, 13)"
            ]
          },
          "metadata": {
            "tags": []
          },
          "execution_count": 103
        }
      ]
    },
    {
      "cell_type": "markdown",
      "metadata": {
        "id": "ccIOIXOeZR6D"
      },
      "source": [
        "Since 27 is a very small number compared to the total number of records, we can remove the records with '0' in the 'household_size' column in order to have an anomaly free dataset while still maintaining the quality of the data"
      ]
    },
    {
      "cell_type": "code",
      "metadata": {
        "id": "rA85sRPcZ7JE"
      },
      "source": [
        "# Dropping the entries with '0' in 'household_size' column\r\n",
        "financial_df.drop(financial_df.index[financial_df['household_size'] == 0], inplace = True)"
      ],
      "execution_count": 104,
      "outputs": []
    },
    {
      "cell_type": "code",
      "metadata": {
        "id": "tpZcKCDh0meL",
        "colab": {
          "base_uri": "https://localhost:8080/"
        },
        "outputId": "9edf3c83-a618-4b3d-decb-e2262db9cc81"
      },
      "source": [
        "# Finding out the unique values in the 'Country' column\r\n",
        "financial_df['country'].unique()"
      ],
      "execution_count": 105,
      "outputs": [
        {
          "output_type": "execute_result",
          "data": {
            "text/plain": [
              "array(['Kenya', 'Rwanda', 'Tanzania', 'Uganda'], dtype=object)"
            ]
          },
          "metadata": {
            "tags": []
          },
          "execution_count": 105
        }
      ]
    },
    {
      "cell_type": "markdown",
      "metadata": {
        "id": "l6v2azzB7j4q"
      },
      "source": [
        "The 'country' column has no anomaly\r\n"
      ]
    },
    {
      "cell_type": "code",
      "metadata": {
        "colab": {
          "base_uri": "https://localhost:8080/"
        },
        "id": "LkMhNrIP7vEh",
        "outputId": "dd3fe4a3-a61a-4290-bd54-b27d6bf44597"
      },
      "source": [
        "# Finding out the unique values in 'bank_account' column\r\n",
        "financial_df['bank_account'].unique()\r\n"
      ],
      "execution_count": 106,
      "outputs": [
        {
          "output_type": "execute_result",
          "data": {
            "text/plain": [
              "array(['Yes', 'No'], dtype=object)"
            ]
          },
          "metadata": {
            "tags": []
          },
          "execution_count": 106
        }
      ]
    },
    {
      "cell_type": "markdown",
      "metadata": {
        "id": "2H8HdYWIBaIx"
      },
      "source": [
        "The 'bank_account' column has no anomaly"
      ]
    },
    {
      "cell_type": "code",
      "metadata": {
        "colab": {
          "base_uri": "https://localhost:8080/"
        },
        "id": "wFvj0EAw-GV1",
        "outputId": "0199bfd5-63ca-43b3-968c-1143af801525"
      },
      "source": [
        "# Finding out the unique values in 'location' column\r\n",
        "financial_df['location'].unique()"
      ],
      "execution_count": 107,
      "outputs": [
        {
          "output_type": "execute_result",
          "data": {
            "text/plain": [
              "array(['Rural', 'Urban'], dtype=object)"
            ]
          },
          "metadata": {
            "tags": []
          },
          "execution_count": 107
        }
      ]
    },
    {
      "cell_type": "markdown",
      "metadata": {
        "id": "uhI9kDoHByUc"
      },
      "source": [
        "The 'location' column has no anomaly"
      ]
    },
    {
      "cell_type": "code",
      "metadata": {
        "colab": {
          "base_uri": "https://localhost:8080/"
        },
        "id": "Z5CvLwa9Bxum",
        "outputId": "7f6cccb8-6c16-48de-dbc1-65be8dc2eb4a"
      },
      "source": [
        "# Finding out the unique values in 'phone' column\r\n",
        "financial_df['phone'].unique()"
      ],
      "execution_count": 108,
      "outputs": [
        {
          "output_type": "execute_result",
          "data": {
            "text/plain": [
              "array(['Yes', 'No'], dtype=object)"
            ]
          },
          "metadata": {
            "tags": []
          },
          "execution_count": 108
        }
      ]
    },
    {
      "cell_type": "markdown",
      "metadata": {
        "id": "KgOUD-I6Chgo"
      },
      "source": [
        "The 'phone' column has no anomaly"
      ]
    },
    {
      "cell_type": "code",
      "metadata": {
        "colab": {
          "base_uri": "https://localhost:8080/"
        },
        "id": "kFYsfKtICnz4",
        "outputId": "ce2e8f5c-30c5-4c0e-9df2-d4a7ff001277"
      },
      "source": [
        "# Finding out the unique values in 'gender' column\r\n",
        "financial_df['gender'].unique()"
      ],
      "execution_count": 109,
      "outputs": [
        {
          "output_type": "execute_result",
          "data": {
            "text/plain": [
              "array(['Female', 'Male'], dtype=object)"
            ]
          },
          "metadata": {
            "tags": []
          },
          "execution_count": 109
        }
      ]
    },
    {
      "cell_type": "markdown",
      "metadata": {
        "id": "SZXeJe-eC4Ts"
      },
      "source": [
        "The 'gender' column has no anomaly"
      ]
    },
    {
      "cell_type": "code",
      "metadata": {
        "colab": {
          "base_uri": "https://localhost:8080/"
        },
        "id": "z61IEb0RC-nB",
        "outputId": "5a8c63cc-7ad6-4b31-dfcf-a047b8511056"
      },
      "source": [
        "# Finding out the unique values in 'relationship_with_head' column\r\n",
        "financial_df['relationship_with_head'].unique()"
      ],
      "execution_count": 110,
      "outputs": [
        {
          "output_type": "execute_result",
          "data": {
            "text/plain": [
              "array(['Spouse', 'Head of Household', 'Other relative', 'Child', 'Parent',\n",
              "       'Other non-relatives'], dtype=object)"
            ]
          },
          "metadata": {
            "tags": []
          },
          "execution_count": 110
        }
      ]
    },
    {
      "cell_type": "markdown",
      "metadata": {
        "id": "QrP4o7NAD0ME"
      },
      "source": [
        "The 'relationship_with_head' column has no anomaly"
      ]
    },
    {
      "cell_type": "code",
      "metadata": {
        "colab": {
          "base_uri": "https://localhost:8080/"
        },
        "id": "Qs9z9G7XDS8Z",
        "outputId": "28ca3c86-2af5-494d-e0a5-7f4e1755a405"
      },
      "source": [
        "# Finding out the unique values in 'marital_status' column\r\n",
        "financial_df['marital_status'].unique()"
      ],
      "execution_count": 111,
      "outputs": [
        {
          "output_type": "execute_result",
          "data": {
            "text/plain": [
              "array(['Married/Living together', 'Widowed', 'Single/Never Married',\n",
              "       'Divorced/Seperated', 'Dont know'], dtype=object)"
            ]
          },
          "metadata": {
            "tags": []
          },
          "execution_count": 111
        }
      ]
    },
    {
      "cell_type": "markdown",
      "metadata": {
        "id": "ZZTkTc2FD69c"
      },
      "source": [
        "The 'marital_status' column has no anomaly"
      ]
    },
    {
      "cell_type": "code",
      "metadata": {
        "colab": {
          "base_uri": "https://localhost:8080/"
        },
        "id": "f6x-gkEvEGg-",
        "outputId": "14289e96-d248-48a0-ca6c-c57109f8357e"
      },
      "source": [
        "# Finding out the unique values in 'education_level' column\r\n",
        "financial_df['education_level'].unique()"
      ],
      "execution_count": 112,
      "outputs": [
        {
          "output_type": "execute_result",
          "data": {
            "text/plain": [
              "array(['Secondary education', 'No formal education',\n",
              "       'Vocational/Specialised training', 'Primary education',\n",
              "       'Tertiary education', 'Other/Dont know/RTA', '6'], dtype=object)"
            ]
          },
          "metadata": {
            "tags": []
          },
          "execution_count": 112
        }
      ]
    },
    {
      "cell_type": "markdown",
      "metadata": {
        "id": "LzcYpAXLEcX3"
      },
      "source": [
        "'6' seems to be an anomaly in the 'education_level' column"
      ]
    },
    {
      "cell_type": "code",
      "metadata": {
        "colab": {
          "base_uri": "https://localhost:8080/"
        },
        "id": "i7OPKNNGFIdQ",
        "outputId": "a1573cef-b084-481d-bb91-770b8581affd"
      },
      "source": [
        "# Finding out the number of entries with '6' in the 'education_level' \r\n",
        "financial_df[(financial_df['education_level']=='6')].shape"
      ],
      "execution_count": 113,
      "outputs": [
        {
          "output_type": "execute_result",
          "data": {
            "text/plain": [
              "(25, 13)"
            ]
          },
          "metadata": {
            "tags": []
          },
          "execution_count": 113
        }
      ]
    },
    {
      "cell_type": "markdown",
      "metadata": {
        "id": "vhzYMTn9Gzmi"
      },
      "source": [
        "Since 25 is a very small number compared to the total number of records, we can remove the records with '6' in the 'education_level' column in order to have an anomaly free dataset while still maintaining the quality of the data"
      ]
    },
    {
      "cell_type": "code",
      "metadata": {
        "id": "NWIQhjJIGyAv"
      },
      "source": [
        "# Dropping the entries with '6' in 'education_level' column\r\n",
        "financial_df.drop(financial_df.index[financial_df['education_level'] == '6'], inplace = True)"
      ],
      "execution_count": 114,
      "outputs": []
    },
    {
      "cell_type": "code",
      "metadata": {
        "colab": {
          "base_uri": "https://localhost:8080/"
        },
        "id": "eQAE-dQXEQrG",
        "outputId": "4cb51d9f-576d-4bb9-b800-5210bb6263b5"
      },
      "source": [
        "# Finding out the unique values in 'gender' column\r\n",
        "financial_df['type_of_job'].unique()"
      ],
      "execution_count": 115,
      "outputs": [
        {
          "output_type": "execute_result",
          "data": {
            "text/plain": [
              "array(['Self employed', 'Government Dependent',\n",
              "       'Formally employed Private', 'Informally employed',\n",
              "       'Formally employed Government', 'Farming and Fishing',\n",
              "       'Remittance Dependent', 'Other Income',\n",
              "       'Dont Know/Refuse to answer', 'No Income'], dtype=object)"
            ]
          },
          "metadata": {
            "tags": []
          },
          "execution_count": 115
        }
      ]
    },
    {
      "cell_type": "markdown",
      "metadata": {
        "id": "vA6mSN8eIBUX"
      },
      "source": [
        "The 'type_of_job' column has no anomaly"
      ]
    },
    {
      "cell_type": "code",
      "metadata": {
        "id": "r1H5DSt3spyc"
      },
      "source": [
        "# Dropping irrelevant columns\r\n",
        "financial_df.drop(['year'], axis=1, inplace=True)"
      ],
      "execution_count": 116,
      "outputs": []
    },
    {
      "cell_type": "code",
      "metadata": {
        "colab": {
          "base_uri": "https://localhost:8080/"
        },
        "id": "rIHgkjrnJJ8i",
        "outputId": "edf64a9a-0745-42ca-b218-b064b58a2dc2"
      },
      "source": [
        "# Finding the number of records remaining after cleaning\r\n",
        "financial_df.shape"
      ],
      "execution_count": 117,
      "outputs": [
        {
          "output_type": "execute_result",
          "data": {
            "text/plain": [
              "(22673, 12)"
            ]
          },
          "metadata": {
            "tags": []
          },
          "execution_count": 117
        }
      ]
    },
    {
      "cell_type": "markdown",
      "metadata": {
        "id": "ddgxYYX28XVI"
      },
      "source": [
        "## 7. Exploratory Analyses"
      ]
    },
    {
      "cell_type": "markdown",
      "metadata": {
        "id": "UBysCjqN9BZQ"
      },
      "source": [
        "### a. Univariate analysis"
      ]
    },
    {
      "cell_type": "markdown",
      "metadata": {
        "id": "6ijG9BJZgWHZ"
      },
      "source": [
        "#### i. Categorical variables"
      ]
    },
    {
      "cell_type": "markdown",
      "metadata": {
        "id": "cPxi0m8qlIY7"
      },
      "source": [
        "#### Recommendation for effectively performing univariate analysis while working on the current problem.\r\n",
        "\r\n",
        "Univariate analysis is a form of data analysis where the data being analysed involves only one variable. In order to accomplish our objective of finding how we can predict which individuals are most likely to have or use a bank account, while performing univariate analysis, we will need to pick a variable from the dataset then subdivide the dataset into subdatasets based on the unique values of the selected variable. In each subset, we will pick 'bank_account' (the column that shows bank usage among the individuals in the subset) as our variable of interest and perform univariate analysis. For an example, we will pick education level as our variable for investigation, subdivide the dataset into subsets based on its unique entries then conduct univariate analysis in each subset with 'bank_account' being the variable of interest. This will help us know how likely an individual is to have a bank account based on his/her level of education.This  approach, even though taxing, could be applied on any of the other variables, i.e., type of job, age, gender of respondent, etc. \r\n",
        "\r\n",
        "\r\n"
      ]
    },
    {
      "cell_type": "markdown",
      "metadata": {
        "id": "MkglVx_boDJr"
      },
      "source": [
        "Understanding the individuals from whom data was collected"
      ]
    },
    {
      "cell_type": "code",
      "metadata": {
        "colab": {
          "base_uri": "https://localhost:8080/",
          "height": 316
        },
        "id": "CgCW5DPuoCDl",
        "outputId": "5a13d1db-7daf-4c8e-d293-83b85ed1cf22"
      },
      "source": [
        "# Creating a bar chart for the proportion of count of values in 'country' column\r\n",
        "\r\n",
        "#plotting a bar graph\r\n",
        "(financial_df['country'].value_counts(normalize=True)).plot.barh()\r\n",
        "\r\n",
        "# labelling the bar chart \r\n",
        "plt.title('Proportion of Individuals per Country', fontsize=15, y=1.015)\r\n",
        "# labelling the x axis \r\n",
        "plt.xlabel('Proportion of Individuals', fontsize=14, labelpad=15)\r\n",
        "# labelling the y axis\r\n",
        "plt.ylabel('Country', fontsize=14, labelpad=15)\r\n",
        "#display bar chart\r\n",
        "plt.show()"
      ],
      "execution_count": 118,
      "outputs": [
        {
          "output_type": "display_data",
          "data": {
            "image/png": "[encoded data removed]",
            "text/plain": [
              "<Figure size 432x288 with 1 Axes>"
            ]
          },
          "metadata": {
            "tags": [],
            "needs_background": "light"
          }
        }
      ]
    },
    {
      "cell_type": "markdown",
      "metadata": {
        "id": "nWNhlJGMohkD"
      },
      "source": [
        "37.47% of the individuals were from Rwanda, 28.20% from Tanzania, 25.88% from Kenya, and 8.45% from Uganda "
      ]
    },
    {
      "cell_type": "code",
      "metadata": {
        "colab": {
          "base_uri": "https://localhost:8080/",
          "height": 436
        },
        "id": "-DpbWxPL3QlY",
        "outputId": "9c1132e0-1be5-472d-e41f-91513fb41ae4"
      },
      "source": [
        "# Creating a pie chart of the percentage of count of values in 'gender' column\r\n",
        "\r\n",
        "# Finding the count of values of the elements in 'bank_account' column\r\n",
        "gender = financial_df.gender.value_counts()\r\n",
        "gender\r\n",
        "\r\n",
        "# Assigning the colums to 'element' and 'size' variables\r\n",
        "element = gender.values\r\n",
        "size = gender.index\r\n",
        "\r\n",
        "# Specifying the colors of the pie chart\r\n",
        "colors = ['pink', 'lightblue']\r\n",
        "\r\n",
        "# plotting the pie chart\r\n",
        "plt.figure(figsize = (5,5), dpi = 100)\r\n",
        "plt.pie(element, labels=size, colors=colors, autopct ='%1.1f%%', shadow =True, explode=(0.1,0), startangle = 90)\r\n",
        "plt.axis('equal')\r\n",
        "plt.title('Pie Chart of Gender Distribution')\r\n",
        "plt.show()"
      ],
      "execution_count": 119,
      "outputs": [
        {
          "output_type": "display_data",
          "data": {
            "image/png": "[encoded data removed]",
            "text/plain": [
              "<Figure size 500x500 with 1 Axes>"
            ]
          },
          "metadata": {
            "tags": []
          }
        }
      ]
    },
    {
      "cell_type": "markdown",
      "metadata": {
        "id": "fzYEKMsV4pPX"
      },
      "source": [
        "58.9% of respondents were female and 41.1% were male"
      ]
    },
    {
      "cell_type": "markdown",
      "metadata": {
        "id": "xLVWBp0umnjV"
      },
      "source": [
        "Let us find the overall usage of commercial banks by individuals in the sample population"
      ]
    },
    {
      "cell_type": "code",
      "metadata": {
        "colab": {
          "base_uri": "https://localhost:8080/",
          "height": 436
        },
        "id": "r8jXZdUG9TFC",
        "outputId": "eb6edd69-12cf-44f8-bab2-28ee0532200d"
      },
      "source": [
        "# Creating a pie chart of the percentage of count of values in 'bank_account' column\r\n",
        "\r\n",
        "# Finding the count of values of the elements in 'bank_account' column\r\n",
        "bank_usage = financial_df.bank_account.value_counts()\r\n",
        "bank_usage\r\n",
        "\r\n",
        "# Assigning the colums to 'element' and 'size' variables\r\n",
        "element = bank_usage.values\r\n",
        "size = bank_usage.index\r\n",
        "\r\n",
        "# Specifying the colors of the pie chart\r\n",
        "colors = ['lightblue', 'gray']\r\n",
        "\r\n",
        "# plotting the pie chart\r\n",
        "plt.figure(figsize = (5,5), dpi = 100)\r\n",
        "plt.pie(element, labels=size, colors=colors, autopct ='%1.1f%%', shadow =True, explode=(0.1,0), startangle = 90)\r\n",
        "plt.axis('equal')\r\n",
        "plt.title('Pie Chart of Usage of Bank Account')\r\n",
        "plt.show()\r\n"
      ],
      "execution_count": 120,
      "outputs": [
        {
          "output_type": "display_data",
          "data": {
            "image/png": "[encoded data removed]",
            "text/plain": [
              "<Figure size 500x500 with 1 Axes>"
            ]
          },
          "metadata": {
            "tags": []
          }
        }
      ]
    },
    {
      "cell_type": "markdown",
      "metadata": {
        "id": "Z4lbZ-gGETx0"
      },
      "source": [
        "Information prior to this analysis indicated that about 13.9% of the adult population in Kenya, Uganda, Tanzania and Rwanda have access to or use a commercial bank account. Our findings show that only 14.2% of the population sample have access to or use a commercial bank account. The difference is only 0.3% meaning that this sample can almost accurately represent the population."
      ]
    },
    {
      "cell_type": "markdown",
      "metadata": {
        "id": "mX2duF2tvPkq"
      },
      "source": [
        "Let us find the proportion of bank usage of the individuals per level of education"
      ]
    },
    {
      "cell_type": "code",
      "metadata": {
        "colab": {
          "base_uri": "https://localhost:8080/",
          "height": 316
        },
        "id": "dk3DqdHbvNyd",
        "outputId": "0b64a9e4-efe9-4d3c-9ff1-de1bf7ca3252"
      },
      "source": [
        "# Creating a bar chart for the proportion of count of values in 'education_level' column\r\n",
        "\r\n",
        "#plotting a bar graph\r\n",
        "(financial_df['education_level'].value_counts(normalize=True)).plot.barh()\r\n",
        "\r\n",
        "# labelling the bar chart \r\n",
        "plt.title('Proportion of Individuals per Level of Education', fontsize=15, y=1.015)\r\n",
        "# labelling the x axis \r\n",
        "plt.xlabel('Proportion of Individuals', fontsize=14, labelpad=15)\r\n",
        "# labelling the y axis\r\n",
        "plt.ylabel('Level of Education', fontsize=14, labelpad=15)\r\n",
        "#display bar chart\r\n",
        "plt.show()"
      ],
      "execution_count": 121,
      "outputs": [
        {
          "output_type": "display_data",
          "data": {
            "image/png": "[encoded data removed]",
            "text/plain": [
              "<Figure size 432x288 with 1 Axes>"
            ]
          },
          "metadata": {
            "tags": [],
            "needs_background": "light"
          }
        }
      ]
    },
    {
      "cell_type": "markdown",
      "metadata": {
        "id": "6eqd9QDDvo4H"
      },
      "source": [
        "The analysis shows that the highest level of education for a majority of the individuals (54.82%) is primary education, followed by no formal education (18.63%), secondary education (18.07%), tertiary education (5%), vocational/specialised training (3.46%) and lastly 0.03% of the individuals fall under others/don't know/RTA"
      ]
    },
    {
      "cell_type": "markdown",
      "metadata": {
        "id": "7jIv5fu4MEQ9"
      },
      "source": [
        "In the following univariate analyses of categorical variables, we will analyse the usage of commercial bank accounts based the levels of education of the individuals in the sample population"
      ]
    },
    {
      "cell_type": "code",
      "metadata": {
        "id": "E6bVdlZlN4Rv"
      },
      "source": [
        "# Creating a dataframe of individuals with secondary education as highest level of education\r\n",
        "secondary = financial_df[(financial_df['education_level']=='Secondary education')]\r\n",
        "\r\n",
        "# Creating a dataframe of individuals with no formal education as highest level of education\r\n",
        "no_formal = financial_df[(financial_df['education_level']=='No formal education')]\r\n",
        "\r\n",
        "# Creating a dataframe of individuals with vocational/specialized training as highest level of education\r\n",
        "specialized_training = financial_df[(financial_df['education_level']=='Vocational/Specialised training')]\r\n",
        "\r\n",
        "# Creating a dataframe of individuals with primary education as highest level of education\r\n",
        "primary = financial_df[(financial_df['education_level']=='Primary education')]\r\n",
        "\r\n",
        "# Creating a dataframe of individuals with tertiary education as highest level of education\r\n",
        "tertiary = financial_df[(financial_df['education_level']=='Tertiary education')]\r\n",
        "\r\n",
        "# Creating a dataframe of individuals with other/unkown/RTA as highest level of education\r\n",
        "other = financial_df[(financial_df['education_level']=='Other/Dont know/RTA')]"
      ],
      "execution_count": 122,
      "outputs": []
    },
    {
      "cell_type": "code",
      "metadata": {
        "colab": {
          "base_uri": "https://localhost:8080/"
        },
        "id": "gu600qaVgMuz",
        "outputId": "4e149abe-fb4d-4835-9aa9-edd64033073c"
      },
      "source": [
        "# Creating a frequency table for proportion of bank usage among individuals with other/unkown/RTA as highest level of education\r\n",
        "other.bank_account.value_counts(normalize=True)"
      ],
      "execution_count": 123,
      "outputs": [
        {
          "output_type": "execute_result",
          "data": {
            "text/plain": [
              "Yes    1.0\n",
              "Name: bank_account, dtype: float64"
            ]
          },
          "metadata": {
            "tags": []
          },
          "execution_count": 123
        }
      ]
    },
    {
      "cell_type": "markdown",
      "metadata": {
        "id": "N80VB7R-vzQk"
      },
      "source": [
        "Out of the 0.03% of the individuals in the population with other/unknown/RTA as their highest level of education, 100% percent of them are likely to have a bank account "
      ]
    },
    {
      "cell_type": "code",
      "metadata": {
        "colab": {
          "base_uri": "https://localhost:8080/"
        },
        "id": "q5bi_xDIP-1J",
        "outputId": "4cd9b0ca-0667-4d0f-9f8d-e9c846bf5d71"
      },
      "source": [
        "# Creating a frequency table for proportion of bank usage among individuals with no formal as highest level of education\r\n",
        "no_formal.bank_account.value_counts(normalize=True)"
      ],
      "execution_count": 124,
      "outputs": [
        {
          "output_type": "execute_result",
          "data": {
            "text/plain": [
              "No     0.961893\n",
              "Yes    0.038107\n",
              "Name: bank_account, dtype: float64"
            ]
          },
          "metadata": {
            "tags": []
          },
          "execution_count": 124
        }
      ]
    },
    {
      "cell_type": "markdown",
      "metadata": {
        "id": "oTydq405xSS8"
      },
      "source": [
        "Out of the 18.63% of the individuals in the population with no formal education as their highest level of education, only 3.81% percent of them are likely to have a bank account, and 96.19% of them are likely to not have a bank account"
      ]
    },
    {
      "cell_type": "code",
      "metadata": {
        "colab": {
          "base_uri": "https://localhost:8080/",
          "height": 316
        },
        "id": "LGypaBv7yoNv",
        "outputId": "e8c3361e-1864-45e5-f922-e0481f955ee8"
      },
      "source": [
        "# Creating a bar chart for proportion of bank usage among individuals with tertiary education as highest level of education\r\n",
        "(tertiary['bank_account'].value_counts(normalize=True)).plot.bar()\r\n",
        "\r\n",
        "# labelling the bar chart \r\n",
        "plt.title('Proportion of Bank Usage Among Individuals with up to Tertiary Education', fontsize=15, y=1.015)\r\n",
        "# labelling the x axis \r\n",
        "plt.xlabel('Bank Usage', fontsize=14, labelpad=15)\r\n",
        "# rotating the labels on the x axis\r\n",
        "plt.xticks(rotation = 360)\r\n",
        "# labelling the y axis\r\n",
        "plt.ylabel('Proportion of Individuals', fontsize=14, labelpad=15)\r\n",
        "#display bar chart\r\n",
        "plt.show()"
      ],
      "execution_count": 125,
      "outputs": [
        {
          "output_type": "display_data",
          "data": {
            "image/png": "[encoded data removed]",
            "text/plain": [
              "<Figure size 432x288 with 1 Axes>"
            ]
          },
          "metadata": {
            "tags": [],
            "needs_background": "light"
          }
        }
      ]
    },
    {
      "cell_type": "markdown",
      "metadata": {
        "id": "DVPm2twFwp5I"
      },
      "source": [
        "Out of the 5% of the individuals in the population with tertiary education as their highest level of education, 51.59% percent of them are likely to have a bank account while  48.41% of them are likely to not have a bank account"
      ]
    },
    {
      "cell_type": "code",
      "metadata": {
        "colab": {
          "base_uri": "https://localhost:8080/",
          "height": 316
        },
        "id": "t0owxeNY5jn2",
        "outputId": "3d31e5ee-809f-4254-d661-471675d3d737"
      },
      "source": [
        "# Creating a bar chart for proportion of bank usage among individuals with secondary education as highest level of education\r\n",
        "(secondary['bank_account'].value_counts(normalize=True)).plot.bar()\r\n",
        "\r\n",
        "# labelling the bar chart \r\n",
        "plt.title('Proportion of Bank Usage Among Individuals with up to Secondary Education', fontsize=15, y=1.015)\r\n",
        "# labelling the x axis \r\n",
        "plt.xlabel('Bank Usage', fontsize=14, labelpad=15)\r\n",
        "# rotating the labels on the x axis\r\n",
        "plt.xticks(rotation = 360)\r\n",
        "# labelling the y axis\r\n",
        "plt.ylabel('Proportion of Individuals', fontsize=14, labelpad=15)\r\n",
        "#display bar chart\r\n",
        "plt.show()"
      ],
      "execution_count": 126,
      "outputs": [
        {
          "output_type": "display_data",
          "data": {
            "image/png": "[encoded data removed]",
            "text/plain": [
              "<Figure size 432x288 with 1 Axes>"
            ]
          },
          "metadata": {
            "tags": [],
            "needs_background": "light"
          }
        }
      ]
    },
    {
      "cell_type": "markdown",
      "metadata": {
        "id": "ZqvXpngA6CAg"
      },
      "source": [
        "\r\n",
        "Out of the 18.07% of the individuals in the population with secondary education as their highest level of education, only 23.63% percent of them are likely to have a bank account while 76.36% of them are likely to not have a bank account"
      ]
    },
    {
      "cell_type": "code",
      "metadata": {
        "colab": {
          "base_uri": "https://localhost:8080/",
          "height": 436
        },
        "id": "xXdDy7qJ537t",
        "outputId": "2e73dad8-7dac-44be-bfc7-4dd6d7bfa75d"
      },
      "source": [
        "# Creating a pie chart of the percentage of bank usage among idividuals with vocational/specialized training as their highest level of education\r\n",
        "\r\n",
        "# Finding the count of values of the elements in 'bank_account' column\r\n",
        "bank_usage = specialized_training.bank_account.value_counts()\r\n",
        "bank_usage\r\n",
        "\r\n",
        "# Assigning the colums to 'element' and 'size' variables\r\n",
        "element = bank_usage.values\r\n",
        "size = bank_usage.index\r\n",
        "\r\n",
        "# Specifying the colors of the pie chart\r\n",
        "colors = ['lightblue', 'gray']\r\n",
        "\r\n",
        "# plotting the pie chart\r\n",
        "plt.figure(figsize = (5,5), dpi = 100)\r\n",
        "plt.pie(element, labels=size, colors=colors, autopct ='%1.1f%%', shadow =True, explode=(0.1,0), startangle = 90)\r\n",
        "plt.axis('equal')\r\n",
        "plt.title('Pie Chart of Usage of Bank Account Among Individuals with up to Vocational/Specialized Training')\r\n",
        "plt.show()"
      ],
      "execution_count": 127,
      "outputs": [
        {
          "output_type": "display_data",
          "data": {
            "image/png": "[encoded data removed]",
            "text/plain": [
              "<Figure size 500x500 with 1 Axes>"
            ]
          },
          "metadata": {
            "tags": []
          }
        }
      ]
    },
    {
      "cell_type": "markdown",
      "metadata": {
        "id": "YEklZNeW7X4U"
      },
      "source": [
        "Out of the 3.46% of the individuals in the population with vocational/specialized training as their highest level of education, 57.3% percent of them are likely to have a bank account while 42.7% are likely to not have a bank account"
      ]
    },
    {
      "cell_type": "code",
      "metadata": {
        "colab": {
          "base_uri": "https://localhost:8080/",
          "height": 436
        },
        "id": "dZb3l1t8e09j",
        "outputId": "449a7392-7888-41b6-998b-d11f34b64915"
      },
      "source": [
        "# Creating a pie chart of the percentage of bank usage among idividuals with primary education training as their highest level of education\r\n",
        "\r\n",
        "# Finding the count of values of the elements in 'bank_account' column\r\n",
        "bank_usage = primary.bank_account.value_counts()\r\n",
        "bank_usage\r\n",
        "\r\n",
        "# Assigning the colums to 'element' and 'size' variables\r\n",
        "element = bank_usage.values\r\n",
        "size = bank_usage.index\r\n",
        "\r\n",
        "# Specifying the colors of the pie chart\r\n",
        "colors = ['lightblue', 'gray']\r\n",
        "\r\n",
        "# plotting the pie chart\r\n",
        "plt.figure(figsize = (5,5), dpi = 100)\r\n",
        "plt.pie(element, labels=size, colors=colors, autopct ='%1.1f%%', shadow =True, explode=(0.1,0), startangle = 90)\r\n",
        "plt.axis('equal')\r\n",
        "plt.title('Pie Chart of Usage of Bank Account Among Individuals with up to Primary Education')\r\n",
        "plt.show()"
      ],
      "execution_count": 128,
      "outputs": [
        {
          "output_type": "display_data",
          "data": {
            "image/png": "[encoded data removed]",
            "text/plain": [
              "<Figure size 500x500 with 1 Axes>"
            ]
          },
          "metadata": {
            "tags": []
          }
        }
      ]
    },
    {
      "cell_type": "markdown",
      "metadata": {
        "id": "1vA5fWfUfMAu"
      },
      "source": [
        "Out of the 54.82% of the individuals in the population with primary education as their highest level of education, only 8.5% percent of them are likely to have a bank account while 91.5% are likely to not have a bank account"
      ]
    },
    {
      "cell_type": "markdown",
      "metadata": {
        "id": "q3F5KPOR1xIt"
      },
      "source": [
        "#### ii. Numerical variables"
      ]
    },
    {
      "cell_type": "markdown",
      "metadata": {
        "id": "N3MSPL7DggBh"
      },
      "source": [
        "Univariate analysis of numerical variables will help us understand the individuals in the sample population better     \r\n",
        "Our numerical variables are household_size and age"
      ]
    },
    {
      "cell_type": "markdown",
      "metadata": {
        "id": "Puo-kGbjgVQn"
      },
      "source": [
        "##### Measures of central tendency\r\n",
        "\r\n",
        "\r\n"
      ]
    },
    {
      "cell_type": "markdown",
      "metadata": {
        "id": "2qGIXZMRhIGX"
      },
      "source": [
        "###### Age"
      ]
    },
    {
      "cell_type": "code",
      "metadata": {
        "id": "Bm9sI8Wj1u_a",
        "colab": {
          "base_uri": "https://localhost:8080/"
        },
        "outputId": "a5a982e8-e72d-4b24-99b6-2d94f65f4a1f"
      },
      "source": [
        "# Finding the mean age of individuals in the sample population\r\n",
        "financial_df['age'].mean()"
      ],
      "execution_count": 129,
      "outputs": [
        {
          "output_type": "execute_result",
          "data": {
            "text/plain": [
              "38.32677634190447"
            ]
          },
          "metadata": {
            "tags": []
          },
          "execution_count": 129
        }
      ]
    },
    {
      "cell_type": "markdown",
      "metadata": {
        "id": "JGk0TtXcihiz"
      },
      "source": [
        "The mean age of the individuals in the sample population is 38.33"
      ]
    },
    {
      "cell_type": "code",
      "metadata": {
        "colab": {
          "base_uri": "https://localhost:8080/"
        },
        "id": "OD9lFHddifTO",
        "outputId": "0f4d5c71-c229-4011-acb9-79dd9fcc3b03"
      },
      "source": [
        "# Finding the modal age of individuals in the sample population\r\n",
        "financial_df['age'].mode()\r\n"
      ],
      "execution_count": 130,
      "outputs": [
        {
          "output_type": "execute_result",
          "data": {
            "text/plain": [
              "0    30.0\n",
              "dtype: float64"
            ]
          },
          "metadata": {
            "tags": []
          },
          "execution_count": 130
        }
      ]
    },
    {
      "cell_type": "markdown",
      "metadata": {
        "id": "XbdRjOb2jCsr"
      },
      "source": [
        "The modal age of the individuals in the sample population is 30"
      ]
    },
    {
      "cell_type": "code",
      "metadata": {
        "colab": {
          "base_uri": "https://localhost:8080/"
        },
        "id": "1BELrijCjAaK",
        "outputId": "1a171fbb-f53c-421e-8625-a18d35cc496c"
      },
      "source": [
        "# Finding the median age of individuals in the sample population\r\n",
        "financial_df['age'].median()"
      ],
      "execution_count": 131,
      "outputs": [
        {
          "output_type": "execute_result",
          "data": {
            "text/plain": [
              "35.0"
            ]
          },
          "metadata": {
            "tags": []
          },
          "execution_count": 131
        }
      ]
    },
    {
      "cell_type": "markdown",
      "metadata": {
        "id": "pjhCgFuCjSAn"
      },
      "source": [
        "The median age of the individuals in the sample population is 35"
      ]
    },
    {
      "cell_type": "markdown",
      "metadata": {
        "id": "v7f_E_37jReS"
      },
      "source": [
        "###### Household size"
      ]
    },
    {
      "cell_type": "code",
      "metadata": {
        "colab": {
          "base_uri": "https://localhost:8080/"
        },
        "id": "6mE24c5rjQeL",
        "outputId": "bdc6d23f-b965-4168-923e-0be8c9bf0dc9"
      },
      "source": [
        "# Finding the mean household size of individuals in the sample population\r\n",
        "financial_df['household_size'].mean()"
      ],
      "execution_count": 132,
      "outputs": [
        {
          "output_type": "execute_result",
          "data": {
            "text/plain": [
              "3.5841309046001855"
            ]
          },
          "metadata": {
            "tags": []
          },
          "execution_count": 132
        }
      ]
    },
    {
      "cell_type": "markdown",
      "metadata": {
        "id": "7xejeEp6jxZF"
      },
      "source": [
        "The mean of the household size of the individulas in the sample population is 3.58"
      ]
    },
    {
      "cell_type": "code",
      "metadata": {
        "colab": {
          "base_uri": "https://localhost:8080/"
        },
        "id": "bgqavkR6jw9-",
        "outputId": "897be2bd-3801-4ffa-e804-5f8a91012cc7"
      },
      "source": [
        "# Finding the modal household size of individuals in the sample population\r\n",
        "financial_df['household_size'].mode()"
      ],
      "execution_count": 133,
      "outputs": [
        {
          "output_type": "execute_result",
          "data": {
            "text/plain": [
              "0    2.0\n",
              "dtype: float64"
            ]
          },
          "metadata": {
            "tags": []
          },
          "execution_count": 133
        }
      ]
    },
    {
      "cell_type": "markdown",
      "metadata": {
        "id": "_78V-4rVjwf2"
      },
      "source": [
        "The modal household size of the individuals in the sample population is 2"
      ]
    },
    {
      "cell_type": "code",
      "metadata": {
        "colab": {
          "base_uri": "https://localhost:8080/"
        },
        "id": "g6hGmHJnjwGu",
        "outputId": "daa909fd-cc0e-4144-9968-a8504f1764b6"
      },
      "source": [
        "# Finding the median household size of individuals in the sample population\r\n",
        "financial_df['household_size'].median()"
      ],
      "execution_count": 134,
      "outputs": [
        {
          "output_type": "execute_result",
          "data": {
            "text/plain": [
              "3.0"
            ]
          },
          "metadata": {
            "tags": []
          },
          "execution_count": 134
        }
      ]
    },
    {
      "cell_type": "markdown",
      "metadata": {
        "id": "nBPEog9FjvRX"
      },
      "source": [
        "The median household size of the individuals in the sample pupulation is 3"
      ]
    },
    {
      "cell_type": "markdown",
      "metadata": {
        "id": "t0FsXSodk2HC"
      },
      "source": [
        "##### Measures of dispersion"
      ]
    },
    {
      "cell_type": "markdown",
      "metadata": {
        "id": "OKfT-KjJlCEB"
      },
      "source": [
        "###### Age"
      ]
    },
    {
      "cell_type": "code",
      "metadata": {
        "colab": {
          "base_uri": "https://localhost:8080/"
        },
        "id": "CUI4zA0T3VnF",
        "outputId": "e5213f1e-5ee6-493a-98df-c33e797e9bbc"
      },
      "source": [
        "# Calculating the standard deviation\r\n",
        "financial_df['age'].std()"
      ],
      "execution_count": 135,
      "outputs": [
        {
          "output_type": "execute_result",
          "data": {
            "text/plain": [
              "15.786798363248979"
            ]
          },
          "metadata": {
            "tags": []
          },
          "execution_count": 135
        }
      ]
    },
    {
      "cell_type": "markdown",
      "metadata": {
        "id": "UZKQz7eSAZgB"
      },
      "source": [
        "A standard deviation of 15.79 indicates that the values are moderately close to the mean"
      ]
    },
    {
      "cell_type": "code",
      "metadata": {
        "colab": {
          "base_uri": "https://localhost:8080/"
        },
        "id": "yysICbeqyrDK",
        "outputId": "44b72a43-297d-4ba2-d278-5095fb69c33e"
      },
      "source": [
        "# Calculating the variance \r\n",
        "financial_df['age'].var()"
      ],
      "execution_count": 136,
      "outputs": [
        {
          "output_type": "execute_result",
          "data": {
            "text/plain": [
              "249.22300256188063"
            ]
          },
          "metadata": {
            "tags": []
          },
          "execution_count": 136
        }
      ]
    },
    {
      "cell_type": "markdown",
      "metadata": {
        "id": "l1mIYKoPArv9"
      },
      "source": [
        "A variance of 249.22 means that values are dispersed\r\n"
      ]
    },
    {
      "cell_type": "code",
      "metadata": {
        "colab": {
          "base_uri": "https://localhost:8080/"
        },
        "id": "l4_ffhnW4_5G",
        "outputId": "59e98631-a9d8-48f2-b2e2-90ea8dbc2774"
      },
      "source": [
        "# Calculating the range\r\n",
        "max_age = financial_df['age'].max()\r\n",
        "min_age = financial_df['age'].min()\r\n",
        "\r\n",
        "max_age - min_age"
      ],
      "execution_count": 137,
      "outputs": [
        {
          "output_type": "execute_result",
          "data": {
            "text/plain": [
              "67.0"
            ]
          },
          "metadata": {
            "tags": []
          },
          "execution_count": 137
        }
      ]
    },
    {
      "cell_type": "markdown",
      "metadata": {
        "id": "WZYhaTLdCNPQ"
      },
      "source": [
        "The range value shows length/difference between the maximum age and the minimum age is 67"
      ]
    },
    {
      "cell_type": "code",
      "metadata": {
        "colab": {
          "base_uri": "https://localhost:8080/"
        },
        "id": "AV2_M0pg20KC",
        "outputId": "29319cf1-af26-474f-c2f7-24b174a16693"
      },
      "source": [
        "# Calculating the quantiles \r\n",
        "financial_df['age'].quantile([0.25,0.5,0.75])"
      ],
      "execution_count": 138,
      "outputs": [
        {
          "output_type": "execute_result",
          "data": {
            "text/plain": [
              "0.25    26.0\n",
              "0.50    35.0\n",
              "0.75    48.0\n",
              "Name: age, dtype: float64"
            ]
          },
          "metadata": {
            "tags": []
          },
          "execution_count": 138
        }
      ]
    },
    {
      "cell_type": "markdown",
      "metadata": {
        "id": "1gGCPJzgDsLV"
      },
      "source": [
        "The quatile values indicate that25% of the values fall below 26, 50% of the values fall below and above 35, and 75% of the values fall below 48"
      ]
    },
    {
      "cell_type": "code",
      "metadata": {
        "colab": {
          "base_uri": "https://localhost:8080/"
        },
        "id": "qmZSDkwczGCR",
        "outputId": "f8c7448e-0858-4ec1-fa60-e48dc4cde34f"
      },
      "source": [
        "# Calculating the interquatile range\r\n",
        "Q3 = financial_df['age'].quantile(0.75)\r\n",
        "Q1 =financial_df['age'].quantile(0.25)\r\n",
        "\r\n",
        "Q3-Q1"
      ],
      "execution_count": 139,
      "outputs": [
        {
          "output_type": "execute_result",
          "data": {
            "text/plain": [
              "22.0"
            ]
          },
          "metadata": {
            "tags": []
          },
          "execution_count": 139
        }
      ]
    },
    {
      "cell_type": "markdown",
      "metadata": {
        "id": "bk62k8WOEMP9"
      },
      "source": [
        "The range between the middle 50% of the values is 22"
      ]
    },
    {
      "cell_type": "code",
      "metadata": {
        "colab": {
          "base_uri": "https://localhost:8080/"
        },
        "id": "keJhb17pzdXF",
        "outputId": "9d437b2b-f6cd-4687-a466-88d26c60480c"
      },
      "source": [
        "# Calculating the skewness \r\n",
        "financial_df['age'].skew()"
      ],
      "execution_count": 140,
      "outputs": [
        {
          "output_type": "execute_result",
          "data": {
            "text/plain": [
              "0.7409568877240711"
            ]
          },
          "metadata": {
            "tags": []
          },
          "execution_count": 140
        }
      ]
    },
    {
      "cell_type": "markdown",
      "metadata": {
        "id": "fJ16H-TdH0hj"
      },
      "source": [
        "0.74 skewness means that the tail on the right side is longer than on the left side and that the mean is greater than the mode"
      ]
    },
    {
      "cell_type": "code",
      "metadata": {
        "colab": {
          "base_uri": "https://localhost:8080/"
        },
        "id": "fGQzGfXQ3_ld",
        "outputId": "e118b7d9-edd1-4e04-f866-7888dce5b5ad"
      },
      "source": [
        "# Calculating the kurtosis\r\n",
        "financial_df['age'].kurt()"
      ],
      "execution_count": 141,
      "outputs": [
        {
          "output_type": "execute_result",
          "data": {
            "text/plain": [
              "-0.23371796802058498"
            ]
          },
          "metadata": {
            "tags": []
          },
          "execution_count": 141
        }
      ]
    },
    {
      "cell_type": "markdown",
      "metadata": {
        "id": "2vDEverJFmAi"
      },
      "source": [
        "-0.23 kurtosis means that the distribution has thinner tails than in a normal distribution has fewer values in is shorter tails"
      ]
    },
    {
      "cell_type": "markdown",
      "metadata": {
        "id": "a9RsLsYEyrxm"
      },
      "source": [
        "###### Household size "
      ]
    },
    {
      "cell_type": "code",
      "metadata": {
        "colab": {
          "base_uri": "https://localhost:8080/"
        },
        "id": "nwkw6huxy3Lu",
        "outputId": "b211615b-d6da-486b-82fe-19841042ac07"
      },
      "source": [
        "# Calculating the standard deviation\r\n",
        "financial_df['household_size'].std()"
      ],
      "execution_count": 142,
      "outputs": [
        {
          "output_type": "execute_result",
          "data": {
            "text/plain": [
              "2.078044253802465"
            ]
          },
          "metadata": {
            "tags": []
          },
          "execution_count": 142
        }
      ]
    },
    {
      "cell_type": "markdown",
      "metadata": {
        "id": "lZEhvB2HIIeV"
      },
      "source": [
        "A standard deviation of 2.07 indicates that the values are close to the mean"
      ]
    },
    {
      "cell_type": "code",
      "metadata": {
        "colab": {
          "base_uri": "https://localhost:8080/"
        },
        "id": "s0LMHSK24QMs",
        "outputId": "8223f7a9-f838-42e0-b36e-7172e7c86c4a"
      },
      "source": [
        "# Calculating the variance\r\n",
        "financial_df['household_size'].var()"
      ],
      "execution_count": 143,
      "outputs": [
        {
          "output_type": "execute_result",
          "data": {
            "text/plain": [
              "4.3182679207614445"
            ]
          },
          "metadata": {
            "tags": []
          },
          "execution_count": 143
        }
      ]
    },
    {
      "cell_type": "markdown",
      "metadata": {
        "id": "1l-sLInmIgXa"
      },
      "source": [
        "A variance of 4.31 means that the values are not so spread out from one another"
      ]
    },
    {
      "cell_type": "code",
      "metadata": {
        "colab": {
          "base_uri": "https://localhost:8080/"
        },
        "id": "p2El05-X4ey4",
        "outputId": "45d940d1-1b83-4238-ee0f-774fc848ffb2"
      },
      "source": [
        "# Calculating the range\r\n",
        "max_household_size = financial_df['household_size'].max()\r\n",
        "min_household_size = financial_df['household_size'].min()\r\n",
        "\r\n",
        "max_household_size - min_household_size"
      ],
      "execution_count": 144,
      "outputs": [
        {
          "output_type": "execute_result",
          "data": {
            "text/plain": [
              "8.0"
            ]
          },
          "metadata": {
            "tags": []
          },
          "execution_count": 144
        }
      ]
    },
    {
      "cell_type": "markdown",
      "metadata": {
        "id": "hpN7vdsSIscP"
      },
      "source": [
        "The range value shows that the length/difference between the maximum value of and minimum value of household size is 8"
      ]
    },
    {
      "cell_type": "code",
      "metadata": {
        "colab": {
          "base_uri": "https://localhost:8080/"
        },
        "id": "WgQ3yy_U4TwI",
        "outputId": "c924015d-78e8-4245-98f2-5cac497f8da1"
      },
      "source": [
        "# Calculating the quantiles\r\n",
        "financial_df['household_size'].quantile([0.25, 0.5, 0.75])"
      ],
      "execution_count": 145,
      "outputs": [
        {
          "output_type": "execute_result",
          "data": {
            "text/plain": [
              "0.25    2.0\n",
              "0.50    3.0\n",
              "0.75    5.0\n",
              "Name: household_size, dtype: float64"
            ]
          },
          "metadata": {
            "tags": []
          },
          "execution_count": 145
        }
      ]
    },
    {
      "cell_type": "markdown",
      "metadata": {
        "id": "5sb_WNLSJFzq"
      },
      "source": [
        "The quatiles values indicate that 25% of the values fall below 2, 50% of the values fall below and above 3, and 75% of the values fall below 5 "
      ]
    },
    {
      "cell_type": "code",
      "metadata": {
        "colab": {
          "base_uri": "https://localhost:8080/"
        },
        "id": "VdY2XMcJ4WmN",
        "outputId": "9ab7061e-2dc9-480a-a737-7d136c70950e"
      },
      "source": [
        "# Calculating the interquantile range\r\n",
        "Q3 = financial_df['household_size'].quantile(0.75)\r\n",
        "Q1 = financial_df['household_size'].quantile(0.25)\r\n",
        "\r\n",
        "Q3-Q1"
      ],
      "execution_count": 146,
      "outputs": [
        {
          "output_type": "execute_result",
          "data": {
            "text/plain": [
              "3.0"
            ]
          },
          "metadata": {
            "tags": []
          },
          "execution_count": 146
        }
      ]
    },
    {
      "cell_type": "markdown",
      "metadata": {
        "id": "oN_Z6zLfKDEx"
      },
      "source": [
        "The range between the middle 50% of the values is 3"
      ]
    },
    {
      "cell_type": "code",
      "metadata": {
        "colab": {
          "base_uri": "https://localhost:8080/"
        },
        "id": "F5uo1Vyp4lYs",
        "outputId": "5381a339-c083-4e57-ce0f-2bcec824e13b"
      },
      "source": [
        "# Calculating the skewness\r\n",
        "financial_df['household_size'].skew()"
      ],
      "execution_count": 147,
      "outputs": [
        {
          "output_type": "execute_result",
          "data": {
            "text/plain": [
              "0.6089019273573075"
            ]
          },
          "metadata": {
            "tags": []
          },
          "execution_count": 147
        }
      ]
    },
    {
      "cell_type": "markdown",
      "metadata": {
        "id": "1TbpQBKUKesn"
      },
      "source": [
        "0.61 skewness means that the tail on the right side is longer than on the left side and that the mean is greater than the mode"
      ]
    },
    {
      "cell_type": "code",
      "metadata": {
        "colab": {
          "base_uri": "https://localhost:8080/"
        },
        "id": "Zni7oO5o4ozX",
        "outputId": "b76462df-744f-42c0-f6c9-557cb0665c0e"
      },
      "source": [
        "# Calculating the kurtosis\r\n",
        "financial_df['household_size'].kurt()"
      ],
      "execution_count": 148,
      "outputs": [
        {
          "output_type": "execute_result",
          "data": {
            "text/plain": [
              "-0.5056159678414698"
            ]
          },
          "metadata": {
            "tags": []
          },
          "execution_count": 148
        }
      ]
    },
    {
      "cell_type": "markdown",
      "metadata": {
        "id": "I49tr4muKR3F"
      },
      "source": [
        "-0.51 kurtosis means that the distribution has thinner tails than in a normal distribution has fewer values in is shorter tails"
      ]
    },
    {
      "cell_type": "markdown",
      "metadata": {
        "id": "qwQWwXQhlVSa"
      },
      "source": [
        "##### Visualizations of distributions of numerical variables"
      ]
    },
    {
      "cell_type": "markdown",
      "metadata": {
        "id": "8Ym1B5vkltsC"
      },
      "source": [
        "###### Age"
      ]
    },
    {
      "cell_type": "code",
      "metadata": {
        "colab": {
          "base_uri": "https://localhost:8080/",
          "height": 316
        },
        "id": "K8uJHKQrls8b",
        "outputId": "a58c1a20-d2c5-42f7-d29f-07eaf1df376c"
      },
      "source": [
        "# Creating a histogram to visualize the age distribution of individuals in the sample population\r\n",
        "\r\n",
        "# Assigning the age column to variable ages\r\n",
        "ages = financial_df['age']\r\n",
        "\r\n",
        "# plotting a histogram\r\n",
        "plt.hist(ages, bins=10, histtype='bar', rwidth=0.9)\r\n",
        "# labelling x axis\r\n",
        "plt.xlabel('Number of Individuals', fontsize=14, labelpad=15)\r\n",
        "# labelling the y axis\r\n",
        "plt.ylabel('Age', fontsize=14, labelpad=15)\r\n",
        "# Giving the histogram a title\r\n",
        "plt.title('Age Distribution of Individuals in the Sample Population', fontsize=15, y=1.015)\r\n",
        "# displaying the histogram\r\n",
        "plt.show()"
      ],
      "execution_count": 149,
      "outputs": [
        {
          "output_type": "display_data",
          "data": {
            "image/png": "[encoded data removed]",
            "text/plain": [
              "<Figure size 432x288 with 1 Axes>"
            ]
          },
          "metadata": {
            "tags": [],
            "needs_background": "light"
          }
        }
      ]
    },
    {
      "cell_type": "markdown",
      "metadata": {
        "id": "uQWhzz6Du3zl"
      },
      "source": [
        "The right-skewed histogram shows that the mode of the ages of the individuals in the sample population is closer to the left of the graph and smaller than the mean or/and the median and the mean is greater than the median or/and the mode"
      ]
    },
    {
      "cell_type": "markdown",
      "metadata": {
        "id": "YmBoPWZPoTPo"
      },
      "source": [
        "###### Household size"
      ]
    },
    {
      "cell_type": "code",
      "metadata": {
        "colab": {
          "base_uri": "https://localhost:8080/",
          "height": 288
        },
        "id": "G98KgIlGoSFY",
        "outputId": "d92388d7-62ea-4e22-f7eb-11839a4803f8"
      },
      "source": [
        "# Creating a box plot to visualize the distribution of household size of the individuals in the sample population\r\n",
        "\r\n",
        "# Plotting the boxplot\r\n",
        "financial_df.boxplot(['household_size'], grid=False)\r\n",
        "# labelling the y axis\r\n",
        "plt.ylabel('Household Size', fontsize=14, labelpad=15)\r\n",
        "# Giving the box plot a title\r\n",
        "plt.title('Age Distribution of Individuals in the Sample Population', fontsize=15, y=1.015)\r\n",
        "# displaying the histogram\r\n",
        "plt.show()"
      ],
      "execution_count": 150,
      "outputs": [
        {
          "output_type": "display_data",
          "data": {
            "image/png": "[encoded data removed]",
            "text/plain": [
              "<Figure size 432x288 with 1 Axes>"
            ]
          },
          "metadata": {
            "tags": [],
            "needs_background": "light"
          }
        }
      ]
    },
    {
      "cell_type": "markdown",
      "metadata": {
        "id": "2CAinNx-uJnC"
      },
      "source": [
        "The box plot shows that the minimum household size is 1, the maximum is 9, 25% of the household sizes fall below 2, 25% of the household sizes fall above 5 and the median household size is 3\r\n"
      ]
    },
    {
      "cell_type": "markdown",
      "metadata": {
        "id": "xWC9GiZ99meJ"
      },
      "source": [
        "### b. Bivariate analysis"
      ]
    },
    {
      "cell_type": "markdown",
      "metadata": {
        "id": "iRhAIJZ7Ltwq"
      },
      "source": [
        "#### i. Numerical to numerical"
      ]
    },
    {
      "cell_type": "code",
      "metadata": {
        "colab": {
          "base_uri": "https://localhost:8080/",
          "height": 316
        },
        "id": "TjVFU-b9Qke-",
        "outputId": "06c09c26-ffd8-4bb9-a9af-b54a0023a5aa"
      },
      "source": [
        "# Creating a scatter plot between age and household size of the individuals in the sample population\r\n",
        "sns.regplot(x = financial_df[\"age\"], y = financial_df[\"household_size\"], fit_reg=False)\r\n",
        "\r\n",
        "# Givint the scatterplot a title\r\n",
        "plt.title('Household Size vs Age of Individuals in Sample Population', fontsize=15, y=1.015)\r\n",
        "# Labelling the x axis\r\n",
        "plt.xlabel('Age', fontsize=14, labelpad=15)\r\n",
        "# Labelling the y axis\r\n",
        "plt.ylabel('Household Size', fontsize=14, labelpad=15)\r\n",
        "# Displaying the scatterplot\r\n",
        "plt.show()"
      ],
      "execution_count": 151,
      "outputs": [
        {
          "output_type": "display_data",
          "data": {
            "image/png": "[encoded data removed]",
            "text/plain": [
              "<Figure size 432x288 with 1 Axes>"
            ]
          },
          "metadata": {
            "tags": [],
            "needs_background": "light"
          }
        }
      ]
    },
    {
      "cell_type": "markdown",
      "metadata": {
        "id": "HqT4ixWKTF2z"
      },
      "source": [
        "The scatterplot shows that the household size of the individuals in the sample size is not correlated to their age"
      ]
    },
    {
      "cell_type": "code",
      "metadata": {
        "id": "Ebmc8HtY1p4s",
        "colab": {
          "base_uri": "https://localhost:8080/",
          "height": 284
        },
        "outputId": "79f85674-0f61-4477-aa88-6af376cc1a3f"
      },
      "source": [
        "#Calculating pearson correlation of numerical variables\r\n",
        "pearson_corr = financial_df.corr()\r\n",
        "\r\n",
        "# Plotting a correlation heat map\r\n",
        "sns.heatmap(pearson_corr, xticklabels=pearson_corr.columns, yticklabels=pearson_corr.columns, annot=True)\r\n",
        "# Giving the heatmap a title\r\n",
        "plt.title('Pearson Correlation', fontsize=15, y=1.015)\r\n",
        "# Displaying the heatmap\r\n",
        "plt.show()"
      ],
      "execution_count": 152,
      "outputs": [
        {
          "output_type": "display_data",
          "data": {
            "image/png": "[encoded data removed]",
            "text/plain": [
              "<Figure size 432x288 with 2 Axes>"
            ]
          },
          "metadata": {
            "tags": [],
            "needs_background": "light"
          }
        }
      ]
    },
    {
      "cell_type": "markdown",
      "metadata": {
        "id": "bFeM0TiUzwJI"
      },
      "source": [
        "A pearson coefficient of -0.11 means that household size and age of respondents have a very weak inverse correlation.  "
      ]
    },
    {
      "cell_type": "markdown",
      "metadata": {
        "id": "SnzNMzk1YDTd"
      },
      "source": [
        "#### ii. Categorical to categorical"
      ]
    },
    {
      "cell_type": "markdown",
      "metadata": {
        "id": "zTYWQ1IoYf2M"
      },
      "source": [
        "#### Recommendations for effectively performing bivariate analysis while working on the current problem     \r\n",
        "\r\n",
        "For univariate analysis, we had to subdivide the dataset into different subsets based on the unique values of a given variable in order to investigate the likelihood of bank usage among the individuals in the subsets. In bivariate analysis (analysis of data involving two variables), we can investigate the bank usage among the individuals per variable without breaking down the dataset into subsets of the unique values of the variables. For examples, we will investigate bank usage among the individuals in the sample population based on their gender, location, age and phone use and the findings will be presented in stacked column charts. The bivariate analysis could be done on the other variables i.e. marital status, type of job, relationship with head, etc., so as to gain insights of how the different demographic factors might drive individual's financial outcomes."
      ]
    },
    {
      "cell_type": "code",
      "metadata": {
        "colab": {
          "base_uri": "https://localhost:8080/",
          "height": 426
        },
        "id": "1zdnz35J5NSB",
        "outputId": "b2c1626e-c46e-46bb-b1c7-f64c184a5336"
      },
      "source": [
        "# Grouping proportion of bank usage by individuals per gender\r\n",
        "gender=financial_df.groupby('gender')['bank_account'].value_counts(normalize=True).unstack()\r\n",
        "\r\n",
        "# Specifying the colors of the stacked columns\r\n",
        "colors= ['lightgray', 'lightblue']\r\n",
        "# Plotting the chart\r\n",
        "gender.plot(kind='bar', figsize=(8, 6), color=colors, stacked=True)\r\n",
        "# Giving the chart a title\r\n",
        "plt.title('Proportion of Bank Usage by Individuals per Gender', fontsize=15, y=1.015)\r\n",
        "# Labelling the x axis\r\n",
        "plt.xlabel('Gender', fontsize=14, labelpad=15)\r\n",
        "# rotating the labels on the x axis\r\n",
        "plt.xticks(rotation = 360)\r\n",
        "# Labellinbg the y axis\r\n",
        "plt.ylabel('Proportion of bank usage by individuals', fontsize=14, labelpad=15)\r\n",
        "# Displaying the chart\r\n",
        "plt.show()"
      ],
      "execution_count": 153,
      "outputs": [
        {
          "output_type": "display_data",
          "data": {
            "image/png": "[encoded data removed]",
            "text/plain": [
              "<Figure size 576x432 with 1 Axes>"
            ]
          },
          "metadata": {
            "tags": [],
            "needs_background": "light"
          }
        }
      ]
    },
    {
      "cell_type": "markdown",
      "metadata": {
        "id": "EMWAISSWN78q"
      },
      "source": [
        "Males have a higher likelihood of having bank accounts compared to women. There is a 19.10% chance that a male has a bank account and 10.85% chance that a female has a bank account"
      ]
    },
    {
      "cell_type": "code",
      "metadata": {
        "colab": {
          "base_uri": "https://localhost:8080/",
          "height": 426
        },
        "id": "7wurIPCqTEpZ",
        "outputId": "e18d5c9e-e108-47f1-f852-2f309636ee76"
      },
      "source": [
        "# Grouping proportion of bank usage by individuals per location\r\n",
        "location=financial_df.groupby('location')['bank_account'].value_counts(normalize=True).unstack()\r\n",
        "\r\n",
        "# Specifying the colors of the stacked columns\r\n",
        "colors= ['lightgray', 'lightblue']\r\n",
        "# Plotting the chart\r\n",
        "location.plot(kind='bar', figsize=(8, 6), color=colors, stacked=True)\r\n",
        "# Giving the chart a title\r\n",
        "plt.title('Proportion of Bank Usage by Individuals per Location', fontsize=15, y=1.015)\r\n",
        "# Labelling the x axis\r\n",
        "plt.xlabel('Location', fontsize=14, labelpad=15)\r\n",
        "# rotating the labels on the x axis\r\n",
        "plt.xticks(rotation = 360)\r\n",
        "# Labellinbg the y axis\r\n",
        "plt.ylabel('Proportion of bank usage by individuals', fontsize=14, labelpad=15)\r\n",
        "# Displaying the chart\r\n",
        "plt.show()"
      ],
      "execution_count": 154,
      "outputs": [
        {
          "output_type": "display_data",
          "data": {
            "image/png": "[encoded data removed]",
            "text/plain": [
              "<Figure size 576x432 with 1 Axes>"
            ]
          },
          "metadata": {
            "tags": [],
            "needs_background": "light"
          }
        }
      ]
    },
    {
      "cell_type": "markdown",
      "metadata": {
        "id": "liDrIbt5Ur6u"
      },
      "source": [
        "Individuals in the urban areas have a higher likelihood of having bank accounts than individuals in the rural areas. There is a 18.19% chance that an individual in the urban area has a bank account and 11.69% chance that an individual in the rural area has a bank account"
      ]
    },
    {
      "cell_type": "code",
      "metadata": {
        "colab": {
          "base_uri": "https://localhost:8080/",
          "height": 426
        },
        "id": "ytPNaPJqQ1hk",
        "outputId": "bcc7f0c4-4d6a-4e37-e40a-917344ae2b42"
      },
      "source": [
        "# Grouping proportion of bank usage by individuals per phone usage\r\n",
        "phone=financial_df.groupby('phone')['bank_account'].value_counts(normalize=True).unstack()\r\n",
        "\r\n",
        "# Specifying the colors of the stacked columns\r\n",
        "colors= ['lightgray', 'lightblue']\r\n",
        "# Plotting the chart\r\n",
        "phone.plot(kind='bar', figsize=(8, 6), color=colors, stacked=True)\r\n",
        "# Giving the chart a title\r\n",
        "plt.title('Proportion of Bank Usage by Individuals per Phone Usage', fontsize=15, y=1.015)\r\n",
        "# Labelling the x axis\r\n",
        "plt.xlabel('Phone Usage', fontsize=14, labelpad=15)\r\n",
        "# rotating the labels on the x axis\r\n",
        "plt.xticks(rotation = 360)\r\n",
        "# Labellinbg the y axis\r\n",
        "plt.ylabel('Proportion of bank usage by individuals', fontsize=14, labelpad=15)\r\n",
        "# Displaying the chart\r\n",
        "plt.show()"
      ],
      "execution_count": 155,
      "outputs": [
        {
          "output_type": "display_data",
          "data": {
            "image/png": "[encoded data removed]",
            "text/plain": [
              "<Figure size 576x432 with 1 Axes>"
            ]
          },
          "metadata": {
            "tags": [],
            "needs_background": "light"
          }
        }
      ]
    },
    {
      "cell_type": "markdown",
      "metadata": {
        "id": "boMgxMyhV9a6"
      },
      "source": [
        "Individuals with phones have a higher likelihood of having bank accounts than individuals with no phones. There is a 18.49% chance that an individual with a phone has a bank account and 1.62% chance that an individual with no phone has a bank account"
      ]
    },
    {
      "cell_type": "code",
      "metadata": {
        "colab": {
          "base_uri": "https://localhost:8080/",
          "height": 426
        },
        "id": "2zfZ2gnkWdvr",
        "outputId": "5d31e276-5a37-479a-c19c-15977c136bc7"
      },
      "source": [
        "# Creating a new column for age groups for easier analysis of ages\r\n",
        "financial_df['age_group']= pd.cut(x=financial_df['age'], bins=[9, 19, 29, 39, 49, 59, 69, 79, 89])\r\n",
        "\r\n",
        "#\r\n",
        "# Grouping proportion of bank usage by individuals per phone usage\r\n",
        "age=financial_df.groupby('age_group')['bank_account'].value_counts(normalize=True).unstack()\r\n",
        "\r\n",
        "# Specifying the colors of the stacked columns\r\n",
        "colors= ['lightgray', 'lightblue']\r\n",
        "# Plotting the chart\r\n",
        "age.plot(kind='bar', figsize=(8, 6), color=colors, stacked=True)\r\n",
        "# Giving the chart a title\r\n",
        "plt.title('Proportion of Bank Usage by Individuals per Age Group', fontsize=15, y=1.015)\r\n",
        "# Labelling the x axis\r\n",
        "plt.xlabel('Age Group', fontsize=14, labelpad=15)\r\n",
        "# rotating the labels on the x axis\r\n",
        "plt.xticks(rotation = 360)\r\n",
        "# Labellinbg the y axis\r\n",
        "plt.ylabel('Proportion of bank usage by individuals', fontsize=14, labelpad=15)\r\n",
        "# Displaying the chart\r\n",
        "plt.show()"
      ],
      "execution_count": 156,
      "outputs": [
        {
          "output_type": "display_data",
          "data": {
            "image/png": "[encoded data removed]",
            "text/plain": [
              "<Figure size 576x432 with 1 Axes>"
            ]
          },
          "metadata": {
            "tags": [],
            "needs_background": "light"
          }
        }
      ]
    },
    {
      "cell_type": "markdown",
      "metadata": {
        "id": "-JqEFCfybigl"
      },
      "source": [
        "Individuals of ages 30-39 have the highest likelihood of having bank accounts while individuals of ages 10-19 have the least likelihood of having bank accounts. An individual of age 30-39 has a 17.45% likelihood of having a bank account, an individual of age 40-49 has a 16.91% likelihood of having a bank account, an individual of age  50-59 has a 16.08% likelihood of having a bank account... an individual of age 60-69 has a 10.96% likelihood of having a bank account, an individual of age 70-79 has a 11.14% likelihood of having a bank acount and an individual of age 10-19 has a 3.16% likelihood of having a bank account."
      ]
    },
    {
      "cell_type": "markdown",
      "metadata": {
        "id": "JgJlXXLU9v6l"
      },
      "source": [
        "## 8. Implementing the Solutions     \r\n"
      ]
    },
    {
      "cell_type": "markdown",
      "metadata": {
        "id": "8Uf-8KCWRfLH"
      },
      "source": [
        "### c. Multivariate analysis"
      ]
    },
    {
      "cell_type": "markdown",
      "metadata": {
        "id": "X452ciqeZeVF"
      },
      "source": [
        "#### Recommendations for effectively performing multivariate analysis while working on the current problem     \r\n",
        "\r\n",
        "Since most of the values in the different variables were categorical, it necessaery to use multivariate analysis techniques that will allow encoding of the values for better ananlysis "
      ]
    },
    {
      "cell_type": "markdown",
      "metadata": {
        "id": "h8CWpIJY-yef"
      },
      "source": [
        "#### i. Principal Component Analysis "
      ]
    },
    {
      "cell_type": "markdown",
      "metadata": {
        "id": "_Awptu3-Et05"
      },
      "source": [
        "Principal component analysis, or PCA, is a statistical technique to convert high dimensional data to low dimensional data by selecting the most important features that capture maximum information about the dataset. The features are selected on the basis of variance that they cause in the output. The feature that causes highest variance is the first principal component. The feature that is responsible for second highest variance is considered the second principal component, and so on. It is important to mention that principal components do not have any correlation with each other"
      ]
    },
    {
      "cell_type": "code",
      "metadata": {
        "id": "5-YI-UA6lav-"
      },
      "source": [
        "# Making a copy of our dataset\r\n",
        "financial_copy= financial_df.copy()"
      ],
      "execution_count": 157,
      "outputs": []
    },
    {
      "cell_type": "code",
      "metadata": {
        "colab": {
          "base_uri": "https://localhost:8080/"
        },
        "id": "1ZUgkeDzn43G",
        "outputId": "6a0bdb85-5be1-45a5-fb5f-4d7f2ff14287"
      },
      "source": [
        "financial_copy.columns"
      ],
      "execution_count": 158,
      "outputs": [
        {
          "output_type": "execute_result",
          "data": {
            "text/plain": [
              "Index(['country', 'uniqueid', 'bank_account', 'location', 'phone',\n",
              "       'household_size', 'age', 'gender', 'relationship_with_head',\n",
              "       'marital_status', 'education_level', 'type_of_job', 'age_group'],\n",
              "      dtype='object')"
            ]
          },
          "metadata": {
            "tags": []
          },
          "execution_count": 158
        }
      ]
    },
    {
      "cell_type": "code",
      "metadata": {
        "id": "_r7H_9pclVYH"
      },
      "source": [
        "# Importing LabelEncoder\r\n",
        "from sklearn.preprocessing import LabelEncoder\r\n",
        "lb=LabelEncoder()\r\n",
        "\r\n",
        "# Encoding categorial values\r\n",
        "financial_copy['country']=lb.fit_transform(financial_copy['country'].astype(str))\r\n",
        "financial_copy['location']=lb.fit_transform(financial_copy['location'].astype(str))\r\n",
        "financial_copy['phone']=lb.fit_transform(financial_copy['phone'].astype(str))\r\n",
        "financial_copy['gender']=lb.fit_transform(financial_copy['gender'].astype(str))\r\n",
        "financial_copy['relationship_with_head']=lb.fit_transform(financial_copy['relationship_with_head'].astype(str))\r\n",
        "financial_copy['marital_status']=lb.fit_transform(financial_copy['marital_status'].astype(str))\r\n",
        "financial_copy['education_level']=lb.fit_transform(financial_copy['education_level'].astype(str))\r\n",
        "financial_copy['type_of_job']=lb.fit_transform(financial_copy['type_of_job'].astype(str))"
      ],
      "execution_count": 159,
      "outputs": []
    },
    {
      "cell_type": "code",
      "metadata": {
        "colab": {
          "base_uri": "https://localhost:8080/",
          "height": 217
        },
        "id": "IJgoFEMYpKdq",
        "outputId": "5393b4c1-4e2b-4dbf-a49a-58d27c474f4e"
      },
      "source": [
        "# Displaying the top of our encoded dataframe\r\n",
        "financial_copy.head()"
      ],
      "execution_count": 160,
      "outputs": [
        {
          "output_type": "execute_result",
          "data": {
            "text/html": [
              "<div>\n",
              "<style scoped>\n",
              "    .dataframe tbody tr th:only-of-type {\n",
              "        vertical-align: middle;\n",
              "    }\n",
              "\n",
              "    .dataframe tbody tr th {\n",
              "        vertical-align: top;\n",
              "    }\n",
              "\n",
              "    .dataframe thead th {\n",
              "        text-align: right;\n",
              "    }\n",
              "</style>\n",
              "<table border=\"1\" class=\"dataframe\">\n",
              "  <thead>\n",
              "    <tr style=\"text-align: right;\">\n",
              "      <th></th>\n",
              "      <th>country</th>\n",
              "      <th>uniqueid</th>\n",
              "      <th>bank_account</th>\n",
              "      <th>location</th>\n",
              "      <th>phone</th>\n",
              "      <th>household_size</th>\n",
              "      <th>age</th>\n",
              "      <th>gender</th>\n",
              "      <th>relationship_with_head</th>\n",
              "      <th>marital_status</th>\n",
              "      <th>education_level</th>\n",
              "      <th>type_of_job</th>\n",
              "      <th>age_group</th>\n",
              "    </tr>\n",
              "  </thead>\n",
              "  <tbody>\n",
              "    <tr>\n",
              "      <th>0</th>\n",
              "      <td>0</td>\n",
              "      <td>uniqueid_1</td>\n",
              "      <td>Yes</td>\n",
              "      <td>0</td>\n",
              "      <td>1</td>\n",
              "      <td>3.0</td>\n",
              "      <td>24.0</td>\n",
              "      <td>0</td>\n",
              "      <td>5</td>\n",
              "      <td>2</td>\n",
              "      <td>3</td>\n",
              "      <td>9</td>\n",
              "      <td>(19, 29]</td>\n",
              "    </tr>\n",
              "    <tr>\n",
              "      <th>1</th>\n",
              "      <td>0</td>\n",
              "      <td>uniqueid_2</td>\n",
              "      <td>No</td>\n",
              "      <td>0</td>\n",
              "      <td>0</td>\n",
              "      <td>5.0</td>\n",
              "      <td>70.0</td>\n",
              "      <td>0</td>\n",
              "      <td>1</td>\n",
              "      <td>4</td>\n",
              "      <td>0</td>\n",
              "      <td>4</td>\n",
              "      <td>(69, 79]</td>\n",
              "    </tr>\n",
              "    <tr>\n",
              "      <th>2</th>\n",
              "      <td>0</td>\n",
              "      <td>uniqueid_3</td>\n",
              "      <td>Yes</td>\n",
              "      <td>1</td>\n",
              "      <td>1</td>\n",
              "      <td>5.0</td>\n",
              "      <td>26.0</td>\n",
              "      <td>1</td>\n",
              "      <td>3</td>\n",
              "      <td>3</td>\n",
              "      <td>5</td>\n",
              "      <td>9</td>\n",
              "      <td>(19, 29]</td>\n",
              "    </tr>\n",
              "    <tr>\n",
              "      <th>3</th>\n",
              "      <td>0</td>\n",
              "      <td>uniqueid_4</td>\n",
              "      <td>No</td>\n",
              "      <td>0</td>\n",
              "      <td>1</td>\n",
              "      <td>5.0</td>\n",
              "      <td>34.0</td>\n",
              "      <td>0</td>\n",
              "      <td>1</td>\n",
              "      <td>2</td>\n",
              "      <td>2</td>\n",
              "      <td>3</td>\n",
              "      <td>(29, 39]</td>\n",
              "    </tr>\n",
              "    <tr>\n",
              "      <th>4</th>\n",
              "      <td>0</td>\n",
              "      <td>uniqueid_5</td>\n",
              "      <td>No</td>\n",
              "      <td>1</td>\n",
              "      <td>0</td>\n",
              "      <td>8.0</td>\n",
              "      <td>26.0</td>\n",
              "      <td>1</td>\n",
              "      <td>0</td>\n",
              "      <td>3</td>\n",
              "      <td>2</td>\n",
              "      <td>5</td>\n",
              "      <td>(19, 29]</td>\n",
              "    </tr>\n",
              "  </tbody>\n",
              "</table>\n",
              "</div>"
            ],
            "text/plain": [
              "   country    uniqueid bank_account  ...  education_level  type_of_job  age_group\n",
              "0        0  uniqueid_1          Yes  ...                3            9   (19, 29]\n",
              "1        0  uniqueid_2           No  ...                0            4   (69, 79]\n",
              "2        0  uniqueid_3          Yes  ...                5            9   (19, 29]\n",
              "3        0  uniqueid_4           No  ...                2            3   (29, 39]\n",
              "4        0  uniqueid_5           No  ...                2            5   (19, 29]\n",
              "\n",
              "[5 rows x 13 columns]"
            ]
          },
          "metadata": {
            "tags": []
          },
          "execution_count": 160
        }
      ]
    },
    {
      "cell_type": "code",
      "metadata": {
        "id": "ZWMLHu4Drwi4"
      },
      "source": [
        "# Dropping unnecessary colummns\r\n",
        "financial_copy.drop(['uniqueid', 'age_group'],axis=1, inplace=True)"
      ],
      "execution_count": 161,
      "outputs": []
    },
    {
      "cell_type": "code",
      "metadata": {
        "id": "RoM3sdYvorE6"
      },
      "source": [
        "# The first preprocessing step is to divide the dataset into a feature set and corresponding labels. \r\n",
        "# The following script performs this task. The script below stores the feature sets into the X variable \r\n",
        "# and the series of corresponding labels in to the y variable.\r\n",
        "X = financial_copy.drop('bank_account', 1)\r\n",
        "y = financial_copy['bank_account']"
      ],
      "execution_count": 162,
      "outputs": []
    },
    {
      "cell_type": "code",
      "metadata": {
        "id": "uLFSJjW4YCzf"
      },
      "source": [
        "# The next preprocessing step is to divide data into train and test sets by executing the following script\n",
        "\n",
        "from sklearn.model_selection import train_test_split\n",
        "\n",
        "X_train, X_test, y_train, y_test = train_test_split(X, y, test_size=0.2, random_state=0)"
      ],
      "execution_count": 206,
      "outputs": []
    },
    {
      "cell_type": "code",
      "metadata": {
        "id": "AwnjYgdxYLhP"
      },
      "source": [
        "# PCA performs best with a normalized feature set. We will perform standard scalar normalization to normalize our feature set by executing the following code\n",
        "\n",
        "from sklearn.preprocessing import StandardScaler\n",
        "\n",
        "sc = StandardScaler()\n",
        "X_train = sc.fit_transform(X_train)\n",
        "X_test = sc.transform(X_test)"
      ],
      "execution_count": 208,
      "outputs": []
    },
    {
      "cell_type": "code",
      "metadata": {
        "id": "P2LCiMNDYXU_"
      },
      "source": [
        "# We perform PCA using Python's Scikit-Learn library. \n",
        "from sklearn.decomposition import PCA\n",
        "\n",
        "# Initialize the PCA class by passing the number of components to the constructor.\n",
        "pca = PCA()\n",
        "\n",
        "# Call the fit and then transform methods by passing the feature set to these methods. \n",
        "# The transform method returns the specified number of principal components.\n",
        "X_train = pca.fit_transform(X_train)\n",
        "X_test = pca.transform(X_test)\n",
        "\n",
        "#In the code above, we create a PCA object named pca. \n",
        "# We did not specify the number of components in the constructor. \n",
        "# Hence, all the features in the feature set will be returned for both the training and test sets."
      ],
      "execution_count": 165,
      "outputs": []
    },
    {
      "cell_type": "code",
      "metadata": {
        "id": "4oJFE2e9Ym7i",
        "colab": {
          "base_uri": "https://localhost:8080/"
        },
        "outputId": "2e194162-8cad-4cbe-f130-9862a0c8d9aa"
      },
      "source": [
        "# The PCA class contains explained variance ratio which returns the variance caused by each of the principal components. \n",
        "# We execute the following line of code to find the \"explained variance ratio\".\n",
        "explained_variance = pca.explained_variance_ratio_\n",
        "\n",
        "# Displaying the explained variance ratio \n",
        "explained_variance\n",
        "\n",
        "# The explained_variance variable is a float type array which contains variance ratios for each principal component. \n",
        "# It can be seen that first principal component is responsible for 19.30% variance, the second principal component causes 15.90% variance in the dataset, and so forth \n",
        "# Collectively we can say that (19.30 + 15.90) 35.20% percent of the classification information contained in the feature set is captured by the first two principal components."
      ],
      "execution_count": 166,
      "outputs": [
        {
          "output_type": "execute_result",
          "data": {
            "text/plain": [
              "array([0.19302393, 0.1590122 , 0.15552684, 0.10135335, 0.08272713,\n",
              "       0.08076231, 0.07254645, 0.05774638, 0.05401757, 0.04328384])"
            ]
          },
          "metadata": {
            "tags": []
          },
          "execution_count": 166
        }
      ]
    },
    {
      "cell_type": "code",
      "metadata": {
        "id": "jg-1BukkY5DW"
      },
      "source": [
        "# Use 1 principal component to train our algorithm by executing the following code\n",
        "from sklearn.decomposition import PCA\n",
        "\n",
        "pca = PCA(n_components=1)\n",
        "X_train = pca.fit_transform(X_train)\n",
        "X_test = pca.transform(X_test)"
      ],
      "execution_count": 167,
      "outputs": []
    },
    {
      "cell_type": "code",
      "metadata": {
        "id": "iGFiEEaVZWug"
      },
      "source": [
        "# Use random forest classification for training and making the predictions\n",
        "from sklearn.ensemble import RandomForestClassifier\n",
        "\n",
        "classifier = RandomForestClassifier(max_depth=2, random_state=0)\n",
        "classifier.fit(X_train, y_train)\n",
        "\n",
        "# Predicting the Test set results\n",
        "y_pred = classifier.predict(X_test)"
      ],
      "execution_count": 168,
      "outputs": []
    },
    {
      "cell_type": "code",
      "metadata": {
        "id": "2c5lgRH0Zd-B",
        "colab": {
          "base_uri": "https://localhost:8080/"
        },
        "outputId": "84a6b40d-4587-42ad-eb08-345f3ed7e35d"
      },
      "source": [
        "# Performance Evaluation\n",
        "from sklearn.metrics import confusion_matrix\n",
        "from sklearn.metrics import accuracy_score\n",
        "\n",
        "cm = confusion_matrix(y_test, y_pred)\n",
        "print(cm)\n",
        "print('Accuracy' , accuracy_score(y_test, y_pred))\n",
        "\n",
        "# Noting that from the output, with only one feature, the random forest algorithm is 85.69% accurate."
      ],
      "execution_count": 169,
      "outputs": [
        {
          "output_type": "stream",
          "text": [
            "[[3886    0]\n",
            " [ 649    0]]\n",
            "Accuracy 0.8568908489525909\n"
          ],
          "name": "stdout"
        }
      ]
    },
    {
      "cell_type": "code",
      "metadata": {
        "id": "rDxxofjtaLWX"
      },
      "source": [
        "# Evaluating classification performance of the random forest algorithm with 2 of the principal components\n",
        "\n",
        "# Divide data into train and test sets by executing the following script\n",
        "X_train, X_test, y_train, y_test = train_test_split(X, y, test_size=0.2, random_state=0)\n",
        "\n",
        "# Perform standard scalar normalization to normalize our feature set by executing the following code\n",
        "sc = StandardScaler()\n",
        "X_train = sc.fit_transform(X_train)\n",
        "X_test = sc.transform(X_test)\n",
        "\n",
        "# Use 2 principal components to train our algorithm by executing the following code\n",
        "pca = PCA(n_components=2)\n",
        "X_train = pca.fit_transform(X_train)\n",
        "X_test = pca.transform(X_test)"
      ],
      "execution_count": 198,
      "outputs": []
    },
    {
      "cell_type": "code",
      "metadata": {
        "id": "fwWE4FhbadPq",
        "colab": {
          "base_uri": "https://localhost:8080/"
        },
        "outputId": "cbab460d-184e-4214-8a5e-345a23704377"
      },
      "source": [
        "# Use random forest classification for training and making the predictions when using two of the principal components\n",
        "from sklearn.ensemble import RandomForestClassifier\n",
        "\n",
        "classifier = RandomForestClassifier(max_depth=2, random_state=0)\n",
        "classifier.fit(X_train, y_train)\n",
        "\n",
        "# Predicting the Test set results\n",
        "y_pred = classifier.predict(X_test)\n",
        "y_pred"
      ],
      "execution_count": 203,
      "outputs": [
        {
          "output_type": "execute_result",
          "data": {
            "text/plain": [
              "array(['No', 'No', 'No', ..., 'No', 'No', 'No'], dtype=object)"
            ]
          },
          "metadata": {
            "tags": []
          },
          "execution_count": 203
        }
      ]
    },
    {
      "cell_type": "code",
      "metadata": {
        "id": "fSVnSt7_wfAo",
        "colab": {
          "base_uri": "https://localhost:8080/"
        },
        "outputId": "4c094ec3-afa8-4c57-c29a-7611dc98ad9a"
      },
      "source": [
        "# Performance Evaluation\n",
        "cm = confusion_matrix(y_test, y_pred)\n",
        "print(cm)\n",
        "print('Accuracy' , accuracy_score(y_test, y_pred))\n",
        "\n",
        "# Noting that from the output that with two features, the random forest algorithm is still 85.69% accurate."
      ],
      "execution_count": 200,
      "outputs": [
        {
          "output_type": "stream",
          "text": [
            "[[3886    0]\n",
            " [ 649    0]]\n",
            "Accuracy 0.8568908489525909\n"
          ],
          "name": "stdout"
        }
      ]
    },
    {
      "cell_type": "markdown",
      "metadata": {
        "id": "LZUzM3fhbsG_"
      },
      "source": [
        "From the above experimentation we achieved optimal level of accuracy while significantly reducing the number of features in the dataset. We saw that accuracy achieved with only 1 principal component is 85.69%. It is also pertinent to mention that the accuracy of a classifier doesn't necessarily improve with increased number of principal components as we can see that the accuracy achieved with one principal component (85.69%) is equal to the accuracy achieved with two principal components (85.69%). With an accuracy of level of 85.69% is safe to say that multivariate analysis through principal component analysis is good enough for the prediction of bank usage by an individual based on his/her characteristics\n",
        "\n"
      ]
    },
    {
      "cell_type": "markdown",
      "metadata": {
        "id": "__gVh7kbD8_E"
      },
      "source": [
        "#### ii. Linear Discriminant Analysis"
      ]
    },
    {
      "cell_type": "markdown",
      "metadata": {
        "id": "Hq1AAPr9DkBB"
      },
      "source": [
        "Linear discriminant analysis (LDA), this is a simple and powerful linear transformation that is most commonly used as dimensionality reduction technique in the pre-processing step for machine learning applications. The goal of linear discriminant analysis is to project a dataset onto a lower-dimensional space with good class-separability in order to avoid overfitting (\"curse of dimensionality\") and also reduce computational costs. "
      ]
    },
    {
      "cell_type": "code",
      "metadata": {
        "id": "x6wfEFIVx3W2"
      },
      "source": [
        "# The first preprocessing step is to divide the dataset into a feature set and corresponding labels. \r\n",
        "# The following script performs this task by storing the feature sets into the X variable and the series of corresponding labels in to the y variable.\r\n",
        "X = financial_copy.drop('bank_account', 1)\r\n",
        "y = financial_copy['bank_account']"
      ],
      "execution_count": 173,
      "outputs": []
    },
    {
      "cell_type": "code",
      "metadata": {
        "id": "ojxzyAj5lmuE"
      },
      "source": [
        "# The following code divides data into training and test sets\n",
        "from sklearn.model_selection import train_test_split\n",
        "X_train, X_test, y_train, y_test = train_test_split(X, y, test_size=0.2, random_state=0)"
      ],
      "execution_count": 174,
      "outputs": []
    },
    {
      "cell_type": "code",
      "metadata": {
        "id": "RMBU96JaluA9"
      },
      "source": [
        "# We now  perform feature scaling by executing the following code\n",
        "from sklearn.preprocessing import StandardScaler\n",
        "\n",
        "sc = StandardScaler()\n",
        "X_train = sc.fit_transform(X_train)\n",
        "X_test = sc.transform(X_test)"
      ],
      "execution_count": 175,
      "outputs": []
    },
    {
      "cell_type": "code",
      "metadata": {
        "id": "riC3vs3fmBX6"
      },
      "source": [
        "# We perform LDA with Scikit-Learn. \n",
        "from sklearn.discriminant_analysis import LinearDiscriminantAnalysis as LDA\n",
        "\n",
        "# We have to pass the value for the n_components parameter of the LDA which refers to the number of linear discriminates that we want to retrieve. \n",
        "# In this case we set the n_components to 1, since we first want to check the performance of our classifier with a single linear discriminant. \n",
        "lda = LDA(n_components=1)\n",
        "\n",
        "# Finally we execute the fit and transform methods to actually retrieve the linear discriminants\n",
        "X_train = lda.fit_transform(X_train, y_train)\n",
        "X_test = lda.transform(X_test)"
      ],
      "execution_count": 209,
      "outputs": []
    },
    {
      "cell_type": "code",
      "metadata": {
        "id": "dbgQysmuXjQr",
        "colab": {
          "base_uri": "https://localhost:8080/"
        },
        "outputId": "c540b9b6-8e37-428b-ad5a-20d4b54ab000"
      },
      "source": [
        "# We will use the random forest classifier to evaluate the performance of a PCA-reduced algorithms \n",
        "from sklearn.ensemble import RandomForestClassifier\n",
        "\n",
        "classifier = RandomForestClassifier(max_depth=2, random_state=0)\n",
        "classifier.fit(X_train, y_train)\n",
        "\n",
        "# predicting the results\n",
        "y_pred = classifier.predict(X_test)\n",
        "y_pred"
      ],
      "execution_count": 204,
      "outputs": [
        {
          "output_type": "execute_result",
          "data": {
            "text/plain": [
              "array(['No', 'No', 'No', ..., 'No', 'No', 'No'], dtype=object)"
            ]
          },
          "metadata": {
            "tags": []
          },
          "execution_count": 204
        }
      ]
    },
    {
      "cell_type": "code",
      "metadata": {
        "id": "YTU-I0PoX-ds",
        "colab": {
          "base_uri": "https://localhost:8080/"
        },
        "outputId": "ac0b7c88-0255-4d57-de32-b96c4c9d9506"
      },
      "source": [
        "# Evaluate the performance of the algorithm with the help of a confusion matrix and find the accuracy of the prediction \n",
        "\n",
        "from sklearn.metrics import confusion_matrix\n",
        "from sklearn.metrics import accuracy_score\n",
        "\n",
        "cm = confusion_matrix(y_test, y_pred)\n",
        "print(cm)\n",
        "print('Accuracy' + str(accuracy_score(y_test, y_pred)))\n",
        "\n",
        "# We can see that with one linear discriminant, the algorithm achieved an accuracy of 87.39%, \n",
        "# which is greater than the accuracy achieved with one principal component, which was 85.69%."
      ],
      "execution_count": 178,
      "outputs": [
        {
          "output_type": "stream",
          "text": [
            "[[3795   91]\n",
            " [ 481  168]]\n",
            "Accuracy0.8738699007717751\n"
          ],
          "name": "stdout"
        }
      ]
    },
    {
      "cell_type": "markdown",
      "metadata": {
        "id": "-OulLc3beDWI"
      },
      "source": [
        "With an accuracy of level of 87.69% is safe to say that multivariate analysis through linear discriminant analysis is good enough for the prediction of bank usage by an individual based on his/her characteristics\r\n"
      ]
    },
    {
      "cell_type": "markdown",
      "metadata": {
        "id": "dMocC2Za94qq"
      },
      "source": [
        "## 9. Challenging the Solution     \r\n",
        "Given that the accuracy levels of the algorithms for both PCA and LDA analyses are less than 100, there is room for improvement for the solutions."
      ]
    },
    {
      "cell_type": "markdown",
      "metadata": {
        "id": "thLpoDCG-B4v"
      },
      "source": [
        "## 10. Follow up Questions "
      ]
    },
    {
      "cell_type": "markdown",
      "metadata": {
        "id": "0e9qkS5GI0dg"
      },
      "source": [
        "**a. Did we have the right data?**     \r\n",
        "Yes, the data used in the analysis was right for the project's objective"
      ]
    },
    {
      "cell_type": "markdown",
      "metadata": {
        "id": "OX_UUqG7I2j4"
      },
      "source": [
        "**b. Do we need other data to answer our question? **    \r\n",
        "No, the given data was sufficient for our analysis"
      ]
    },
    {
      "cell_type": "markdown",
      "metadata": {
        "id": "wkZcWgUWI2LQ"
      },
      "source": [
        "**c. Did we have the right question? **    \r\n",
        "Yes, the answers to our question provided an indication of the state of financial inclusion in Kenya, Rwanda, Tanzania, and Uganda, while providing insights into some of the key demographic factors that might drive individuals’ financial outcomes."
      ]
    }
  ]
}