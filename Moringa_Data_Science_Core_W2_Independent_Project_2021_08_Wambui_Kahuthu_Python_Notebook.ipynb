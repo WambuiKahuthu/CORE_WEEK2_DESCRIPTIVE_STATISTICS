{
  "nbformat": 4,
  "nbformat_minor": 0,
  "metadata": {
    "colab": {
      "name": "Moringa_Data_Science_Core_W2_Independent_Project_2021_08_Wambui_Kahuthu_Python_Notebook",
      "provenance": [],
      "collapsed_sections": [],
      "toc_visible": true,
      "authorship_tag": "ABX9TyN0+oYbMHjkB8JhI1P7MJMo",
      "include_colab_link": true
    },
    "kernelspec": {
      "name": "python3",
      "display_name": "Python 3"
    }
  },
  "cells": [
    {
      "cell_type": "markdown",
      "metadata": {
        "id": "view-in-github",
        "colab_type": "text"
      },
      "source": [
        "<a href=\"https://colab.research.google.com/github/WambuiKahuthu/MORINGA_CORE_WEEK2_DESCRIPTIVE_STATISTICS/blob/main/Moringa_Data_Science_Core_W2_Independent_Project_2021_08_Wambui_Kahuthu_Python_Notebook.ipynb\" target=\"_parent\"><img src=\"https://colab.research.google.com/assets/colab-badge.svg\" alt=\"Open In Colab\"/></a>"
      ]
    },
    {
      "cell_type": "markdown",
      "metadata": {
        "id": "A30wFFjM5dnS"
      },
      "source": [
        "# Bank usage"
      ]
    },
    {
      "cell_type": "markdown",
      "metadata": {
        "id": "eX_2uKgq5sni"
      },
      "source": [
        "## Defining the Question"
      ]
    },
    {
      "cell_type": "markdown",
      "metadata": {
        "id": "R7xf1yD56-Fb"
      },
      "source": [
        "### a. Specifying the data analytic question"
      ]
    },
    {
      "cell_type": "markdown",
      "metadata": {
        "id": "b5dK7ydz7IN0"
      },
      "source": [
        "### b. Defining the metric for success"
      ]
    },
    {
      "cell_type": "markdown",
      "metadata": {
        "id": "yUVXwaKf7PgM"
      },
      "source": [
        "### c. Understanding the context"
      ]
    },
    {
      "cell_type": "markdown",
      "metadata": {
        "id": "Y1cTa8YW-XtI"
      },
      "source": [
        "info on the topic"
      ]
    },
    {
      "cell_type": "markdown",
      "metadata": {
        "id": "VpJ_eXj37UzT"
      },
      "source": [
        "### d. Recording the experimental design"
      ]
    },
    {
      "cell_type": "markdown",
      "metadata": {
        "id": "dsbuaGRb-cqE"
      },
      "source": [
        "methodology ya analysis eg crisp dm"
      ]
    },
    {
      "cell_type": "markdown",
      "metadata": {
        "id": "SwLPQOMH7iRK"
      },
      "source": [
        "### e. Data relevance"
      ]
    },
    {
      "cell_type": "markdown",
      "metadata": {
        "id": "rS5WUzG__S3o"
      },
      "source": [
        "appropriateness of avaliable data to the research question"
      ]
    },
    {
      "cell_type": "markdown",
      "metadata": {
        "id": "YA1a2oOn7wGv"
      },
      "source": [
        "## 2. Loading Our Libraries"
      ]
    },
    {
      "cell_type": "code",
      "metadata": {
        "id": "eyKaD90jl2Mz"
      },
      "source": [
        "# Importing Numpy\r\n",
        "import numpy as np\r\n",
        "\r\n",
        "# Importing Pandas\r\n",
        "import pandas as pd\r\n",
        "\r\n",
        "# Importing Matplotlib\r\n",
        "import matplotlib.pyplot as plt\r\n",
        "\r\n",
        "# Importing Seaborn\r\n",
        "import seaborn as sns"
      ],
      "execution_count": 53,
      "outputs": []
    },
    {
      "cell_type": "markdown",
      "metadata": {
        "id": "vR6RZ53N71Ta"
      },
      "source": [
        "## 3. Reading the Data"
      ]
    },
    {
      "cell_type": "code",
      "metadata": {
        "id": "aaDP_oahoIs_"
      },
      "source": [
        "# Loading csv file from the given url http://bit.ly/FinancialDataset\r\n",
        "\r\n",
        "financial_df = pd.read_csv('http://bit.ly/FinancialDataset')"
      ],
      "execution_count": 54,
      "outputs": []
    },
    {
      "cell_type": "markdown",
      "metadata": {
        "id": "5a6QE2w38B9f"
      },
      "source": [
        "## 4. Checking the Data"
      ]
    },
    {
      "cell_type": "code",
      "metadata": {
        "colab": {
          "base_uri": "https://localhost:8080/",
          "height": 336
        },
        "id": "JrDRgxxJuxB3",
        "outputId": "0d905c25-50bf-4523-cc5a-d8edf447131e"
      },
      "source": [
        "# Previewing the top of our dataset\r\n",
        "\r\n",
        "financial_df.head()"
      ],
      "execution_count": 55,
      "outputs": [
        {
          "output_type": "execute_result",
          "data": {
            "text/html": [
              "<div>\n",
              "<style scoped>\n",
              "    .dataframe tbody tr th:only-of-type {\n",
              "        vertical-align: middle;\n",
              "    }\n",
              "\n",
              "    .dataframe tbody tr th {\n",
              "        vertical-align: top;\n",
              "    }\n",
              "\n",
              "    .dataframe thead th {\n",
              "        text-align: right;\n",
              "    }\n",
              "</style>\n",
              "<table border=\"1\" class=\"dataframe\">\n",
              "  <thead>\n",
              "    <tr style=\"text-align: right;\">\n",
              "      <th></th>\n",
              "      <th>country</th>\n",
              "      <th>year</th>\n",
              "      <th>uniqueid</th>\n",
              "      <th>Has a Bank account</th>\n",
              "      <th>Type of Location</th>\n",
              "      <th>Cell Phone Access</th>\n",
              "      <th>household_size</th>\n",
              "      <th>Respondent Age</th>\n",
              "      <th>gender_of_respondent</th>\n",
              "      <th>The relathip with head</th>\n",
              "      <th>marital_status</th>\n",
              "      <th>Level of Educuation</th>\n",
              "      <th>Type of Job</th>\n",
              "    </tr>\n",
              "  </thead>\n",
              "  <tbody>\n",
              "    <tr>\n",
              "      <th>0</th>\n",
              "      <td>Kenya</td>\n",
              "      <td>2018</td>\n",
              "      <td>uniqueid_1</td>\n",
              "      <td>Yes</td>\n",
              "      <td>Rural</td>\n",
              "      <td>Yes</td>\n",
              "      <td>3.0</td>\n",
              "      <td>24.0</td>\n",
              "      <td>Female</td>\n",
              "      <td>Spouse</td>\n",
              "      <td>Married/Living together</td>\n",
              "      <td>Secondary education</td>\n",
              "      <td>Self employed</td>\n",
              "    </tr>\n",
              "    <tr>\n",
              "      <th>1</th>\n",
              "      <td>Kenya</td>\n",
              "      <td>2018</td>\n",
              "      <td>uniqueid_2</td>\n",
              "      <td>No</td>\n",
              "      <td>Rural</td>\n",
              "      <td>No</td>\n",
              "      <td>5.0</td>\n",
              "      <td>70.0</td>\n",
              "      <td>Female</td>\n",
              "      <td>Head of Household</td>\n",
              "      <td>Widowed</td>\n",
              "      <td>No formal education</td>\n",
              "      <td>Government Dependent</td>\n",
              "    </tr>\n",
              "    <tr>\n",
              "      <th>2</th>\n",
              "      <td>Kenya</td>\n",
              "      <td>2018</td>\n",
              "      <td>uniqueid_3</td>\n",
              "      <td>Yes</td>\n",
              "      <td>Urban</td>\n",
              "      <td>Yes</td>\n",
              "      <td>5.0</td>\n",
              "      <td>26.0</td>\n",
              "      <td>Male</td>\n",
              "      <td>Other relative</td>\n",
              "      <td>Single/Never Married</td>\n",
              "      <td>Vocational/Specialised training</td>\n",
              "      <td>Self employed</td>\n",
              "    </tr>\n",
              "    <tr>\n",
              "      <th>3</th>\n",
              "      <td>Kenya</td>\n",
              "      <td>2018</td>\n",
              "      <td>uniqueid_4</td>\n",
              "      <td>No</td>\n",
              "      <td>Rural</td>\n",
              "      <td>Yes</td>\n",
              "      <td>5.0</td>\n",
              "      <td>34.0</td>\n",
              "      <td>Female</td>\n",
              "      <td>Head of Household</td>\n",
              "      <td>Married/Living together</td>\n",
              "      <td>Primary education</td>\n",
              "      <td>Formally employed Private</td>\n",
              "    </tr>\n",
              "    <tr>\n",
              "      <th>4</th>\n",
              "      <td>Kenya</td>\n",
              "      <td>2018</td>\n",
              "      <td>uniqueid_5</td>\n",
              "      <td>No</td>\n",
              "      <td>Urban</td>\n",
              "      <td>No</td>\n",
              "      <td>8.0</td>\n",
              "      <td>26.0</td>\n",
              "      <td>Male</td>\n",
              "      <td>Child</td>\n",
              "      <td>Single/Never Married</td>\n",
              "      <td>Primary education</td>\n",
              "      <td>Informally employed</td>\n",
              "    </tr>\n",
              "  </tbody>\n",
              "</table>\n",
              "</div>"
            ],
            "text/plain": [
              "  country  year  ...              Level of Educuation                Type of Job\n",
              "0   Kenya  2018  ...              Secondary education              Self employed\n",
              "1   Kenya  2018  ...              No formal education       Government Dependent\n",
              "2   Kenya  2018  ...  Vocational/Specialised training              Self employed\n",
              "3   Kenya  2018  ...                Primary education  Formally employed Private\n",
              "4   Kenya  2018  ...                Primary education        Informally employed\n",
              "\n",
              "[5 rows x 13 columns]"
            ]
          },
          "metadata": {
            "tags": []
          },
          "execution_count": 55
        }
      ]
    },
    {
      "cell_type": "code",
      "metadata": {
        "colab": {
          "base_uri": "https://localhost:8080/",
          "height": 319
        },
        "id": "svLd0uH70ME4",
        "outputId": "a1911489-2834-4a0e-8399-bb4f6ffbe146"
      },
      "source": [
        "# Previewing the bottom of our dataset\r\n",
        "\r\n",
        "financial_df.tail()"
      ],
      "execution_count": 56,
      "outputs": [
        {
          "output_type": "execute_result",
          "data": {
            "text/html": [
              "<div>\n",
              "<style scoped>\n",
              "    .dataframe tbody tr th:only-of-type {\n",
              "        vertical-align: middle;\n",
              "    }\n",
              "\n",
              "    .dataframe tbody tr th {\n",
              "        vertical-align: top;\n",
              "    }\n",
              "\n",
              "    .dataframe thead th {\n",
              "        text-align: right;\n",
              "    }\n",
              "</style>\n",
              "<table border=\"1\" class=\"dataframe\">\n",
              "  <thead>\n",
              "    <tr style=\"text-align: right;\">\n",
              "      <th></th>\n",
              "      <th>country</th>\n",
              "      <th>year</th>\n",
              "      <th>uniqueid</th>\n",
              "      <th>Has a Bank account</th>\n",
              "      <th>Type of Location</th>\n",
              "      <th>Cell Phone Access</th>\n",
              "      <th>household_size</th>\n",
              "      <th>Respondent Age</th>\n",
              "      <th>gender_of_respondent</th>\n",
              "      <th>The relathip with head</th>\n",
              "      <th>marital_status</th>\n",
              "      <th>Level of Educuation</th>\n",
              "      <th>Type of Job</th>\n",
              "    </tr>\n",
              "  </thead>\n",
              "  <tbody>\n",
              "    <tr>\n",
              "      <th>23519</th>\n",
              "      <td>Uganda</td>\n",
              "      <td>2018</td>\n",
              "      <td>uniqueid_2113</td>\n",
              "      <td>No</td>\n",
              "      <td>Rural</td>\n",
              "      <td>Yes</td>\n",
              "      <td>4.0</td>\n",
              "      <td>48.0</td>\n",
              "      <td>Female</td>\n",
              "      <td>Head of Household</td>\n",
              "      <td>Divorced/Seperated</td>\n",
              "      <td>No formal education</td>\n",
              "      <td>Other Income</td>\n",
              "    </tr>\n",
              "    <tr>\n",
              "      <th>23520</th>\n",
              "      <td>Uganda</td>\n",
              "      <td>2018</td>\n",
              "      <td>uniqueid_2114</td>\n",
              "      <td>No</td>\n",
              "      <td>Rural</td>\n",
              "      <td>Yes</td>\n",
              "      <td>2.0</td>\n",
              "      <td>27.0</td>\n",
              "      <td>Female</td>\n",
              "      <td>Head of Household</td>\n",
              "      <td>Single/Never Married</td>\n",
              "      <td>Secondary education</td>\n",
              "      <td>Other Income</td>\n",
              "    </tr>\n",
              "    <tr>\n",
              "      <th>23521</th>\n",
              "      <td>Uganda</td>\n",
              "      <td>2018</td>\n",
              "      <td>uniqueid_2115</td>\n",
              "      <td>No</td>\n",
              "      <td>Rural</td>\n",
              "      <td>Yes</td>\n",
              "      <td>5.0</td>\n",
              "      <td>27.0</td>\n",
              "      <td>Female</td>\n",
              "      <td>Parent</td>\n",
              "      <td>Widowed</td>\n",
              "      <td>Primary education</td>\n",
              "      <td>Other Income</td>\n",
              "    </tr>\n",
              "    <tr>\n",
              "      <th>23522</th>\n",
              "      <td>Uganda</td>\n",
              "      <td>2018</td>\n",
              "      <td>uniqueid_2116</td>\n",
              "      <td>No</td>\n",
              "      <td>Urban</td>\n",
              "      <td>Yes</td>\n",
              "      <td>7.0</td>\n",
              "      <td>30.0</td>\n",
              "      <td>Female</td>\n",
              "      <td>Parent</td>\n",
              "      <td>Divorced/Seperated</td>\n",
              "      <td>Secondary education</td>\n",
              "      <td>Self employed</td>\n",
              "    </tr>\n",
              "    <tr>\n",
              "      <th>23523</th>\n",
              "      <td>Uganda</td>\n",
              "      <td>2018</td>\n",
              "      <td>uniqueid_2117</td>\n",
              "      <td>No</td>\n",
              "      <td>Rural</td>\n",
              "      <td>Yes</td>\n",
              "      <td>10.0</td>\n",
              "      <td>20.0</td>\n",
              "      <td>Male</td>\n",
              "      <td>Child</td>\n",
              "      <td>Single/Never Married</td>\n",
              "      <td>Secondary education</td>\n",
              "      <td>No Income</td>\n",
              "    </tr>\n",
              "  </tbody>\n",
              "</table>\n",
              "</div>"
            ],
            "text/plain": [
              "      country  year  ...  Level of Educuation    Type of Job\n",
              "23519  Uganda  2018  ...  No formal education   Other Income\n",
              "23520  Uganda  2018  ...  Secondary education   Other Income\n",
              "23521  Uganda  2018  ...    Primary education   Other Income\n",
              "23522  Uganda  2018  ...  Secondary education  Self employed\n",
              "23523  Uganda  2018  ...  Secondary education      No Income\n",
              "\n",
              "[5 rows x 13 columns]"
            ]
          },
          "metadata": {
            "tags": []
          },
          "execution_count": 56
        }
      ]
    },
    {
      "cell_type": "code",
      "metadata": {
        "colab": {
          "base_uri": "https://localhost:8080/"
        },
        "id": "LXUALV8V0QJl",
        "outputId": "f4f932b5-cdc9-4d79-8f76-b8c40d5006d5"
      },
      "source": [
        "# Checking general information of the dataframe\r\n",
        "\r\n",
        "financial_df.info()\r\n",
        "\r\n",
        "# Displays number of entries and columns, column names, number of non-null values in every column, data types of each column, distribution of each data type and memory usage of the dataframe"
      ],
      "execution_count": 57,
      "outputs": [
        {
          "output_type": "stream",
          "text": [
            "<class 'pandas.core.frame.DataFrame'>\n",
            "RangeIndex: 23524 entries, 0 to 23523\n",
            "Data columns (total 13 columns):\n",
            " #   Column                  Non-Null Count  Dtype  \n",
            "---  ------                  --------------  -----  \n",
            " 0   country                 23510 non-null  object \n",
            " 1   year                    23524 non-null  int64  \n",
            " 2   uniqueid                23524 non-null  object \n",
            " 3   Has a Bank account      23488 non-null  object \n",
            " 4   Type of Location        23509 non-null  object \n",
            " 5   Cell Phone Access       23513 non-null  object \n",
            " 6   household_size          23496 non-null  float64\n",
            " 7   Respondent Age          23490 non-null  float64\n",
            " 8   gender_of_respondent    23490 non-null  object \n",
            " 9   The relathip with head  23520 non-null  object \n",
            " 10  marital_status          23492 non-null  object \n",
            " 11  Level of Educuation     23495 non-null  object \n",
            " 12  Type of Job             23494 non-null  object \n",
            "dtypes: float64(2), int64(1), object(10)\n",
            "memory usage: 2.3+ MB\n"
          ],
          "name": "stdout"
        }
      ]
    },
    {
      "cell_type": "markdown",
      "metadata": {
        "id": "jsfw1Tzk8IHd"
      },
      "source": [
        "## 5. External Data Source Validation"
      ]
    },
    {
      "cell_type": "markdown",
      "metadata": {
        "id": "A6gQFIH7I-h9"
      },
      "source": [
        "At this point we compare our data set with "
      ]
    },
    {
      "cell_type": "markdown",
      "metadata": {
        "id": "YABZ-FqS8Q2I"
      },
      "source": [
        "## 6. Cleaning the Data"
      ]
    },
    {
      "cell_type": "code",
      "metadata": {
        "colab": {
          "base_uri": "https://localhost:8080/"
        },
        "id": "-5tWiUOZU3Gp",
        "outputId": "28f2459a-0e32-4220-8ad5-67d14c374c9a"
      },
      "source": [
        "# Checking for null values\r\n",
        "\r\n",
        "financial_df.isnull().sum()"
      ],
      "execution_count": 58,
      "outputs": [
        {
          "output_type": "execute_result",
          "data": {
            "text/plain": [
              "country                   14\n",
              "year                       0\n",
              "uniqueid                   0\n",
              "Has a Bank account        36\n",
              "Type of Location          15\n",
              "Cell Phone Access         11\n",
              "household_size            28\n",
              "Respondent Age            34\n",
              "gender_of_respondent      34\n",
              "The relathip with head     4\n",
              "marital_status            32\n",
              "Level of Educuation       29\n",
              "Type of Job               30\n",
              "dtype: int64"
            ]
          },
          "metadata": {
            "tags": []
          },
          "execution_count": 58
        }
      ]
    },
    {
      "cell_type": "code",
      "metadata": {
        "id": "lBpxwVXGU5iY"
      },
      "source": [
        "# Dealing with the missing values\r\n",
        "# \r\n",
        "financial_df = financial_df.dropna()"
      ],
      "execution_count": 59,
      "outputs": []
    },
    {
      "cell_type": "code",
      "metadata": {
        "colab": {
          "base_uri": "https://localhost:8080/"
        },
        "id": "-Gkxbv0wVGQA",
        "outputId": "0c02577a-208b-4eea-c202-d6df6dbf5516"
      },
      "source": [
        "# Determining the sum of duplicated values\r\n",
        "financial_df.duplicated().sum().sum()"
      ],
      "execution_count": 60,
      "outputs": [
        {
          "output_type": "execute_result",
          "data": {
            "text/plain": [
              "0"
            ]
          },
          "metadata": {
            "tags": []
          },
          "execution_count": 60
        }
      ]
    },
    {
      "cell_type": "code",
      "metadata": {
        "colab": {
          "base_uri": "https://localhost:8080/"
        },
        "id": "Q8rNSSy9VSzp",
        "outputId": "a9a82e05-bd5e-4b45-8930-9270783db3ca"
      },
      "source": [
        "# Standardizing column names\r\n",
        "# Removing white spaces, lowering the case, replacing spaces with _, and removing brackets \r\n",
        "financial_df.columns = financial_df.columns.str.strip().str.lower().str.replace(' ', '_').str.replace('(', '').str.replace(')', '')\r\n",
        "\r\n",
        "# Renaming some column names\r\n",
        "financial_df.rename({'has_a_bank_account': 'bank_account', 'type_of_location': 'location', 'cell_phone_access' : 'phone', 'respondent_age':'age', 'gender_of_respondent':'gender', 'the_relathip_with_head' : 'relationship_with_head', 'level_of_educuation' : 'education_level'}, axis=1, inplace=True)\r\n",
        "\r\n",
        "# Dispalying the column names\r\n",
        "financial_df.columns"
      ],
      "execution_count": 61,
      "outputs": [
        {
          "output_type": "execute_result",
          "data": {
            "text/plain": [
              "Index(['country', 'year', 'uniqueid', 'bank_account', 'location', 'phone',\n",
              "       'household_size', 'age', 'gender', 'relationship_with_head',\n",
              "       'marital_status', 'education_level', 'type_of_job'],\n",
              "      dtype='object')"
            ]
          },
          "metadata": {
            "tags": []
          },
          "execution_count": 61
        }
      ]
    },
    {
      "cell_type": "code",
      "metadata": {
        "colab": {
          "base_uri": "https://localhost:8080/",
          "height": 887
        },
        "id": "kVK-BtJz0j_L",
        "outputId": "31c3e0a5-0e07-4809-c4c8-f2cc6ec9e9cc"
      },
      "source": [
        "# Checking for Outliers\r\n",
        "col_names= ['year', 'household_size', 'age',]\r\n",
        "\r\n",
        "fig, ax = plt.subplots(len(col_names), figsize=(10,15))\r\n",
        "\r\n",
        "for i, col_val in enumerate(col_names):\r\n",
        "\r\n",
        "    sns.boxplot(y=financial_df[col_val], ax=ax[i])\r\n",
        "    ax[i].set_title('Box plot for {}'.format(col_val), fontsize=14)\r\n",
        "    ax[i].set_xlabel(col_val, fontsize=12)"
      ],
      "execution_count": 62,
      "outputs": [
        {
          "output_type": "display_data",
          "data": {
            "image/png": "[encoded data removed]",
            "text/plain": [
              "<Figure size 720x1080 with 3 Axes>"
            ]
          },
          "metadata": {
            "tags": [],
            "needs_background": "light"
          }
        }
      ]
    },
    {
      "cell_type": "markdown",
      "metadata": {
        "id": "SsKzQSLCfyST"
      },
      "source": [
        "Outliers in the 'year' column may indicate a data entry error as the years data collection in the different countries are from 2016 to 2018; therefore we will remove them. In as much as the outliers in 'age' and 'household_size' columns may be due to the diversity of the respondents, they will tremendously affect the means, variances, and skewness of the variables; therefore we will remove them too. "
      ]
    },
    {
      "cell_type": "code",
      "metadata": {
        "id": "e1Kc5qOsfMms"
      },
      "source": [
        "# Removing outliers\r\n",
        "Q1 = financial_df.quantile(0.25)\r\n",
        "Q3 = financial_df.quantile(0.75)\r\n",
        "IQR = Q3 - Q1\r\n",
        "financial_df = financial_df[~((financial_df < (Q1 - 1.5 * IQR)) | (financial_df > (Q3 + 1.5 * IQR))).any(axis=1)]"
      ],
      "execution_count": 63,
      "outputs": []
    },
    {
      "cell_type": "markdown",
      "metadata": {
        "id": "kyAg_t3x6EsR"
      },
      "source": [
        "Checking for anomalies in the columns with categorical variables"
      ]
    },
    {
      "cell_type": "code",
      "metadata": {
        "colab": {
          "base_uri": "https://localhost:8080/"
        },
        "id": "uJybHvYTX61B",
        "outputId": "210365ae-2b87-4145-acb7-6a77e408ebf1"
      },
      "source": [
        "# Finding out the unique values in 'age' column\r\n",
        "financial_df['age'].unique()"
      ],
      "execution_count": 100,
      "outputs": [
        {
          "output_type": "execute_result",
          "data": {
            "text/plain": [
              "array([24., 70., 26., 34., 32., 42., 54., 76., 40., 69., 64., 31., 38.,\n",
              "       47., 27., 48., 25., 21., 18., 22., 58., 55., 62., 29., 35., 45.,\n",
              "       67., 19., 80., 66., 50., 33., 28., 51., 16., 17., 30., 37., 59.,\n",
              "       65., 46., 56., 52., 43., 49., 44., 72., 53., 63., 39., 81., 78.,\n",
              "       36., 20., 60., 23., 71., 57., 68., 41., 61., 75., 73., 74., 77.,\n",
              "       82., 79., 83.])"
            ]
          },
          "metadata": {
            "tags": []
          },
          "execution_count": 100
        }
      ]
    },
    {
      "cell_type": "markdown",
      "metadata": {
        "id": "_0S3t01DYQRv"
      },
      "source": [
        "The 'age' column has no anomaly"
      ]
    },
    {
      "cell_type": "code",
      "metadata": {
        "colab": {
          "base_uri": "https://localhost:8080/"
        },
        "id": "FCxLCSeKYIL6",
        "outputId": "fbcadd41-bfc0-4bf5-ca4d-dfd37b7c1bff"
      },
      "source": [
        "# Finding out the unique values in 'household_size' column\r\n",
        "financial_df['household_size'].unique()"
      ],
      "execution_count": 102,
      "outputs": [
        {
          "output_type": "execute_result",
          "data": {
            "text/plain": [
              "array([3., 5., 8., 7., 1., 6., 4., 2., 9., 0.])"
            ]
          },
          "metadata": {
            "tags": []
          },
          "execution_count": 102
        }
      ]
    },
    {
      "cell_type": "markdown",
      "metadata": {
        "id": "WsypScq1YWa_"
      },
      "source": [
        "0 is an anomaly in the 'house_hold' size column"
      ]
    },
    {
      "cell_type": "code",
      "metadata": {
        "colab": {
          "base_uri": "https://localhost:8080/"
        },
        "id": "5KRWIHZGYwCi",
        "outputId": "54fdfc25-2dc5-42e5-e477-6051662a39b4"
      },
      "source": [
        "# Finding out the number of recors with '0' as the household_size\r\n",
        "financial_df[(financial_df['household_size']==0)].shape"
      ],
      "execution_count": 105,
      "outputs": [
        {
          "output_type": "execute_result",
          "data": {
            "text/plain": [
              "(27, 12)"
            ]
          },
          "metadata": {
            "tags": []
          },
          "execution_count": 105
        }
      ]
    },
    {
      "cell_type": "markdown",
      "metadata": {
        "id": "ccIOIXOeZR6D"
      },
      "source": [
        "Since 27 is a very small number compared to the total number of records, we can remove the records with '0' in the 'household_size' column in order to have an anomaly free dataset while still maintaining the quality of the data"
      ]
    },
    {
      "cell_type": "code",
      "metadata": {
        "id": "rA85sRPcZ7JE"
      },
      "source": [
        "# Dropping the entries with '0' in 'household_size' column\r\n",
        "financial_df.drop(financial_df.index[financial_df['household_size'] == 0], inplace = True)"
      ],
      "execution_count": 106,
      "outputs": []
    },
    {
      "cell_type": "code",
      "metadata": {
        "id": "tpZcKCDh0meL",
        "colab": {
          "base_uri": "https://localhost:8080/"
        },
        "outputId": "5540e789-2505-46f3-ffb7-8a9710724f58"
      },
      "source": [
        "# Finding out the unique values in the 'Country' column\r\n",
        "financial_df['country'].unique()"
      ],
      "execution_count": 64,
      "outputs": [
        {
          "output_type": "execute_result",
          "data": {
            "text/plain": [
              "array(['Kenya', 'Rwanda', 'Tanzania', 'Uganda'], dtype=object)"
            ]
          },
          "metadata": {
            "tags": []
          },
          "execution_count": 64
        }
      ]
    },
    {
      "cell_type": "markdown",
      "metadata": {
        "id": "l6v2azzB7j4q"
      },
      "source": [
        "The 'country' column has no anomaly\r\n"
      ]
    },
    {
      "cell_type": "code",
      "metadata": {
        "colab": {
          "base_uri": "https://localhost:8080/"
        },
        "id": "LkMhNrIP7vEh",
        "outputId": "dbc29f66-c734-4091-92f7-0d9b0777c1c6"
      },
      "source": [
        "# Finding out the unique values in 'bank_account' column\r\n",
        "financial_df['bank_account'].unique()\r\n"
      ],
      "execution_count": 65,
      "outputs": [
        {
          "output_type": "execute_result",
          "data": {
            "text/plain": [
              "array(['Yes', 'No'], dtype=object)"
            ]
          },
          "metadata": {
            "tags": []
          },
          "execution_count": 65
        }
      ]
    },
    {
      "cell_type": "markdown",
      "metadata": {
        "id": "2H8HdYWIBaIx"
      },
      "source": [
        "The 'bank_account' column has no anomaly"
      ]
    },
    {
      "cell_type": "code",
      "metadata": {
        "colab": {
          "base_uri": "https://localhost:8080/"
        },
        "id": "wFvj0EAw-GV1",
        "outputId": "93381692-1866-4951-bc87-4e3f963aa8d5"
      },
      "source": [
        "# Finding out the unique values in 'location' column\r\n",
        "financial_df['location'].unique()"
      ],
      "execution_count": 66,
      "outputs": [
        {
          "output_type": "execute_result",
          "data": {
            "text/plain": [
              "array(['Rural', 'Urban'], dtype=object)"
            ]
          },
          "metadata": {
            "tags": []
          },
          "execution_count": 66
        }
      ]
    },
    {
      "cell_type": "markdown",
      "metadata": {
        "id": "uhI9kDoHByUc"
      },
      "source": [
        "The 'location' column has no anomaly"
      ]
    },
    {
      "cell_type": "code",
      "metadata": {
        "colab": {
          "base_uri": "https://localhost:8080/"
        },
        "id": "Z5CvLwa9Bxum",
        "outputId": "b4c6e5b5-107d-4440-927f-b1052e91758f"
      },
      "source": [
        "# Finding out the unique values in 'phone' column\r\n",
        "financial_df['phone'].unique()"
      ],
      "execution_count": 67,
      "outputs": [
        {
          "output_type": "execute_result",
          "data": {
            "text/plain": [
              "array(['Yes', 'No'], dtype=object)"
            ]
          },
          "metadata": {
            "tags": []
          },
          "execution_count": 67
        }
      ]
    },
    {
      "cell_type": "markdown",
      "metadata": {
        "id": "KgOUD-I6Chgo"
      },
      "source": [
        "The 'phone' column has no anomaly"
      ]
    },
    {
      "cell_type": "code",
      "metadata": {
        "colab": {
          "base_uri": "https://localhost:8080/"
        },
        "id": "kFYsfKtICnz4",
        "outputId": "94c73a2e-adc8-4d32-ddef-52fd681f5502"
      },
      "source": [
        "# Finding out the unique values in 'gender' column\r\n",
        "financial_df['gender'].unique()"
      ],
      "execution_count": 68,
      "outputs": [
        {
          "output_type": "execute_result",
          "data": {
            "text/plain": [
              "array(['Female', 'Male'], dtype=object)"
            ]
          },
          "metadata": {
            "tags": []
          },
          "execution_count": 68
        }
      ]
    },
    {
      "cell_type": "markdown",
      "metadata": {
        "id": "SZXeJe-eC4Ts"
      },
      "source": [
        "The 'gender' column has no anomaly"
      ]
    },
    {
      "cell_type": "code",
      "metadata": {
        "colab": {
          "base_uri": "https://localhost:8080/"
        },
        "id": "z61IEb0RC-nB",
        "outputId": "2fdcb2d0-d7da-4bb4-ec13-4361e7ad7ac5"
      },
      "source": [
        "# Finding out the unique values in 'relationship_with_head' column\r\n",
        "financial_df['relationship_with_head'].unique()"
      ],
      "execution_count": 69,
      "outputs": [
        {
          "output_type": "execute_result",
          "data": {
            "text/plain": [
              "array(['Spouse', 'Head of Household', 'Other relative', 'Child', 'Parent',\n",
              "       'Other non-relatives'], dtype=object)"
            ]
          },
          "metadata": {
            "tags": []
          },
          "execution_count": 69
        }
      ]
    },
    {
      "cell_type": "markdown",
      "metadata": {
        "id": "QrP4o7NAD0ME"
      },
      "source": [
        "The 'relationship_with_head' column has no anomaly"
      ]
    },
    {
      "cell_type": "code",
      "metadata": {
        "colab": {
          "base_uri": "https://localhost:8080/"
        },
        "id": "Qs9z9G7XDS8Z",
        "outputId": "d0018c4a-0319-4b42-bfe5-848f11e950be"
      },
      "source": [
        "# Finding out the unique values in 'marital_status' column\r\n",
        "financial_df['marital_status'].unique()"
      ],
      "execution_count": 70,
      "outputs": [
        {
          "output_type": "execute_result",
          "data": {
            "text/plain": [
              "array(['Married/Living together', 'Widowed', 'Single/Never Married',\n",
              "       'Divorced/Seperated', 'Dont know'], dtype=object)"
            ]
          },
          "metadata": {
            "tags": []
          },
          "execution_count": 70
        }
      ]
    },
    {
      "cell_type": "markdown",
      "metadata": {
        "id": "ZZTkTc2FD69c"
      },
      "source": [
        "The 'marital_status' column has no anomaly"
      ]
    },
    {
      "cell_type": "code",
      "metadata": {
        "colab": {
          "base_uri": "https://localhost:8080/"
        },
        "id": "f6x-gkEvEGg-",
        "outputId": "10151075-e0cb-4852-baa2-55818c4b443d"
      },
      "source": [
        "# Finding out the unique values in 'education_level' column\r\n",
        "financial_df['education_level'].unique()"
      ],
      "execution_count": 71,
      "outputs": [
        {
          "output_type": "execute_result",
          "data": {
            "text/plain": [
              "array(['Secondary education', 'No formal education',\n",
              "       'Vocational/Specialised training', 'Primary education',\n",
              "       'Tertiary education', 'Other/Dont know/RTA', '6'], dtype=object)"
            ]
          },
          "metadata": {
            "tags": []
          },
          "execution_count": 71
        }
      ]
    },
    {
      "cell_type": "markdown",
      "metadata": {
        "id": "LzcYpAXLEcX3"
      },
      "source": [
        "'6' seems to be an anomaly in the 'education_level' column"
      ]
    },
    {
      "cell_type": "code",
      "metadata": {
        "colab": {
          "base_uri": "https://localhost:8080/"
        },
        "id": "i7OPKNNGFIdQ",
        "outputId": "d34fc64c-5c57-46e4-c7ae-bd97c8b5ee86"
      },
      "source": [
        "# Finding out the number of entries with '6' in the 'education_level' \r\n",
        "financial_df[(financial_df['education_level']=='6')].shape"
      ],
      "execution_count": 72,
      "outputs": [
        {
          "output_type": "execute_result",
          "data": {
            "text/plain": [
              "(25, 13)"
            ]
          },
          "metadata": {
            "tags": []
          },
          "execution_count": 72
        }
      ]
    },
    {
      "cell_type": "markdown",
      "metadata": {
        "id": "vhzYMTn9Gzmi"
      },
      "source": [
        "Since 25 is a very small number compared to the total number of records, we can remove the records with '6' in the 'education_level' column in order to have an anomaly free dataset while still maintaining the quality of the data"
      ]
    },
    {
      "cell_type": "code",
      "metadata": {
        "id": "NWIQhjJIGyAv"
      },
      "source": [
        "# Dropping the entries with '6' in 'education_level' column\r\n",
        "financial_df.drop(financial_df.index[financial_df['education_level'] == '6'], inplace = True)"
      ],
      "execution_count": 73,
      "outputs": []
    },
    {
      "cell_type": "code",
      "metadata": {
        "colab": {
          "base_uri": "https://localhost:8080/"
        },
        "id": "eQAE-dQXEQrG",
        "outputId": "ef4a53e8-6331-4f46-d03d-b8e58420dd9b"
      },
      "source": [
        "# Finding out the unique values in 'gender' column\r\n",
        "financial_df['type_of_job'].unique()"
      ],
      "execution_count": 74,
      "outputs": [
        {
          "output_type": "execute_result",
          "data": {
            "text/plain": [
              "array(['Self employed', 'Government Dependent',\n",
              "       'Formally employed Private', 'Informally employed',\n",
              "       'Formally employed Government', 'Farming and Fishing',\n",
              "       'Remittance Dependent', 'Other Income',\n",
              "       'Dont Know/Refuse to answer', 'No Income'], dtype=object)"
            ]
          },
          "metadata": {
            "tags": []
          },
          "execution_count": 74
        }
      ]
    },
    {
      "cell_type": "markdown",
      "metadata": {
        "id": "vA6mSN8eIBUX"
      },
      "source": [
        "The 'type_of_job' column has no anomaly"
      ]
    },
    {
      "cell_type": "code",
      "metadata": {
        "id": "r1H5DSt3spyc"
      },
      "source": [
        "# Dropping irrelevant columns\r\n",
        "financial_df.drop(['year'], axis=1, inplace=True)"
      ],
      "execution_count": 75,
      "outputs": []
    },
    {
      "cell_type": "code",
      "metadata": {
        "colab": {
          "base_uri": "https://localhost:8080/"
        },
        "id": "rIHgkjrnJJ8i",
        "outputId": "d06afd8e-37e2-4017-f71e-eaa25e34c6b5"
      },
      "source": [
        "# Finding the number of records remaining after cleaning\r\n",
        "financial_df.shape"
      ],
      "execution_count": 107,
      "outputs": [
        {
          "output_type": "execute_result",
          "data": {
            "text/plain": [
              "(22673, 12)"
            ]
          },
          "metadata": {
            "tags": []
          },
          "execution_count": 107
        }
      ]
    },
    {
      "cell_type": "markdown",
      "metadata": {
        "id": "ddgxYYX28XVI"
      },
      "source": [
        "## 7. Exploratory Analyses"
      ]
    },
    {
      "cell_type": "markdown",
      "metadata": {
        "id": "UBysCjqN9BZQ"
      },
      "source": [
        "### a. Univariate analysis"
      ]
    },
    {
      "cell_type": "markdown",
      "metadata": {
        "id": "6ijG9BJZgWHZ"
      },
      "source": [
        "#### i. Categorical variables"
      ]
    },
    {
      "cell_type": "markdown",
      "metadata": {
        "id": "cPxi0m8qlIY7"
      },
      "source": [
        "#### Recommendation for effectively performing univariate analysis while working on the current problem.\r\n",
        "\r\n",
        "The objective of the study is to find how we can predict which individuals are most likely to have or use a bank account. While conducting univariate analyses on categorical variables, we will investigate the usage of bank accounts by individuals depending on their level of education. This will give us insights into how an individual's level of education might drive his/her financial outcomes. The univariate analyses could be done using any of the other variables, e.g. type of job, age, gender of respondent, country, etc. \r\n",
        "\r\n",
        "\r\n"
      ]
    },
    {
      "cell_type": "markdown",
      "metadata": {
        "id": "MkglVx_boDJr"
      },
      "source": [
        "Understanding the individuals from whom data was collected"
      ]
    },
    {
      "cell_type": "code",
      "metadata": {
        "colab": {
          "base_uri": "https://localhost:8080/",
          "height": 316
        },
        "id": "CgCW5DPuoCDl",
        "outputId": "cf5ec2bb-0fc8-4b5d-b24c-c91581ee4242"
      },
      "source": [
        "# Creating a bar chart for the proportion of count of values in 'country' column\r\n",
        "\r\n",
        "#plotting a bar graph\r\n",
        "(financial_df['country'].value_counts(normalize=True)).plot.barh()\r\n",
        "\r\n",
        "# labelling and formatting bar chart \r\n",
        "plt.title('Proportion of Individuals per Country', fontsize=15, y=1.015)\r\n",
        "# labelling and formatting x axis \r\n",
        "plt.xlabel('Proportion of Individuals', fontsize=14, labelpad=15)\r\n",
        "# labelling and formatting y axis\r\n",
        "plt.ylabel('Country', fontsize=14, labelpad=15)\r\n",
        "#display bar chart\r\n",
        "plt.show()"
      ],
      "execution_count": 113,
      "outputs": [
        {
          "output_type": "display_data",
          "data": {
            "image/png": "[encoded data removed]",
            "text/plain": [
              "<Figure size 432x288 with 1 Axes>"
            ]
          },
          "metadata": {
            "tags": [],
            "needs_background": "light"
          }
        }
      ]
    },
    {
      "cell_type": "markdown",
      "metadata": {
        "id": "nWNhlJGMohkD"
      },
      "source": [
        "37.47% of the individuals were from Rwanda, 28.20% from Tanzania, 25.88% from Kenya, and 8.45% from Uganda "
      ]
    },
    {
      "cell_type": "code",
      "metadata": {
        "colab": {
          "base_uri": "https://localhost:8080/",
          "height": 436
        },
        "id": "-DpbWxPL3QlY",
        "outputId": "fe98db7a-a005-4833-ff83-a60ba10a5158"
      },
      "source": [
        "# Creating a pie chart of the percentage of count of values in 'gender' column\r\n",
        "\r\n",
        "# Finding the count of values of the elements in 'bank_account' column\r\n",
        "gender = financial_df.gender.value_counts()\r\n",
        "gender\r\n",
        "\r\n",
        "# Assigning the colums to 'element' and 'size' variables\r\n",
        "element = gender.values\r\n",
        "size = gender.index\r\n",
        "\r\n",
        "# Specifying the colors of the pie chart\r\n",
        "colors = ['lightpink', 'lightblue']\r\n",
        "\r\n",
        "# plotting the pie chart\r\n",
        "plt.figure(figsize = (5,5), dpi = 100)\r\n",
        "plt.pie(element, labels=size, colors=colors, autopct ='%1.1f%%', shadow =True, explode=(0.1,0), startangle = 90)\r\n",
        "plt.axis('equal')\r\n",
        "plt.title('Pie Chart of Gender Distribution')\r\n",
        "plt.show()"
      ],
      "execution_count": 114,
      "outputs": [
        {
          "output_type": "display_data",
          "data": {
            "image/png": "[encoded data removed]",
            "text/plain": [
              "<Figure size 500x500 with 1 Axes>"
            ]
          },
          "metadata": {
            "tags": []
          }
        }
      ]
    },
    {
      "cell_type": "markdown",
      "metadata": {
        "id": "fzYEKMsV4pPX"
      },
      "source": [
        "58.9% of respondents were female and 41.1% were male"
      ]
    },
    {
      "cell_type": "markdown",
      "metadata": {
        "id": "xLVWBp0umnjV"
      },
      "source": [
        "Let us find the overall usage of commercial banks by individuals in the sample population"
      ]
    },
    {
      "cell_type": "code",
      "metadata": {
        "colab": {
          "base_uri": "https://localhost:8080/",
          "height": 436
        },
        "id": "r8jXZdUG9TFC",
        "outputId": "defc1b59-88d5-4f9c-959f-6225b391b116"
      },
      "source": [
        "# Creating a pie chart of the percentage of count of values in 'bank_account' column\r\n",
        "\r\n",
        "# Finding the count of values of the elements in 'bank_account' column\r\n",
        "bank_usage = financial_df.bank_account.value_counts()\r\n",
        "bank_usage\r\n",
        "\r\n",
        "# Assigning the colums to 'element' and 'size' variables\r\n",
        "element = bank_usage.values\r\n",
        "size = bank_usage.index\r\n",
        "\r\n",
        "# Specifying the colors of the pie chart\r\n",
        "colors = ['lightblue', 'gray']\r\n",
        "\r\n",
        "# plotting the pie chart\r\n",
        "plt.figure(figsize = (5,5), dpi = 100)\r\n",
        "plt.pie(element, labels=size, colors=colors, autopct ='%1.1f%%', shadow =True, explode=(0.1,0), startangle = 90)\r\n",
        "plt.axis('equal')\r\n",
        "plt.title('Pie Chart of Usage of Bank Account')\r\n",
        "plt.show()\r\n"
      ],
      "execution_count": 115,
      "outputs": [
        {
          "output_type": "display_data",
          "data": {
            "image/png": "[encoded data removed]",
            "text/plain": [
              "<Figure size 500x500 with 1 Axes>"
            ]
          },
          "metadata": {
            "tags": []
          }
        }
      ]
    },
    {
      "cell_type": "markdown",
      "metadata": {
        "id": "Z4lbZ-gGETx0"
      },
      "source": [
        "Information prior to this analysis indicated that about 13.9% of the adult population in Kenya, Uganda, Tanzania and Rwanda have access to or use a commercial bank account. Our findings show that only 14.2% of the population sample have access to or use a commercial bank account. The difference is only 0.3% meaning that this sample can almost accurately represent the population."
      ]
    },
    {
      "cell_type": "markdown",
      "metadata": {
        "id": "mX2duF2tvPkq"
      },
      "source": [
        "Let us find the proportion of bank usage of the individuals per level of education"
      ]
    },
    {
      "cell_type": "code",
      "metadata": {
        "colab": {
          "base_uri": "https://localhost:8080/",
          "height": 316
        },
        "id": "dk3DqdHbvNyd",
        "outputId": "88312573-4ebf-48e4-d455-5d5cf2db798d"
      },
      "source": [
        "# Creating a bar chart for the proportion of count of values in 'education_level' column\r\n",
        "\r\n",
        "#plotting a bar graph\r\n",
        "(financial_df['education_level'].value_counts(normalize=True)).plot.barh()\r\n",
        "\r\n",
        "# labelling and formatting bar chart \r\n",
        "plt.title('Proportion of Individuals per Level of Education', fontsize=15, y=1.015)\r\n",
        "# labelling and formatting x axis \r\n",
        "plt.xlabel('Proportion of Individuals', fontsize=14, labelpad=15)\r\n",
        "# labelling and formatting y axis\r\n",
        "plt.ylabel('Level of Education', fontsize=14, labelpad=15)\r\n",
        "#display bar chart\r\n",
        "plt.show()"
      ],
      "execution_count": 116,
      "outputs": [
        {
          "output_type": "display_data",
          "data": {
            "image/png": "[encoded data removed]",
            "text/plain": [
              "<Figure size 432x288 with 1 Axes>"
            ]
          },
          "metadata": {
            "tags": [],
            "needs_background": "light"
          }
        }
      ]
    },
    {
      "cell_type": "markdown",
      "metadata": {
        "id": "6eqd9QDDvo4H"
      },
      "source": [
        "The analysis shows that the highest level of education for a majority of the individuals (54.82%) is primary education, followed by no formal education (18.63%), secondary education (18.07%), tertiary education (5%), vocational/specialised training (3.46%) and lastly 0.03 of the individuals fall under others/don't know/RTA"
      ]
    },
    {
      "cell_type": "markdown",
      "metadata": {
        "id": "7jIv5fu4MEQ9"
      },
      "source": [
        "In the following univariate analyses of categorical variables, we will analyse the usage of commercial bank accounts based the levels of education of the individuals in the sample population"
      ]
    },
    {
      "cell_type": "code",
      "metadata": {
        "id": "E6bVdlZlN4Rv"
      },
      "source": [
        "# Creating a dataframe of individuals with secondary education as highest level of education\r\n",
        "secondary = financial_df[(financial_df['education_level']=='Secondary education')]\r\n",
        "\r\n",
        "# Creating a dataframe of individuals with no formal education as highest level of education\r\n",
        "no_formal = financial_df[(financial_df['education_level']=='No formal education')]\r\n",
        "\r\n",
        "# Creating a dataframe of individuals with vocational/specialized training as highest level of education\r\n",
        "specialized_training = financial_df[(financial_df['education_level']=='Vocational/Specialised training')]\r\n",
        "\r\n",
        "# Creating a dataframe of individuals with primary education as highest level of education\r\n",
        "primary = financial_df[(financial_df['education_level']=='Primary education')]\r\n",
        "\r\n",
        "# Creating a dataframe of individuals with tertiary education as highest level of education\r\n",
        "tertiary = financial_df[(financial_df['education_level']=='Tertiary education')]\r\n",
        "\r\n",
        "# Creating a dataframe of individuals with other/unkown/RTA as highest level of education\r\n",
        "other = financial_df[(financial_df['education_level']=='Other/Dont know/RTA')]"
      ],
      "execution_count": 117,
      "outputs": []
    },
    {
      "cell_type": "code",
      "metadata": {
        "colab": {
          "base_uri": "https://localhost:8080/"
        },
        "id": "gu600qaVgMuz",
        "outputId": "a555b2ab-ebf0-4adb-d6e1-6d6971b5b02f"
      },
      "source": [
        "# Creating a frequency table for proportion of bank usage among individuals with other/unkown/RTA as highest level of education\r\n",
        "other.bank_account.value_counts(normalize=True)"
      ],
      "execution_count": 122,
      "outputs": [
        {
          "output_type": "execute_result",
          "data": {
            "text/plain": [
              "Yes    1.0\n",
              "Name: bank_account, dtype: float64"
            ]
          },
          "metadata": {
            "tags": []
          },
          "execution_count": 122
        }
      ]
    },
    {
      "cell_type": "markdown",
      "metadata": {
        "id": "N80VB7R-vzQk"
      },
      "source": [
        "Out of the 0.03% of the individuals in the population with other/unknown/RTA as their highest level of education, 100% percent of them are likely to have a bank account "
      ]
    },
    {
      "cell_type": "code",
      "metadata": {
        "colab": {
          "base_uri": "https://localhost:8080/"
        },
        "id": "q5bi_xDIP-1J",
        "outputId": "3fcb4bb5-12fb-48a1-ba29-4c64adbba487"
      },
      "source": [
        "# Creating a frequency table for proportion of bank usage among individuals with no formal as highest level of education\r\n",
        "no_formal.bank_account.value_counts(normalize=True)"
      ],
      "execution_count": 123,
      "outputs": [
        {
          "output_type": "execute_result",
          "data": {
            "text/plain": [
              "No     0.961893\n",
              "Yes    0.038107\n",
              "Name: bank_account, dtype: float64"
            ]
          },
          "metadata": {
            "tags": []
          },
          "execution_count": 123
        }
      ]
    },
    {
      "cell_type": "markdown",
      "metadata": {
        "id": "oTydq405xSS8"
      },
      "source": [
        "Out of the 18.63% of the individuals in the population with no formal education as their highest level of education, only 3.81% percent of them are likely to have a bank account, and 96.19% of them are likely to not have a bank account"
      ]
    },
    {
      "cell_type": "code",
      "metadata": {
        "colab": {
          "base_uri": "https://localhost:8080/",
          "height": 316
        },
        "id": "LGypaBv7yoNv",
        "outputId": "7c1bd3b7-3383-4584-caf9-8b7a7f0b9034"
      },
      "source": [
        "# Creating a bar chart for proportion of bank usage among individuals with tertiary education as highest level of education\r\n",
        "(tertiary['bank_account'].value_counts(normalize=True)).plot.bar()\r\n",
        "\r\n",
        "# labelling and formatting bar chart \r\n",
        "plt.title('Proportion of Bank Usage Among Individuals with up to Tertiary Education', fontsize=15, y=1.015)\r\n",
        "# labelling and formatting x axis \r\n",
        "plt.xlabel('Bank Usage', fontsize=14, labelpad=15)\r\n",
        "# rotating the labels on the x axis\r\n",
        "plt.xticks(rotation = 360)\r\n",
        "# labelling and formatting y axis\r\n",
        "plt.ylabel('Proportion of Individuals', fontsize=14, labelpad=15)\r\n",
        "#display bar chart\r\n",
        "plt.show()"
      ],
      "execution_count": 84,
      "outputs": [
        {
          "output_type": "display_data",
          "data": {
            "image/png": "[encoded data removed]",
            "text/plain": [
              "<Figure size 432x288 with 1 Axes>"
            ]
          },
          "metadata": {
            "tags": [],
            "needs_background": "light"
          }
        }
      ]
    },
    {
      "cell_type": "markdown",
      "metadata": {
        "id": "DVPm2twFwp5I"
      },
      "source": [
        "Out of the 5% of the individuals in the population with tertiary education as their highest level of education, 51.59% percent of them are likely to have a bank account while  48.41% of them are likely to not have a bank account"
      ]
    },
    {
      "cell_type": "code",
      "metadata": {
        "colab": {
          "base_uri": "https://localhost:8080/",
          "height": 316
        },
        "id": "t0owxeNY5jn2",
        "outputId": "919e6c65-221e-483e-ef07-b954dc9faf24"
      },
      "source": [
        "# Creating a bar chart for proportion of bank usage among individuals with secondary education as highest level of education\r\n",
        "(secondary['bank_account'].value_counts(normalize=True)).plot.bar()\r\n",
        "\r\n",
        "# labelling and formatting bar chart \r\n",
        "plt.title('Proportion of Bank Usage Among Individuals with up to Secondary Education', fontsize=15, y=1.015)\r\n",
        "# labelling and formatting x axis \r\n",
        "plt.xlabel('Bank Usage', fontsize=14, labelpad=15)\r\n",
        "# rotating the labels on the x axis\r\n",
        "plt.xticks(rotation = 360)\r\n",
        "# labelling and formatting y axis\r\n",
        "plt.ylabel('Proportion of Individuals', fontsize=14, labelpad=15)\r\n",
        "#display bar chart\r\n",
        "plt.show()"
      ],
      "execution_count": 85,
      "outputs": [
        {
          "output_type": "display_data",
          "data": {
            "image/png": "[encoded data removed]",
            "text/plain": [
              "<Figure size 432x288 with 1 Axes>"
            ]
          },
          "metadata": {
            "tags": [],
            "needs_background": "light"
          }
        }
      ]
    },
    {
      "cell_type": "markdown",
      "metadata": {
        "id": "ZqvXpngA6CAg"
      },
      "source": [
        "\r\n",
        "Out of the 18.07% of the individuals in the population with secondary education as their highest level of education, only 23.63% percent of them are likely to have a bank account while 76.36% of them are likely to not have a bank account"
      ]
    },
    {
      "cell_type": "code",
      "metadata": {
        "colab": {
          "base_uri": "https://localhost:8080/",
          "height": 436
        },
        "id": "xXdDy7qJ537t",
        "outputId": "c7bc9da0-f858-40fb-d547-34ab9fe01820"
      },
      "source": [
        "# Creating a pie chart of the percentage of bank usage among idividuals with vocational/specialized training as their highest level of education\r\n",
        "\r\n",
        "# Finding the count of values of the elements in 'bank_account' column\r\n",
        "bank_usage = specialized_training.bank_account.value_counts()\r\n",
        "bank_usage\r\n",
        "\r\n",
        "# Assigning the colums to 'element' and 'size' variables\r\n",
        "element = bank_usage.values\r\n",
        "size = bank_usage.index\r\n",
        "\r\n",
        "# Specifying the colors of the pie chart\r\n",
        "colors = ['lightblue', 'gray']\r\n",
        "\r\n",
        "# plotting the pie chart\r\n",
        "plt.figure(figsize = (5,5), dpi = 100)\r\n",
        "plt.pie(element, labels=size, colors=colors, autopct ='%1.1f%%', shadow =True, explode=(0.1,0), startangle = 90)\r\n",
        "plt.axis('equal')\r\n",
        "plt.title('Pie Chart of Usage of Bank Account Among Individuals with up to Vocational/Specialized Training')\r\n",
        "plt.show()"
      ],
      "execution_count": 129,
      "outputs": [
        {
          "output_type": "display_data",
          "data": {
            "image/png": "[encoded data removed]",
            "text/plain": [
              "<Figure size 500x500 with 1 Axes>"
            ]
          },
          "metadata": {
            "tags": []
          }
        }
      ]
    },
    {
      "cell_type": "markdown",
      "metadata": {
        "id": "YEklZNeW7X4U"
      },
      "source": [
        "Out of the 3.46% of the individuals in the population with vocational/specialized training as their highest level of education, 57.3% percent of them are likely to have a bank account while 42.7% are likely to not have a bank account"
      ]
    },
    {
      "cell_type": "code",
      "metadata": {
        "colab": {
          "base_uri": "https://localhost:8080/",
          "height": 436
        },
        "id": "dZb3l1t8e09j",
        "outputId": "a906fddc-8256-45b3-ce85-bc7cbf51b3ae"
      },
      "source": [
        "# Creating a pie chart of the percentage of bank usage among idividuals with primary education training as their highest level of education\r\n",
        "\r\n",
        "# Finding the count of values of the elements in 'bank_account' column\r\n",
        "bank_usage = primary.bank_account.value_counts()\r\n",
        "bank_usage\r\n",
        "\r\n",
        "# Assigning the colums to 'element' and 'size' variables\r\n",
        "element = bank_usage.values\r\n",
        "size = bank_usage.index\r\n",
        "\r\n",
        "# Specifying the colors of the pie chart\r\n",
        "colors = ['lightblue', 'gray']\r\n",
        "\r\n",
        "# plotting the pie chart\r\n",
        "plt.figure(figsize = (5,5), dpi = 100)\r\n",
        "plt.pie(element, labels=size, colors=colors, autopct ='%1.1f%%', shadow =True, explode=(0.1,0), startangle = 90)\r\n",
        "plt.axis('equal')\r\n",
        "plt.title('Pie Chart of Usage of Bank Account Among Individuals with up to Primary Education')\r\n",
        "plt.show()"
      ],
      "execution_count": 130,
      "outputs": [
        {
          "output_type": "display_data",
          "data": {
            "image/png": "[encoded data removed]",
            "text/plain": [
              "<Figure size 500x500 with 1 Axes>"
            ]
          },
          "metadata": {
            "tags": []
          }
        }
      ]
    },
    {
      "cell_type": "markdown",
      "metadata": {
        "id": "1vA5fWfUfMAu"
      },
      "source": [
        "Out of the 54.82% of the individuals in the population with primary education as their highest level of education, only 8.5% percent of them are likely to have a bank account while 91.5% are likely to not have a bank account"
      ]
    },
    {
      "cell_type": "markdown",
      "metadata": {
        "id": "q3F5KPOR1xIt"
      },
      "source": [
        "#### ii. Numerical variables"
      ]
    },
    {
      "cell_type": "markdown",
      "metadata": {
        "id": "N3MSPL7DggBh"
      },
      "source": [
        "Univariate analysis of numerical variables will help us understand the individuals in the sample population better     \r\n",
        "Our numerical variables are household_size and age"
      ]
    },
    {
      "cell_type": "markdown",
      "metadata": {
        "id": "Puo-kGbjgVQn"
      },
      "source": [
        "##### Measures of central tendency\r\n",
        "\r\n",
        "\r\n"
      ]
    },
    {
      "cell_type": "markdown",
      "metadata": {
        "id": "2qGIXZMRhIGX"
      },
      "source": [
        "###### Age"
      ]
    },
    {
      "cell_type": "code",
      "metadata": {
        "id": "Bm9sI8Wj1u_a",
        "colab": {
          "base_uri": "https://localhost:8080/"
        },
        "outputId": "198d49f9-ef15-43d0-ea75-189b44e3a08c"
      },
      "source": [
        "# Finding the mean age of individuals in the sample population\r\n",
        "financial_df['age'].mean()"
      ],
      "execution_count": 132,
      "outputs": [
        {
          "output_type": "execute_result",
          "data": {
            "text/plain": [
              "38.32677634190447"
            ]
          },
          "metadata": {
            "tags": []
          },
          "execution_count": 132
        }
      ]
    },
    {
      "cell_type": "markdown",
      "metadata": {
        "id": "JGk0TtXcihiz"
      },
      "source": [
        "The mean age of the individuals in the sample population is 38.33"
      ]
    },
    {
      "cell_type": "code",
      "metadata": {
        "colab": {
          "base_uri": "https://localhost:8080/"
        },
        "id": "OD9lFHddifTO",
        "outputId": "a6bd9a39-3416-470b-d8d2-d24b17987a64"
      },
      "source": [
        "# Finding the modal age of individuals in the sample population\r\n",
        "financial_df['age'].mode()\r\n"
      ],
      "execution_count": 133,
      "outputs": [
        {
          "output_type": "execute_result",
          "data": {
            "text/plain": [
              "0    30.0\n",
              "dtype: float64"
            ]
          },
          "metadata": {
            "tags": []
          },
          "execution_count": 133
        }
      ]
    },
    {
      "cell_type": "markdown",
      "metadata": {
        "id": "XbdRjOb2jCsr"
      },
      "source": [
        "The modal age of the individuals in the sample population is 30"
      ]
    },
    {
      "cell_type": "code",
      "metadata": {
        "colab": {
          "base_uri": "https://localhost:8080/"
        },
        "id": "1BELrijCjAaK",
        "outputId": "7db0fb75-da76-433b-c6fc-a522e725cb02"
      },
      "source": [
        "# Finding the median age of individuals in the sample population\r\n",
        "financial_df['age'].median()"
      ],
      "execution_count": 134,
      "outputs": [
        {
          "output_type": "execute_result",
          "data": {
            "text/plain": [
              "35.0"
            ]
          },
          "metadata": {
            "tags": []
          },
          "execution_count": 134
        }
      ]
    },
    {
      "cell_type": "markdown",
      "metadata": {
        "id": "pjhCgFuCjSAn"
      },
      "source": [
        "The median age of the individuals in the sample population is 35"
      ]
    },
    {
      "cell_type": "markdown",
      "metadata": {
        "id": "v7f_E_37jReS"
      },
      "source": [
        "###### Household size"
      ]
    },
    {
      "cell_type": "code",
      "metadata": {
        "colab": {
          "base_uri": "https://localhost:8080/"
        },
        "id": "6mE24c5rjQeL",
        "outputId": "007477e9-723f-4eb7-9911-a08daa29cc89"
      },
      "source": [
        "# Finding the mean household size of individuals in the sample population\r\n",
        "financial_df['household_size'].mean()"
      ],
      "execution_count": 135,
      "outputs": [
        {
          "output_type": "execute_result",
          "data": {
            "text/plain": [
              "3.5841309046001855"
            ]
          },
          "metadata": {
            "tags": []
          },
          "execution_count": 135
        }
      ]
    },
    {
      "cell_type": "markdown",
      "metadata": {
        "id": "7xejeEp6jxZF"
      },
      "source": [
        "The mean of the household size of the individulas in the sample population is 3.58"
      ]
    },
    {
      "cell_type": "code",
      "metadata": {
        "colab": {
          "base_uri": "https://localhost:8080/"
        },
        "id": "bgqavkR6jw9-",
        "outputId": "3d078930-bfd7-439b-bbc3-4987b304bf22"
      },
      "source": [
        "# Finding the modal household size of individuals in the sample population\r\n",
        "financial_df['household_size'].mode()"
      ],
      "execution_count": 136,
      "outputs": [
        {
          "output_type": "execute_result",
          "data": {
            "text/plain": [
              "0    2.0\n",
              "dtype: float64"
            ]
          },
          "metadata": {
            "tags": []
          },
          "execution_count": 136
        }
      ]
    },
    {
      "cell_type": "markdown",
      "metadata": {
        "id": "_78V-4rVjwf2"
      },
      "source": [
        "The modal household size of the individuals in the sample population is 2"
      ]
    },
    {
      "cell_type": "code",
      "metadata": {
        "colab": {
          "base_uri": "https://localhost:8080/"
        },
        "id": "g6hGmHJnjwGu",
        "outputId": "d8437439-b924-4ffd-81d5-e5091cb4b5c5"
      },
      "source": [
        "# Finding the median household size of individuals in the sample population\r\n",
        "financial_df['household_size'].median()"
      ],
      "execution_count": 137,
      "outputs": [
        {
          "output_type": "execute_result",
          "data": {
            "text/plain": [
              "3.0"
            ]
          },
          "metadata": {
            "tags": []
          },
          "execution_count": 137
        }
      ]
    },
    {
      "cell_type": "markdown",
      "metadata": {
        "id": "nBPEog9FjvRX"
      },
      "source": [
        "The median household size of the individuals in the sample pupulation is 3"
      ]
    },
    {
      "cell_type": "markdown",
      "metadata": {
        "id": "t0FsXSodk2HC"
      },
      "source": [
        "##### Measures of dispersion"
      ]
    },
    {
      "cell_type": "markdown",
      "metadata": {
        "id": "OKfT-KjJlCEB"
      },
      "source": [
        "###### Age"
      ]
    },
    {
      "cell_type": "code",
      "metadata": {
        "colab": {
          "base_uri": "https://localhost:8080/"
        },
        "id": "CUI4zA0T3VnF",
        "outputId": "bd64b138-7d4f-484c-b699-4bc52c2f3a6e"
      },
      "source": [
        "# Calculating the standard deviation\r\n",
        "financial_df['age'].std()"
      ],
      "execution_count": 157,
      "outputs": [
        {
          "output_type": "execute_result",
          "data": {
            "text/plain": [
              "15.786798363248979"
            ]
          },
          "metadata": {
            "tags": []
          },
          "execution_count": 157
        }
      ]
    },
    {
      "cell_type": "markdown",
      "metadata": {
        "id": "UZKQz7eSAZgB"
      },
      "source": [
        "A standard deviation of 15.79 indicates that the values are moderately close to the mean"
      ]
    },
    {
      "cell_type": "code",
      "metadata": {
        "colab": {
          "base_uri": "https://localhost:8080/"
        },
        "id": "yysICbeqyrDK",
        "outputId": "11a9ac89-b576-4b06-8184-7f80fc49b4b9"
      },
      "source": [
        "# Calculating the variance \r\n",
        "financial_df['age'].var()"
      ],
      "execution_count": 158,
      "outputs": [
        {
          "output_type": "execute_result",
          "data": {
            "text/plain": [
              "249.22300256188063"
            ]
          },
          "metadata": {
            "tags": []
          },
          "execution_count": 158
        }
      ]
    },
    {
      "cell_type": "markdown",
      "metadata": {
        "id": "l1mIYKoPArv9"
      },
      "source": [
        "A variance of 249.22 means that values are dispersed\r\n"
      ]
    },
    {
      "cell_type": "code",
      "metadata": {
        "colab": {
          "base_uri": "https://localhost:8080/"
        },
        "id": "l4_ffhnW4_5G",
        "outputId": "0716a2e0-188f-4c19-9419-74fdcb650253"
      },
      "source": [
        "# Calculating the range\r\n",
        "max_age = financial_df['age'].max()\r\n",
        "min_age = financial_df['age'].min()\r\n",
        "\r\n",
        "max_age - min_age"
      ],
      "execution_count": 159,
      "outputs": [
        {
          "output_type": "execute_result",
          "data": {
            "text/plain": [
              "67.0"
            ]
          },
          "metadata": {
            "tags": []
          },
          "execution_count": 159
        }
      ]
    },
    {
      "cell_type": "markdown",
      "metadata": {
        "id": "WZYhaTLdCNPQ"
      },
      "source": [
        "The range value shows length/difference between the maximum age and the minimum age is 67"
      ]
    },
    {
      "cell_type": "code",
      "metadata": {
        "colab": {
          "base_uri": "https://localhost:8080/"
        },
        "id": "AV2_M0pg20KC",
        "outputId": "4efdc39b-775e-4654-f55e-999f8c971814"
      },
      "source": [
        "# Calculating the quantiles \r\n",
        "financial_df['age'].quantile([0.25,0.5,0.75])"
      ],
      "execution_count": 161,
      "outputs": [
        {
          "output_type": "execute_result",
          "data": {
            "text/plain": [
              "0.25    26.0\n",
              "0.50    35.0\n",
              "0.75    48.0\n",
              "Name: age, dtype: float64"
            ]
          },
          "metadata": {
            "tags": []
          },
          "execution_count": 161
        }
      ]
    },
    {
      "cell_type": "markdown",
      "metadata": {
        "id": "1gGCPJzgDsLV"
      },
      "source": [
        "The quatile values indicate that25% of the values fall below 26, 50% of the values fall below and above 35, and 75% of the values fall below 48"
      ]
    },
    {
      "cell_type": "code",
      "metadata": {
        "colab": {
          "base_uri": "https://localhost:8080/"
        },
        "id": "qmZSDkwczGCR",
        "outputId": "a74a3fb2-5f1e-478e-f19f-a7e1379e21f7"
      },
      "source": [
        "# Calculating the interquatile range\r\n",
        "Q3 = financial_df['age'].quantile(0.75)\r\n",
        "Q1 =financial_df['age'].quantile(0.25)\r\n",
        "\r\n",
        "Q3-Q1"
      ],
      "execution_count": 162,
      "outputs": [
        {
          "output_type": "execute_result",
          "data": {
            "text/plain": [
              "22.0"
            ]
          },
          "metadata": {
            "tags": []
          },
          "execution_count": 162
        }
      ]
    },
    {
      "cell_type": "markdown",
      "metadata": {
        "id": "bk62k8WOEMP9"
      },
      "source": [
        "The range between the middle 50% of the values is 22"
      ]
    },
    {
      "cell_type": "code",
      "metadata": {
        "colab": {
          "base_uri": "https://localhost:8080/"
        },
        "id": "keJhb17pzdXF",
        "outputId": "dda97cea-734b-4d0a-afe5-f0d419b6add7"
      },
      "source": [
        "# Calculating the skewness \r\n",
        "financial_df['age'].skew()"
      ],
      "execution_count": 163,
      "outputs": [
        {
          "output_type": "execute_result",
          "data": {
            "text/plain": [
              "0.7409568877240711"
            ]
          },
          "metadata": {
            "tags": []
          },
          "execution_count": 163
        }
      ]
    },
    {
      "cell_type": "markdown",
      "metadata": {
        "id": "fJ16H-TdH0hj"
      },
      "source": [
        "0.74 skewness means that the tail on the right side is longer than on the left side and that the mean is greater than the mode"
      ]
    },
    {
      "cell_type": "code",
      "metadata": {
        "colab": {
          "base_uri": "https://localhost:8080/"
        },
        "id": "fGQzGfXQ3_ld",
        "outputId": "ac61ed00-e2a2-4aeb-fa16-79473461248e"
      },
      "source": [
        "# Calculating the kurtosis\r\n",
        "financial_df['age'].kurt()"
      ],
      "execution_count": 164,
      "outputs": [
        {
          "output_type": "execute_result",
          "data": {
            "text/plain": [
              "-0.23371796802058498"
            ]
          },
          "metadata": {
            "tags": []
          },
          "execution_count": 164
        }
      ]
    },
    {
      "cell_type": "markdown",
      "metadata": {
        "id": "2vDEverJFmAi"
      },
      "source": [
        "-0.23 kurtosis means that the distribution has thinner tails than in a normal distribution has fewer values in is shorter tails"
      ]
    },
    {
      "cell_type": "markdown",
      "metadata": {
        "id": "a9RsLsYEyrxm"
      },
      "source": [
        "###### Household size "
      ]
    },
    {
      "cell_type": "code",
      "metadata": {
        "colab": {
          "base_uri": "https://localhost:8080/"
        },
        "id": "nwkw6huxy3Lu",
        "outputId": "4964d910-51f6-4716-9af7-010d7dba3ee4"
      },
      "source": [
        "# Calculating the standard deviation\r\n",
        "financial_df['household_size'].std()"
      ],
      "execution_count": 165,
      "outputs": [
        {
          "output_type": "execute_result",
          "data": {
            "text/plain": [
              "2.078044253802465"
            ]
          },
          "metadata": {
            "tags": []
          },
          "execution_count": 165
        }
      ]
    },
    {
      "cell_type": "markdown",
      "metadata": {
        "id": "lZEhvB2HIIeV"
      },
      "source": [
        "A standard deviation of 2.07 indicates that the values are close to the mean"
      ]
    },
    {
      "cell_type": "code",
      "metadata": {
        "colab": {
          "base_uri": "https://localhost:8080/"
        },
        "id": "s0LMHSK24QMs",
        "outputId": "e6940cfb-b3fa-4f7e-bbe9-adc8b08357cf"
      },
      "source": [
        "# Calculating the variance\r\n",
        "financial_df['household_size'].var()"
      ],
      "execution_count": 166,
      "outputs": [
        {
          "output_type": "execute_result",
          "data": {
            "text/plain": [
              "4.3182679207614445"
            ]
          },
          "metadata": {
            "tags": []
          },
          "execution_count": 166
        }
      ]
    },
    {
      "cell_type": "markdown",
      "metadata": {
        "id": "1l-sLInmIgXa"
      },
      "source": [
        "A variance of 4.31 means that the values are not so spread out from one another"
      ]
    },
    {
      "cell_type": "code",
      "metadata": {
        "colab": {
          "base_uri": "https://localhost:8080/"
        },
        "id": "p2El05-X4ey4",
        "outputId": "b022c591-a8eb-49fe-f72b-61a7b435465d"
      },
      "source": [
        "# Calculating the range\r\n",
        "max_household_size = financial_df['household_size'].max()\r\n",
        "min_household_size = financial_df['household_size'].min()\r\n",
        "\r\n",
        "max_household_size - min_household_size"
      ],
      "execution_count": 168,
      "outputs": [
        {
          "output_type": "execute_result",
          "data": {
            "text/plain": [
              "8.0"
            ]
          },
          "metadata": {
            "tags": []
          },
          "execution_count": 168
        }
      ]
    },
    {
      "cell_type": "markdown",
      "metadata": {
        "id": "hpN7vdsSIscP"
      },
      "source": [
        "The range value shows that the length/difference between the maximum value of and minimum value of household size is 8"
      ]
    },
    {
      "cell_type": "code",
      "metadata": {
        "colab": {
          "base_uri": "https://localhost:8080/"
        },
        "id": "WgQ3yy_U4TwI",
        "outputId": "fbd83392-e209-4619-9bf4-5da93ba84bf2"
      },
      "source": [
        "# Calculating the quantiles\r\n",
        "financial_df['household_size'].quantile([0.25, 0.5, 0.75])"
      ],
      "execution_count": 169,
      "outputs": [
        {
          "output_type": "execute_result",
          "data": {
            "text/plain": [
              "0.25    2.0\n",
              "0.50    3.0\n",
              "0.75    5.0\n",
              "Name: household_size, dtype: float64"
            ]
          },
          "metadata": {
            "tags": []
          },
          "execution_count": 169
        }
      ]
    },
    {
      "cell_type": "markdown",
      "metadata": {
        "id": "5sb_WNLSJFzq"
      },
      "source": [
        "The quatiles values indicate that 25% of the values fall below 2, 50% of the values fall below and above 3, and 75% of the values fall below 5 "
      ]
    },
    {
      "cell_type": "code",
      "metadata": {
        "colab": {
          "base_uri": "https://localhost:8080/"
        },
        "id": "VdY2XMcJ4WmN",
        "outputId": "ce4dbcf1-68cb-4620-cc7b-a6f17ca08996"
      },
      "source": [
        "# Calculating the interquantile range\r\n",
        "Q3 = financial_df['household_size'].quantile(0.75)\r\n",
        "Q1 = financial_df['household_size'].quantile(0.25)\r\n",
        "\r\n",
        "Q3-Q1"
      ],
      "execution_count": 171,
      "outputs": [
        {
          "output_type": "execute_result",
          "data": {
            "text/plain": [
              "3.0"
            ]
          },
          "metadata": {
            "tags": []
          },
          "execution_count": 171
        }
      ]
    },
    {
      "cell_type": "markdown",
      "metadata": {
        "id": "oN_Z6zLfKDEx"
      },
      "source": [
        "The range between the middle 50% of the values is 3"
      ]
    },
    {
      "cell_type": "code",
      "metadata": {
        "colab": {
          "base_uri": "https://localhost:8080/"
        },
        "id": "F5uo1Vyp4lYs",
        "outputId": "80eff39f-a5ea-4987-c9ef-49b88cd7d229"
      },
      "source": [
        "# Calculating the skewness\r\n",
        "financial_df['household_size'].skew()"
      ],
      "execution_count": 172,
      "outputs": [
        {
          "output_type": "execute_result",
          "data": {
            "text/plain": [
              "0.6089019273573075"
            ]
          },
          "metadata": {
            "tags": []
          },
          "execution_count": 172
        }
      ]
    },
    {
      "cell_type": "markdown",
      "metadata": {
        "id": "1TbpQBKUKesn"
      },
      "source": [
        "0.61 skewness means that the tail on the right side is longer than on the left side and that the mean is greater than the mode"
      ]
    },
    {
      "cell_type": "code",
      "metadata": {
        "colab": {
          "base_uri": "https://localhost:8080/"
        },
        "id": "Zni7oO5o4ozX",
        "outputId": "2cddfa07-27df-4c42-a87a-1e0e54a54de6"
      },
      "source": [
        "# Calculating the kurtosis\r\n",
        "financial_df['household_size'].kurt()"
      ],
      "execution_count": 173,
      "outputs": [
        {
          "output_type": "execute_result",
          "data": {
            "text/plain": [
              "-0.5056159678414698"
            ]
          },
          "metadata": {
            "tags": []
          },
          "execution_count": 173
        }
      ]
    },
    {
      "cell_type": "markdown",
      "metadata": {
        "id": "I49tr4muKR3F"
      },
      "source": [
        "-0.51 kurtosis means that the distribution has thinner tails than in a normal distribution has fewer values in is shorter tails"
      ]
    },
    {
      "cell_type": "markdown",
      "metadata": {
        "id": "qwQWwXQhlVSa"
      },
      "source": [
        "##### Visualizations of distributions of numerical variables"
      ]
    },
    {
      "cell_type": "markdown",
      "metadata": {
        "id": "8Ym1B5vkltsC"
      },
      "source": [
        "###### Age"
      ]
    },
    {
      "cell_type": "code",
      "metadata": {
        "colab": {
          "base_uri": "https://localhost:8080/",
          "height": 316
        },
        "id": "K8uJHKQrls8b",
        "outputId": "b78a43a7-f8e7-46f1-854a-47107bbd6808"
      },
      "source": [
        "# Creating a histogram to visualize the age distribution of individuals in the sample population\r\n",
        "\r\n",
        "# Assigning the age column to variable ages\r\n",
        "ages = financial_df['age']\r\n",
        "\r\n",
        "# plotting a histogram\r\n",
        "plt.hist(ages, bins=10, histtype='bar', rwidth=0.9)\r\n",
        "# labelling and formatting the x axis\r\n",
        "plt.xlabel('Number of Individuals', fontsize=14, labelpad=15)\r\n",
        "# labelling and formatting the y axis\r\n",
        "plt.ylabel('Age', fontsize=14, labelpad=15)\r\n",
        "# labelling and formatting the title\r\n",
        "plt.title('Age Distribution of Individuals in the Sample Population', fontsize=15, y=1.015)\r\n",
        "# displaying the histogram\r\n",
        "plt.show()"
      ],
      "execution_count": 146,
      "outputs": [
        {
          "output_type": "display_data",
          "data": {
            "image/png": "[encoded data removed]",
            "text/plain": [
              "<Figure size 432x288 with 1 Axes>"
            ]
          },
          "metadata": {
            "tags": [],
            "needs_background": "light"
          }
        }
      ]
    },
    {
      "cell_type": "markdown",
      "metadata": {
        "id": "uQWhzz6Du3zl"
      },
      "source": [
        "The right-skewed histogram shows that the mode of the ages of the individuals in the sample population is closer to the left of the graph and smaller than the mean or/and the median and the mean is greater than the median or/and the mode"
      ]
    },
    {
      "cell_type": "markdown",
      "metadata": {
        "id": "YmBoPWZPoTPo"
      },
      "source": [
        "###### Household size"
      ]
    },
    {
      "cell_type": "code",
      "metadata": {
        "colab": {
          "base_uri": "https://localhost:8080/",
          "height": 288
        },
        "id": "G98KgIlGoSFY",
        "outputId": "cc11767b-aa42-4c62-f6c8-3934df6c3bbe"
      },
      "source": [
        "# Creating a box plot to visualize the distribution of household size of the individuals in the sample population\r\n",
        "\r\n",
        "# Plotting the boxplot\r\n",
        "financial_df.boxplot(['household_size'], grid=False)\r\n",
        "# labelling and formatting the y axis\r\n",
        "plt.ylabel('Household Size', fontsize=14, labelpad=15)\r\n",
        "# labelling and formatting the title\r\n",
        "plt.title('Age Distribution of Individuals in the Sample Population', fontsize=15, y=1.015)\r\n",
        "# displaying the histogram\r\n",
        "plt.show()"
      ],
      "execution_count": 156,
      "outputs": [
        {
          "output_type": "display_data",
          "data": {
            "image/png": "[encoded data removed]",
            "text/plain": [
              "<Figure size 432x288 with 1 Axes>"
            ]
          },
          "metadata": {
            "tags": [],
            "needs_background": "light"
          }
        }
      ]
    },
    {
      "cell_type": "markdown",
      "metadata": {
        "id": "2CAinNx-uJnC"
      },
      "source": [
        "The box plot shows that the minimum household size is 1, the maximum is 9, 25% of the household sizes fall below 2, 25% of the household sizes fall above 5 and the median household size is 3\r\n"
      ]
    },
    {
      "cell_type": "markdown",
      "metadata": {
        "id": "xWC9GiZ99meJ"
      },
      "source": [
        "### b. Bivariate analysis"
      ]
    },
    {
      "cell_type": "markdown",
      "metadata": {
        "id": "iRhAIJZ7Ltwq"
      },
      "source": [
        "#### i. Numerical to numerical"
      ]
    },
    {
      "cell_type": "code",
      "metadata": {
        "id": "Ebmc8HtY1p4s",
        "colab": {
          "base_uri": "https://localhost:8080/",
          "height": 300
        },
        "outputId": "01dd1d26-df85-44b4-8b35-d05a5997544b"
      },
      "source": [
        "#Calculating pearson correlation of numerical variables\r\n",
        "pearson_corr = with_account.corr()\r\n",
        "\r\n",
        "# Plotting a correlation heat map\r\n",
        "sns.heatmap(pearson_corr, xticklabels=pearson_corr.columns, yticklabels=pearson_corr.columns, annot=True)\r\n",
        "\r\n",
        "plt.title('Pearson Correlation ')"
      ],
      "execution_count": 174,
      "outputs": [
        {
          "output_type": "execute_result",
          "data": {
            "text/plain": [
              "Text(0.5, 1.0, 'Pearson Correlation ')"
            ]
          },
          "metadata": {
            "tags": []
          },
          "execution_count": 174
        },
        {
          "output_type": "display_data",
          "data": {
            "image/png": "[encoded data removed]",
            "text/plain": [
              "<Figure size 432x288 with 2 Axes>"
            ]
          },
          "metadata": {
            "tags": [],
            "needs_background": "light"
          }
        }
      ]
    },
    {
      "cell_type": "markdown",
      "metadata": {
        "id": "bFeM0TiUzwJI"
      },
      "source": [
        "A pearson coefficient of 0.027 means that household size and age of respondents have no correlation.  "
      ]
    },
    {
      "cell_type": "markdown",
      "metadata": {
        "id": "MN9RyYoM9rdO"
      },
      "source": [
        "### c. Multivariate analysis"
      ]
    },
    {
      "cell_type": "markdown",
      "metadata": {
        "id": "JgJlXXLU9v6l"
      },
      "source": [
        "## 8. Implementing the Solutions"
      ]
    },
    {
      "cell_type": "markdown",
      "metadata": {
        "id": "h8CWpIJY-yef"
      },
      "source": [
        ""
      ]
    },
    {
      "cell_type": "markdown",
      "metadata": {
        "id": "dMocC2Za94qq"
      },
      "source": [
        "## 9. Challenging the Solution"
      ]
    },
    {
      "cell_type": "markdown",
      "metadata": {
        "id": "U9lDnQ2v-vZM"
      },
      "source": [
        "Insights "
      ]
    },
    {
      "cell_type": "markdown",
      "metadata": {
        "id": "thLpoDCG-B4v"
      },
      "source": [
        "## 10. Follow up Questions "
      ]
    }
  ]
}